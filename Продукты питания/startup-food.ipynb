{
 "cells": [
  {
   "cell_type": "markdown",
   "metadata": {},
   "source": [
    "# Исследование для стартапа, который продаёт продукты питания.\n",
    "**Нужно разобраться, как ведут себя пользователи нашего мобильного приложения.**"
   ]
  },
  {
   "cell_type": "markdown",
   "metadata": {},
   "source": [
    "**Цель исследования:**"
   ]
  },
  {
   "cell_type": "markdown",
   "metadata": {},
   "source": [
    "\n",
    "- Изучить воронку продаж. Узнаем, как пользователи доходят до покупки.\\\n",
    "Сколько пользователей доходит до покупки, а сколько — «застревает» на предыдущих шагах?\\\n",
    "На каких именно?\n",
    "-После этого исследуем результаты A/A/B-эксперимента.\\\n",
    "Дизайнеры захотели поменять шрифты во всём приложении, а менеджеры испугались, что пользователям будет непривычно. Договорились принять решение по результатам A/A/B-теста. Пользователей разбили на 3 группы: 2 контрольные со старыми шрифтами и одну экспериментальную — с новыми. Выясним, какой шрифт лучше.\n",
    "-Создание двух групп A вместо одной имеет определённые преимущества.\\\n",
    "Если две контрольные группы окажутся равны, мы можем быть уверены в точности проведенного тестирования. Если же между значениями A и A будут существенные различия, это поможет обнаружить факторы, которые привели к искажению результатов. Сравнение контрольных групп также помогает понять, сколько времени и данных потребуется для дальнейших тестов."
   ]
  },
  {
   "cell_type": "markdown",
   "metadata": {},
   "source": [
    "Для исследование мне был предоставн датасет **logs_exp.csv** — хранит логи пользователей о взаимосдействии с платформой."
   ]
  },
  {
   "cell_type": "markdown",
   "metadata": {},
   "source": [
    "Каждая запись в логе — это действие пользователя, или событие: \n",
    "- **EventName** — название события;\n",
    "- **DeviceIDHash** — уникальный идентификатор пользователя;\n",
    "- **EventTimestamp** — время события;\n",
    "- **ExpId** — номер эксперимента: 246 и 247 — контрольные группы, а 248 — экспериментальная."
   ]
  },
  {
   "cell_type": "markdown",
   "metadata": {},
   "source": [
    "## Откроем файл с данными и изучим общую информацию"
   ]
  },
  {
   "cell_type": "markdown",
   "metadata": {},
   "source": [
    "Вносим необходимые бибилотеки"
   ]
  },
  {
   "cell_type": "code",
   "execution_count": 1,
   "metadata": {},
   "outputs": [],
   "source": [
    "import pandas as pd\n",
    "import seaborn as sns \n",
    "import matplotlib.pyplot as plt\n",
    "from scipy import stats as st\n",
    "import scipy.stats as stats\n",
    "import warnings\n",
    "import numpy as np\n",
    "from datetime import datetime, timedelta\n",
    "from pandas.plotting import register_matplotlib_converters\n",
    "import datetime as dt\n",
    "import math as mth\n",
    "# — тире для себя"
   ]
  },
  {
   "cell_type": "markdown",
   "metadata": {},
   "source": [
    "**Изучим датасет**"
   ]
  },
  {
   "cell_type": "code",
   "execution_count": 2,
   "metadata": {},
   "outputs": [
    {
     "data": {
      "text/html": [
       "<div>\n",
       "<style scoped>\n",
       "    .dataframe tbody tr th:only-of-type {\n",
       "        vertical-align: middle;\n",
       "    }\n",
       "\n",
       "    .dataframe tbody tr th {\n",
       "        vertical-align: top;\n",
       "    }\n",
       "\n",
       "    .dataframe thead th {\n",
       "        text-align: right;\n",
       "    }\n",
       "</style>\n",
       "<table border=\"1\" class=\"dataframe\">\n",
       "  <thead>\n",
       "    <tr style=\"text-align: right;\">\n",
       "      <th></th>\n",
       "      <th>EventName</th>\n",
       "      <th>DeviceIDHash</th>\n",
       "      <th>EventTimestamp</th>\n",
       "      <th>ExpId</th>\n",
       "    </tr>\n",
       "  </thead>\n",
       "  <tbody>\n",
       "    <tr>\n",
       "      <th>0</th>\n",
       "      <td>MainScreenAppear</td>\n",
       "      <td>4575588528974610257</td>\n",
       "      <td>1564029816</td>\n",
       "      <td>246</td>\n",
       "    </tr>\n",
       "    <tr>\n",
       "      <th>1</th>\n",
       "      <td>MainScreenAppear</td>\n",
       "      <td>7416695313311560658</td>\n",
       "      <td>1564053102</td>\n",
       "      <td>246</td>\n",
       "    </tr>\n",
       "    <tr>\n",
       "      <th>2</th>\n",
       "      <td>PaymentScreenSuccessful</td>\n",
       "      <td>3518123091307005509</td>\n",
       "      <td>1564054127</td>\n",
       "      <td>248</td>\n",
       "    </tr>\n",
       "    <tr>\n",
       "      <th>3</th>\n",
       "      <td>CartScreenAppear</td>\n",
       "      <td>3518123091307005509</td>\n",
       "      <td>1564054127</td>\n",
       "      <td>248</td>\n",
       "    </tr>\n",
       "    <tr>\n",
       "      <th>4</th>\n",
       "      <td>PaymentScreenSuccessful</td>\n",
       "      <td>6217807653094995999</td>\n",
       "      <td>1564055322</td>\n",
       "      <td>248</td>\n",
       "    </tr>\n",
       "    <tr>\n",
       "      <th>5</th>\n",
       "      <td>CartScreenAppear</td>\n",
       "      <td>6217807653094995999</td>\n",
       "      <td>1564055323</td>\n",
       "      <td>248</td>\n",
       "    </tr>\n",
       "    <tr>\n",
       "      <th>6</th>\n",
       "      <td>OffersScreenAppear</td>\n",
       "      <td>8351860793733343758</td>\n",
       "      <td>1564066242</td>\n",
       "      <td>246</td>\n",
       "    </tr>\n",
       "    <tr>\n",
       "      <th>7</th>\n",
       "      <td>MainScreenAppear</td>\n",
       "      <td>5682100281902512875</td>\n",
       "      <td>1564085677</td>\n",
       "      <td>246</td>\n",
       "    </tr>\n",
       "    <tr>\n",
       "      <th>8</th>\n",
       "      <td>MainScreenAppear</td>\n",
       "      <td>1850981295691852772</td>\n",
       "      <td>1564086702</td>\n",
       "      <td>247</td>\n",
       "    </tr>\n",
       "    <tr>\n",
       "      <th>9</th>\n",
       "      <td>MainScreenAppear</td>\n",
       "      <td>5407636962369102641</td>\n",
       "      <td>1564112112</td>\n",
       "      <td>246</td>\n",
       "    </tr>\n",
       "  </tbody>\n",
       "</table>\n",
       "</div>"
      ],
      "text/plain": [
       "                 EventName         DeviceIDHash  EventTimestamp  ExpId\n",
       "0         MainScreenAppear  4575588528974610257      1564029816    246\n",
       "1         MainScreenAppear  7416695313311560658      1564053102    246\n",
       "2  PaymentScreenSuccessful  3518123091307005509      1564054127    248\n",
       "3         CartScreenAppear  3518123091307005509      1564054127    248\n",
       "4  PaymentScreenSuccessful  6217807653094995999      1564055322    248\n",
       "5         CartScreenAppear  6217807653094995999      1564055323    248\n",
       "6       OffersScreenAppear  8351860793733343758      1564066242    246\n",
       "7         MainScreenAppear  5682100281902512875      1564085677    246\n",
       "8         MainScreenAppear  1850981295691852772      1564086702    247\n",
       "9         MainScreenAppear  5407636962369102641      1564112112    246"
      ]
     },
     "execution_count": 2,
     "metadata": {},
     "output_type": "execute_result"
    }
   ],
   "source": [
    "data = pd.read_csv('/datasets/logs_exp.csv',sep='\\t')\n",
    "data.head(10)"
   ]
  },
  {
   "cell_type": "code",
   "execution_count": 3,
   "metadata": {
    "scrolled": true
   },
   "outputs": [
    {
     "name": "stdout",
     "output_type": "stream",
     "text": [
      "<class 'pandas.core.frame.DataFrame'>\n",
      "RangeIndex: 244126 entries, 0 to 244125\n",
      "Data columns (total 4 columns):\n",
      " #   Column          Non-Null Count   Dtype \n",
      "---  ------          --------------   ----- \n",
      " 0   EventName       244126 non-null  object\n",
      " 1   DeviceIDHash    244126 non-null  int64 \n",
      " 2   EventTimestamp  244126 non-null  int64 \n",
      " 3   ExpId           244126 non-null  int64 \n",
      "dtypes: int64(3), object(1)\n",
      "memory usage: 7.5+ MB\n"
     ]
    }
   ],
   "source": [
    "data.info()"
   ]
  },
  {
   "cell_type": "code",
   "execution_count": 4,
   "metadata": {},
   "outputs": [
    {
     "data": {
      "text/plain": [
       "EventName         0\n",
       "DeviceIDHash      0\n",
       "EventTimestamp    0\n",
       "ExpId             0\n",
       "dtype: int64"
      ]
     },
     "execution_count": 4,
     "metadata": {},
     "output_type": "execute_result"
    }
   ],
   "source": [
    "data.isna().sum()"
   ]
  },
  {
   "cell_type": "markdown",
   "metadata": {},
   "source": [
    "**Вывод: Датасет хороший, но надо немного поменять названия стобцов и сменить формат даты, а так же добавить отдельный столбец только с датой**"
   ]
  },
  {
   "cell_type": "markdown",
   "metadata": {},
   "source": [
    "## Подготовка данных"
   ]
  },
  {
   "cell_type": "markdown",
   "metadata": {},
   "source": [
    "**Переименую столбцы в удобные**"
   ]
  },
  {
   "cell_type": "code",
   "execution_count": 5,
   "metadata": {},
   "outputs": [],
   "source": [
    "data = data.rename(columns= {'EventName': 'event_name', 'DeviceIDHash': 'user_id', 'EventTimestamp': 'event_time','ExpId': 'group' })"
   ]
  },
  {
   "cell_type": "markdown",
   "metadata": {},
   "source": [
    "**Поменяю формат времени и добавлю новый столбец только с датой**"
   ]
  },
  {
   "cell_type": "code",
   "execution_count": 6,
   "metadata": {},
   "outputs": [],
   "source": [
    "data['event_time'] = pd.to_datetime(data['event_time'], unit='s')\n",
    "data['event_date'] = data['event_time'].astype('datetime64[D]')"
   ]
  },
  {
   "cell_type": "code",
   "execution_count": 7,
   "metadata": {
    "scrolled": true
   },
   "outputs": [
    {
     "data": {
      "text/html": [
       "<div>\n",
       "<style scoped>\n",
       "    .dataframe tbody tr th:only-of-type {\n",
       "        vertical-align: middle;\n",
       "    }\n",
       "\n",
       "    .dataframe tbody tr th {\n",
       "        vertical-align: top;\n",
       "    }\n",
       "\n",
       "    .dataframe thead th {\n",
       "        text-align: right;\n",
       "    }\n",
       "</style>\n",
       "<table border=\"1\" class=\"dataframe\">\n",
       "  <thead>\n",
       "    <tr style=\"text-align: right;\">\n",
       "      <th></th>\n",
       "      <th>event_name</th>\n",
       "      <th>user_id</th>\n",
       "      <th>event_time</th>\n",
       "      <th>group</th>\n",
       "      <th>event_date</th>\n",
       "    </tr>\n",
       "  </thead>\n",
       "  <tbody>\n",
       "    <tr>\n",
       "      <th>0</th>\n",
       "      <td>MainScreenAppear</td>\n",
       "      <td>4575588528974610257</td>\n",
       "      <td>2019-07-25 04:43:36</td>\n",
       "      <td>246</td>\n",
       "      <td>2019-07-25</td>\n",
       "    </tr>\n",
       "    <tr>\n",
       "      <th>1</th>\n",
       "      <td>MainScreenAppear</td>\n",
       "      <td>7416695313311560658</td>\n",
       "      <td>2019-07-25 11:11:42</td>\n",
       "      <td>246</td>\n",
       "      <td>2019-07-25</td>\n",
       "    </tr>\n",
       "    <tr>\n",
       "      <th>2</th>\n",
       "      <td>PaymentScreenSuccessful</td>\n",
       "      <td>3518123091307005509</td>\n",
       "      <td>2019-07-25 11:28:47</td>\n",
       "      <td>248</td>\n",
       "      <td>2019-07-25</td>\n",
       "    </tr>\n",
       "    <tr>\n",
       "      <th>3</th>\n",
       "      <td>CartScreenAppear</td>\n",
       "      <td>3518123091307005509</td>\n",
       "      <td>2019-07-25 11:28:47</td>\n",
       "      <td>248</td>\n",
       "      <td>2019-07-25</td>\n",
       "    </tr>\n",
       "    <tr>\n",
       "      <th>4</th>\n",
       "      <td>PaymentScreenSuccessful</td>\n",
       "      <td>6217807653094995999</td>\n",
       "      <td>2019-07-25 11:48:42</td>\n",
       "      <td>248</td>\n",
       "      <td>2019-07-25</td>\n",
       "    </tr>\n",
       "    <tr>\n",
       "      <th>5</th>\n",
       "      <td>CartScreenAppear</td>\n",
       "      <td>6217807653094995999</td>\n",
       "      <td>2019-07-25 11:48:43</td>\n",
       "      <td>248</td>\n",
       "      <td>2019-07-25</td>\n",
       "    </tr>\n",
       "    <tr>\n",
       "      <th>6</th>\n",
       "      <td>OffersScreenAppear</td>\n",
       "      <td>8351860793733343758</td>\n",
       "      <td>2019-07-25 14:50:42</td>\n",
       "      <td>246</td>\n",
       "      <td>2019-07-25</td>\n",
       "    </tr>\n",
       "    <tr>\n",
       "      <th>7</th>\n",
       "      <td>MainScreenAppear</td>\n",
       "      <td>5682100281902512875</td>\n",
       "      <td>2019-07-25 20:14:37</td>\n",
       "      <td>246</td>\n",
       "      <td>2019-07-25</td>\n",
       "    </tr>\n",
       "    <tr>\n",
       "      <th>8</th>\n",
       "      <td>MainScreenAppear</td>\n",
       "      <td>1850981295691852772</td>\n",
       "      <td>2019-07-25 20:31:42</td>\n",
       "      <td>247</td>\n",
       "      <td>2019-07-25</td>\n",
       "    </tr>\n",
       "    <tr>\n",
       "      <th>9</th>\n",
       "      <td>MainScreenAppear</td>\n",
       "      <td>5407636962369102641</td>\n",
       "      <td>2019-07-26 03:35:12</td>\n",
       "      <td>246</td>\n",
       "      <td>2019-07-26</td>\n",
       "    </tr>\n",
       "  </tbody>\n",
       "</table>\n",
       "</div>"
      ],
      "text/plain": [
       "                event_name              user_id          event_time  group  \\\n",
       "0         MainScreenAppear  4575588528974610257 2019-07-25 04:43:36    246   \n",
       "1         MainScreenAppear  7416695313311560658 2019-07-25 11:11:42    246   \n",
       "2  PaymentScreenSuccessful  3518123091307005509 2019-07-25 11:28:47    248   \n",
       "3         CartScreenAppear  3518123091307005509 2019-07-25 11:28:47    248   \n",
       "4  PaymentScreenSuccessful  6217807653094995999 2019-07-25 11:48:42    248   \n",
       "5         CartScreenAppear  6217807653094995999 2019-07-25 11:48:43    248   \n",
       "6       OffersScreenAppear  8351860793733343758 2019-07-25 14:50:42    246   \n",
       "7         MainScreenAppear  5682100281902512875 2019-07-25 20:14:37    246   \n",
       "8         MainScreenAppear  1850981295691852772 2019-07-25 20:31:42    247   \n",
       "9         MainScreenAppear  5407636962369102641 2019-07-26 03:35:12    246   \n",
       "\n",
       "  event_date  \n",
       "0 2019-07-25  \n",
       "1 2019-07-25  \n",
       "2 2019-07-25  \n",
       "3 2019-07-25  \n",
       "4 2019-07-25  \n",
       "5 2019-07-25  \n",
       "6 2019-07-25  \n",
       "7 2019-07-25  \n",
       "8 2019-07-25  \n",
       "9 2019-07-26  "
      ]
     },
     "execution_count": 7,
     "metadata": {},
     "output_type": "execute_result"
    }
   ],
   "source": [
    "data.head(10)"
   ]
  },
  {
   "cell_type": "code",
   "execution_count": 8,
   "metadata": {},
   "outputs": [
    {
     "data": {
      "text/plain": [
       "413"
      ]
     },
     "execution_count": 8,
     "metadata": {},
     "output_type": "execute_result"
    }
   ],
   "source": [
    "data.duplicated().sum()"
   ]
  },
  {
   "cell_type": "code",
   "execution_count": 9,
   "metadata": {
    "scrolled": true
   },
   "outputs": [],
   "source": [
    "datd = data.drop_duplicates(inplace=True)"
   ]
  },
  {
   "cell_type": "code",
   "execution_count": 10,
   "metadata": {},
   "outputs": [
    {
     "data": {
      "text/plain": [
       "0"
      ]
     },
     "execution_count": 10,
     "metadata": {},
     "output_type": "execute_result"
    }
   ],
   "source": [
    "data.duplicated().sum()"
   ]
  },
  {
   "cell_type": "code",
   "execution_count": 11,
   "metadata": {},
   "outputs": [
    {
     "data": {
      "text/plain": [
       "7551"
      ]
     },
     "execution_count": 11,
     "metadata": {},
     "output_type": "execute_result"
    }
   ],
   "source": [
    "data.groupby('group').agg({'user_id': 'nunique'}).sum()[0]"
   ]
  },
  {
   "cell_type": "code",
   "execution_count": 12,
   "metadata": {
    "scrolled": true
   },
   "outputs": [
    {
     "data": {
      "text/plain": [
       "7551"
      ]
     },
     "execution_count": 12,
     "metadata": {},
     "output_type": "execute_result"
    }
   ],
   "source": [
    "data['user_id'].nunique()"
   ]
  },
  {
   "cell_type": "markdown",
   "metadata": {},
   "source": [
    "**Вывод: Конечный результат меня устраивает**"
   ]
  },
  {
   "cell_type": "markdown",
   "metadata": {},
   "source": [
    "## Изучим и проверьте данные"
   ]
  },
  {
   "cell_type": "markdown",
   "metadata": {},
   "source": [
    "### Сколько всего событий в логе?"
   ]
  },
  {
   "cell_type": "code",
   "execution_count": 13,
   "metadata": {},
   "outputs": [
    {
     "name": "stdout",
     "output_type": "stream",
     "text": [
      "Всего событий: 243713\n"
     ]
    }
   ],
   "source": [
    "print('Всего событий:', data['event_name'].count())"
   ]
  },
  {
   "cell_type": "code",
   "execution_count": 14,
   "metadata": {},
   "outputs": [
    {
     "name": "stdout",
     "output_type": "stream",
     "text": [
      "Уникальных событий: 5\n"
     ]
    }
   ],
   "source": [
    "print('Уникальных событий:', data['event_name'].nunique())"
   ]
  },
  {
   "cell_type": "markdown",
   "metadata": {},
   "source": [
    "**Вывод: Всего 244 126 событий и 5 уникальных**"
   ]
  },
  {
   "cell_type": "markdown",
   "metadata": {},
   "source": [
    "### Сколько всего пользователей в логе?"
   ]
  },
  {
   "cell_type": "code",
   "execution_count": 15,
   "metadata": {},
   "outputs": [
    {
     "name": "stdout",
     "output_type": "stream",
     "text": [
      "Уникальных пользователей: 7551\n"
     ]
    }
   ],
   "source": [
    "print('Уникальных пользователей:',data['user_id'].nunique())"
   ]
  },
  {
   "cell_type": "markdown",
   "metadata": {},
   "source": [
    "**Вывод: Всего 7551 пользователей**"
   ]
  },
  {
   "cell_type": "markdown",
   "metadata": {},
   "source": [
    "### Сколько в среднем событий приходится на пользователя?"
   ]
  },
  {
   "cell_type": "code",
   "execution_count": 16,
   "metadata": {
    "scrolled": true
   },
   "outputs": [
    {
     "data": {
      "text/plain": [
       "32"
      ]
     },
     "execution_count": 16,
     "metadata": {},
     "output_type": "execute_result"
    }
   ],
   "source": [
    "round(data['user_id'].value_counts().mean())"
   ]
  },
  {
   "cell_type": "code",
   "execution_count": 17,
   "metadata": {},
   "outputs": [
    {
     "data": {
      "text/plain": [
       "20"
      ]
     },
     "execution_count": 17,
     "metadata": {},
     "output_type": "execute_result"
    }
   ],
   "source": [
    "round(data['user_id'].value_counts().median()) #медианное значение, значительно меньше"
   ]
  },
  {
   "cell_type": "markdown",
   "metadata": {},
   "source": [
    "**Вывод: В среднем на одного пользователя приходится 32 события**"
   ]
  },
  {
   "cell_type": "markdown",
   "metadata": {},
   "source": [
    "### Найти максимальную и минимальную дату, проверить данными за какой период я обладаю"
   ]
  },
  {
   "cell_type": "code",
   "execution_count": 18,
   "metadata": {},
   "outputs": [
    {
     "data": {
      "text/plain": [
       "Timestamp('2019-08-07 00:00:00')"
      ]
     },
     "execution_count": 18,
     "metadata": {},
     "output_type": "execute_result"
    }
   ],
   "source": [
    "data['event_date'].max()"
   ]
  },
  {
   "cell_type": "code",
   "execution_count": 19,
   "metadata": {},
   "outputs": [
    {
     "data": {
      "text/plain": [
       "Timestamp('2019-07-25 00:00:00')"
      ]
     },
     "execution_count": 19,
     "metadata": {},
     "output_type": "execute_result"
    }
   ],
   "source": [
    "data['event_date'].min()"
   ]
  },
  {
   "cell_type": "code",
   "execution_count": 20,
   "metadata": {},
   "outputs": [
    {
     "data": {
      "image/png": "[encoded data removed]",
      "text/plain": [
       "<Figure size 864x432 with 1 Axes>"
      ]
     },
     "metadata": {
      "needs_background": "light"
     },
     "output_type": "display_data"
    }
   ],
   "source": [
    "plt.figure(figsize=(12,6))\n",
    "data['event_date'].hist()\n",
    "plt.title('Гистограмма дат и колличества действий')\n",
    "plt.ylabel('Количество действий')\n",
    "plt.xlabel('Даты')\n",
    "plt.xticks(rotation=45)\n",
    "plt.show()"
   ]
  },
  {
   "cell_type": "markdown",
   "metadata": {},
   "source": [
    "**Вывод: Я располагаю данными с 25 июля по 7 августа 2019 года, по графику мы видим, что большинство данных есть только в промежутке с 1 августа, их мы и возьмём**"
   ]
  },
  {
   "cell_type": "code",
   "execution_count": 21,
   "metadata": {
    "scrolled": true
   },
   "outputs": [
    {
     "data": {
      "text/plain": [
       "-1.16"
      ]
     },
     "execution_count": 21,
     "metadata": {},
     "output_type": "execute_result"
    }
   ],
   "source": [
    "data_new = data[data['event_date']>='2019-08-01']\n",
    "round(((data_new['event_date'].count()/data['event_date'].count()*100)-100), 2)"
   ]
  },
  {
   "cell_type": "code",
   "execution_count": 22,
   "metadata": {},
   "outputs": [
    {
     "data": {
      "text/plain": [
       "-0.23"
      ]
     },
     "execution_count": 22,
     "metadata": {},
     "output_type": "execute_result"
    }
   ],
   "source": [
    "round(((data_new['user_id'].nunique()/data['user_id'].nunique()*100)-100), 2)"
   ]
  },
  {
   "cell_type": "code",
   "execution_count": 23,
   "metadata": {
    "scrolled": true
   },
   "outputs": [
    {
     "name": "stdout",
     "output_type": "stream",
     "text": [
      "Колличество пользователей после фильтрации: 7534\n",
      "Колличество уникальных пользователей сократилось на: 17\n"
     ]
    }
   ],
   "source": [
    "print('Колличество пользователей после фильтрации:', data_new['user_id'].nunique())\n",
    "print('Колличество уникальных пользователей сократилось на:',data['user_id'].nunique() - data_new['user_id'].nunique())"
   ]
  },
  {
   "cell_type": "code",
   "execution_count": 24,
   "metadata": {},
   "outputs": [
    {
     "name": "stdout",
     "output_type": "stream",
     "text": [
      "Колличество событий сократилось на: 2826\n"
     ]
    }
   ],
   "source": [
    "print('Колличество событий сократилось на:',data['event_name'].count() - data_new['event_name'].count())"
   ]
  },
  {
   "cell_type": "markdown",
   "metadata": {},
   "source": [
    "**Вывод: Мы потеряли лишь 1.16% данных и 0.23% уникальных пользователей, из них 17 пользователей и 2826 событий**"
   ]
  },
  {
   "cell_type": "markdown",
   "metadata": {},
   "source": [
    "### Проверим есть ли у нас пользователи из всех трёх экспериментальных групп."
   ]
  },
  {
   "cell_type": "code",
   "execution_count": 25,
   "metadata": {},
   "outputs": [
    {
     "data": {
      "text/html": [
       "<div>\n",
       "<style scoped>\n",
       "    .dataframe tbody tr th:only-of-type {\n",
       "        vertical-align: middle;\n",
       "    }\n",
       "\n",
       "    .dataframe tbody tr th {\n",
       "        vertical-align: top;\n",
       "    }\n",
       "\n",
       "    .dataframe thead th {\n",
       "        text-align: right;\n",
       "    }\n",
       "</style>\n",
       "<table border=\"1\" class=\"dataframe\">\n",
       "  <thead>\n",
       "    <tr style=\"text-align: right;\">\n",
       "      <th></th>\n",
       "      <th>Группа</th>\n",
       "      <th>Уникальные пользователи</th>\n",
       "    </tr>\n",
       "  </thead>\n",
       "  <tbody>\n",
       "    <tr>\n",
       "      <th>0</th>\n",
       "      <td>246</td>\n",
       "      <td>2484</td>\n",
       "    </tr>\n",
       "    <tr>\n",
       "      <th>1</th>\n",
       "      <td>247</td>\n",
       "      <td>2513</td>\n",
       "    </tr>\n",
       "    <tr>\n",
       "      <th>2</th>\n",
       "      <td>248</td>\n",
       "      <td>2537</td>\n",
       "    </tr>\n",
       "  </tbody>\n",
       "</table>\n",
       "</div>"
      ],
      "text/plain": [
       "   Группа  Уникальные пользователи\n",
       "0     246                     2484\n",
       "1     247                     2513\n",
       "2     248                     2537"
      ]
     },
     "execution_count": 25,
     "metadata": {},
     "output_type": "execute_result"
    }
   ],
   "source": [
    "report = data_new.groupby('group').agg({'user_id': 'nunique'}).reset_index()\n",
    "report.columns = ['Группа', 'Уникальные пользователи']\n",
    "report"
   ]
  },
  {
   "cell_type": "markdown",
   "metadata": {},
   "source": [
    "**Вывод: Да, пользователей достаточно**"
   ]
  },
  {
   "cell_type": "markdown",
   "metadata": {},
   "source": [
    "## Изучим воронку событий"
   ]
  },
  {
   "cell_type": "markdown",
   "metadata": {},
   "source": [
    "###  Какие события есть в логах, как часто они встречаются."
   ]
  },
  {
   "cell_type": "code",
   "execution_count": 26,
   "metadata": {},
   "outputs": [
    {
     "data": {
      "text/html": [
       "<div>\n",
       "<style scoped>\n",
       "    .dataframe tbody tr th:only-of-type {\n",
       "        vertical-align: middle;\n",
       "    }\n",
       "\n",
       "    .dataframe tbody tr th {\n",
       "        vertical-align: top;\n",
       "    }\n",
       "\n",
       "    .dataframe thead th {\n",
       "        text-align: right;\n",
       "    }\n",
       "</style>\n",
       "<table border=\"1\" class=\"dataframe\">\n",
       "  <thead>\n",
       "    <tr style=\"text-align: right;\">\n",
       "      <th></th>\n",
       "      <th>Название Ивента</th>\n",
       "      <th>Колличество событий</th>\n",
       "    </tr>\n",
       "  </thead>\n",
       "  <tbody>\n",
       "    <tr>\n",
       "      <th>1</th>\n",
       "      <td>MainScreenAppear</td>\n",
       "      <td>117328</td>\n",
       "    </tr>\n",
       "    <tr>\n",
       "      <th>2</th>\n",
       "      <td>OffersScreenAppear</td>\n",
       "      <td>46333</td>\n",
       "    </tr>\n",
       "    <tr>\n",
       "      <th>0</th>\n",
       "      <td>CartScreenAppear</td>\n",
       "      <td>42303</td>\n",
       "    </tr>\n",
       "    <tr>\n",
       "      <th>3</th>\n",
       "      <td>PaymentScreenSuccessful</td>\n",
       "      <td>33918</td>\n",
       "    </tr>\n",
       "    <tr>\n",
       "      <th>4</th>\n",
       "      <td>Tutorial</td>\n",
       "      <td>1005</td>\n",
       "    </tr>\n",
       "  </tbody>\n",
       "</table>\n",
       "</div>"
      ],
      "text/plain": [
       "           Название Ивента  Колличество событий\n",
       "1         MainScreenAppear               117328\n",
       "2       OffersScreenAppear                46333\n",
       "0         CartScreenAppear                42303\n",
       "3  PaymentScreenSuccessful                33918\n",
       "4                 Tutorial                 1005"
      ]
     },
     "execution_count": 26,
     "metadata": {},
     "output_type": "execute_result"
    }
   ],
   "source": [
    "report2 = data_new.groupby('event_name').agg({'event_time': 'count'}).reset_index()\n",
    "report2.columns = ['Название Ивента', 'Колличество событий']\n",
    "report2.sort_values(by = 'Колличество событий', ascending = False)"
   ]
  },
  {
   "cell_type": "markdown",
   "metadata": {},
   "source": [
    "**Вывод: Чаще всего пользователи смотрели на Главный экран(ничего удивительного)**"
   ]
  },
  {
   "cell_type": "markdown",
   "metadata": {},
   "source": [
    "### Cколько пользователей совершали каждое из этих событий."
   ]
  },
  {
   "cell_type": "code",
   "execution_count": 27,
   "metadata": {},
   "outputs": [
    {
     "data": {
      "text/html": [
       "<div>\n",
       "<style scoped>\n",
       "    .dataframe tbody tr th:only-of-type {\n",
       "        vertical-align: middle;\n",
       "    }\n",
       "\n",
       "    .dataframe tbody tr th {\n",
       "        vertical-align: top;\n",
       "    }\n",
       "\n",
       "    .dataframe thead th {\n",
       "        text-align: right;\n",
       "    }\n",
       "</style>\n",
       "<table border=\"1\" class=\"dataframe\">\n",
       "  <thead>\n",
       "    <tr style=\"text-align: right;\">\n",
       "      <th></th>\n",
       "      <th>Название Ивента</th>\n",
       "      <th>Колличество пользоватей совершивших его</th>\n",
       "      <th>Доля в %</th>\n",
       "    </tr>\n",
       "  </thead>\n",
       "  <tbody>\n",
       "    <tr>\n",
       "      <th>0</th>\n",
       "      <td>MainScreenAppear</td>\n",
       "      <td>7419</td>\n",
       "      <td>0.98</td>\n",
       "    </tr>\n",
       "    <tr>\n",
       "      <th>1</th>\n",
       "      <td>OffersScreenAppear</td>\n",
       "      <td>4593</td>\n",
       "      <td>0.61</td>\n",
       "    </tr>\n",
       "    <tr>\n",
       "      <th>2</th>\n",
       "      <td>CartScreenAppear</td>\n",
       "      <td>3734</td>\n",
       "      <td>0.50</td>\n",
       "    </tr>\n",
       "    <tr>\n",
       "      <th>3</th>\n",
       "      <td>PaymentScreenSuccessful</td>\n",
       "      <td>3539</td>\n",
       "      <td>0.47</td>\n",
       "    </tr>\n",
       "    <tr>\n",
       "      <th>4</th>\n",
       "      <td>Tutorial</td>\n",
       "      <td>840</td>\n",
       "      <td>0.11</td>\n",
       "    </tr>\n",
       "  </tbody>\n",
       "</table>\n",
       "</div>"
      ],
      "text/plain": [
       "           Название Ивента  Колличество пользоватей совершивших его  Доля в %\n",
       "0         MainScreenAppear                                     7419      0.98\n",
       "1       OffersScreenAppear                                     4593      0.61\n",
       "2         CartScreenAppear                                     3734      0.50\n",
       "3  PaymentScreenSuccessful                                     3539      0.47\n",
       "4                 Tutorial                                      840      0.11"
      ]
     },
     "execution_count": 27,
     "metadata": {},
     "output_type": "execute_result"
    }
   ],
   "source": [
    "report3 = (data_new.groupby('event_name').agg({'user_id': 'nunique'}).sort_values(by = 'user_id', ascending = False)).reset_index() \n",
    "report3['users_share'] = round(report3['user_id']/data_new['user_id'].nunique(), 2)\n",
    "report3.columns = ['Название Ивента', 'Колличество пользоватей совершивших его', \"Доля в %\"]\n",
    "report3"
   ]
  },
  {
   "cell_type": "markdown",
   "metadata": {},
   "source": [
    "**Вывод: Очевидно, что большинство людей сначала побывали на Главном экране, и очень мало людей прошли туториал(обучение)**"
   ]
  },
  {
   "cell_type": "markdown",
   "metadata": {},
   "source": [
    "### Предположим, в каком порядке происходят события."
   ]
  },
  {
   "cell_type": "markdown",
   "metadata": {},
   "source": [
    "**Согласно, результату выше, предположить последовательность можно просто соотнести колличество переходов(или взаимодействие).**\\\n",
    "**В итоге:**\n",
    " - **1  MainScreenAppear** — главный экран\n",
    " - **2  OffersScreenAppear** — экран товара(предложения)\n",
    " - **3  CartScreenAppear** — корзина\n",
    " - **4  PaymentScreenSuccessful** — покупки товара\n",
    " - **5  Tutorial** — обучение"
   ]
  },
  {
   "cell_type": "markdown",
   "metadata": {},
   "source": [
    "**Вывод: Так как *Tutorial* имеет меньше всего переходов, его можно исключить, для более подробного анализа**"
   ]
  },
  {
   "cell_type": "code",
   "execution_count": 28,
   "metadata": {},
   "outputs": [],
   "source": [
    "event_group = data_new[data_new['event_name'] != 'Tutorial'] #убрали Tutorial"
   ]
  },
  {
   "cell_type": "code",
   "execution_count": 29,
   "metadata": {},
   "outputs": [
    {
     "data": {
      "text/plain": [
       "array(['MainScreenAppear', 'OffersScreenAppear', 'CartScreenAppear',\n",
       "       'PaymentScreenSuccessful'], dtype=object)"
      ]
     },
     "execution_count": 29,
     "metadata": {},
     "output_type": "execute_result"
    }
   ],
   "source": [
    "event_group['event_name'].unique()"
   ]
  },
  {
   "cell_type": "markdown",
   "metadata": {},
   "source": [
    "### По воронке событий посчитаем, какая доля пользователей проходит на следующий шаг воронки. То есть для последовательности событий A → B → C."
   ]
  },
  {
   "cell_type": "code",
   "execution_count": 30,
   "metadata": {},
   "outputs": [
    {
     "data": {
      "text/html": [
       "<div>\n",
       "<style scoped>\n",
       "    .dataframe tbody tr th:only-of-type {\n",
       "        vertical-align: middle;\n",
       "    }\n",
       "\n",
       "    .dataframe tbody tr th {\n",
       "        vertical-align: top;\n",
       "    }\n",
       "\n",
       "    .dataframe thead th {\n",
       "        text-align: right;\n",
       "    }\n",
       "</style>\n",
       "<table border=\"1\" class=\"dataframe\">\n",
       "  <thead>\n",
       "    <tr style=\"text-align: right;\">\n",
       "      <th></th>\n",
       "      <th>Название Ивента</th>\n",
       "      <th>Колличество пользоватей совершивших его</th>\n",
       "      <th>Доля в %</th>\n",
       "    </tr>\n",
       "  </thead>\n",
       "  <tbody>\n",
       "    <tr>\n",
       "      <th>0</th>\n",
       "      <td>MainScreenAppear</td>\n",
       "      <td>7419</td>\n",
       "      <td>0.99</td>\n",
       "    </tr>\n",
       "    <tr>\n",
       "      <th>1</th>\n",
       "      <td>OffersScreenAppear</td>\n",
       "      <td>4593</td>\n",
       "      <td>0.61</td>\n",
       "    </tr>\n",
       "    <tr>\n",
       "      <th>2</th>\n",
       "      <td>CartScreenAppear</td>\n",
       "      <td>3734</td>\n",
       "      <td>0.50</td>\n",
       "    </tr>\n",
       "    <tr>\n",
       "      <th>3</th>\n",
       "      <td>PaymentScreenSuccessful</td>\n",
       "      <td>3539</td>\n",
       "      <td>0.47</td>\n",
       "    </tr>\n",
       "  </tbody>\n",
       "</table>\n",
       "</div>"
      ],
      "text/plain": [
       "           Название Ивента  Колличество пользоватей совершивших его  Доля в %\n",
       "0         MainScreenAppear                                     7419      0.99\n",
       "1       OffersScreenAppear                                     4593      0.61\n",
       "2         CartScreenAppear                                     3734      0.50\n",
       "3  PaymentScreenSuccessful                                     3539      0.47"
      ]
     },
     "execution_count": 30,
     "metadata": {},
     "output_type": "execute_result"
    }
   ],
   "source": [
    "report4 = (event_group.groupby('event_name').agg({'user_id': 'nunique'}).sort_values(by = 'user_id', ascending = False)).reset_index() \n",
    "report4['users_share'] = round(report4['user_id']/event_group['user_id'].nunique(), 2)\n",
    "report4.columns = ['Название Ивента', 'Колличество пользоватей совершивших его', \"Доля в %\"]\n",
    "report4"
   ]
  },
  {
   "cell_type": "markdown",
   "metadata": {},
   "source": [
    "**Так как последовательность совпадает, мы может воспользоватся кодом, который был ранее**"
   ]
  },
  {
   "cell_type": "markdown",
   "metadata": {},
   "source": [
    "**Вывод: 99% пользователей посетили главную страницу, 61% побывали на станице товара, добавили в корзину 50% пользователей, а совершили покупку лишь 47% пользователей**"
   ]
  },
  {
   "cell_type": "markdown",
   "metadata": {},
   "source": [
    "### На каком шаге теряете больше всего пользователей?"
   ]
  },
  {
   "cell_type": "markdown",
   "metadata": {},
   "source": [
    "**Согласно таблице выше, больше всего пользователей отваливаются на главной странице, не перейдя на страницу товара**"
   ]
  },
  {
   "cell_type": "markdown",
   "metadata": {},
   "source": [
    "### Какая доля пользователей доходит от первого события до оплаты?"
   ]
  },
  {
   "cell_type": "code",
   "execution_count": 31,
   "metadata": {},
   "outputs": [],
   "source": [
    "pay = event_group.loc[event_group['event_name'] == 'PaymentScreenSuccessful']['user_id']"
   ]
  },
  {
   "cell_type": "code",
   "execution_count": 32,
   "metadata": {},
   "outputs": [
    {
     "data": {
      "text/html": [
       "<div>\n",
       "<style scoped>\n",
       "    .dataframe tbody tr th:only-of-type {\n",
       "        vertical-align: middle;\n",
       "    }\n",
       "\n",
       "    .dataframe tbody tr th {\n",
       "        vertical-align: top;\n",
       "    }\n",
       "\n",
       "    .dataframe thead th {\n",
       "        text-align: right;\n",
       "    }\n",
       "</style>\n",
       "<table border=\"1\" class=\"dataframe\">\n",
       "  <thead>\n",
       "    <tr style=\"text-align: right;\">\n",
       "      <th></th>\n",
       "      <th>event_name</th>\n",
       "      <th>user_id</th>\n",
       "      <th>users_share</th>\n",
       "    </tr>\n",
       "  </thead>\n",
       "  <tbody>\n",
       "    <tr>\n",
       "      <th>0</th>\n",
       "      <td>PaymentScreenSuccessful</td>\n",
       "      <td>3539</td>\n",
       "      <td>0.47</td>\n",
       "    </tr>\n",
       "    <tr>\n",
       "      <th>1</th>\n",
       "      <td>CartScreenAppear</td>\n",
       "      <td>3534</td>\n",
       "      <td>0.47</td>\n",
       "    </tr>\n",
       "    <tr>\n",
       "      <th>2</th>\n",
       "      <td>OffersScreenAppear</td>\n",
       "      <td>3532</td>\n",
       "      <td>0.47</td>\n",
       "    </tr>\n",
       "    <tr>\n",
       "      <th>3</th>\n",
       "      <td>MainScreenAppear</td>\n",
       "      <td>3441</td>\n",
       "      <td>0.46</td>\n",
       "    </tr>\n",
       "  </tbody>\n",
       "</table>\n",
       "</div>"
      ],
      "text/plain": [
       "                event_name  user_id  users_share\n",
       "0  PaymentScreenSuccessful     3539         0.47\n",
       "1         CartScreenAppear     3534         0.47\n",
       "2       OffersScreenAppear     3532         0.47\n",
       "3         MainScreenAppear     3441         0.46"
      ]
     },
     "execution_count": 32,
     "metadata": {},
     "output_type": "execute_result"
    }
   ],
   "source": [
    "report5 = event_group[event_group['user_id'].isin(pay)][['event_name', 'user_id']].groupby('event_name').nunique().sort_values(by ='user_id',ascending = False).reset_index()\n",
    "report5['users_share'] = round(report5['user_id']/event_group['user_id'].nunique(), 2)\n",
    "report5"
   ]
  },
  {
   "cell_type": "markdown",
   "metadata": {},
   "source": [
    "**Вывод: Согласно таблице, только 47% пользователей походит до оплаты товара**"
   ]
  },
  {
   "cell_type": "markdown",
   "metadata": {},
   "source": [
    "##  Изучим результаты эксперимента"
   ]
  },
  {
   "cell_type": "markdown",
   "metadata": {},
   "source": [
    "### Сколько пользователей в каждой экспериментальной группе"
   ]
  },
  {
   "cell_type": "code",
   "execution_count": 33,
   "metadata": {
    "scrolled": true
   },
   "outputs": [
    {
     "data": {
      "text/html": [
       "<div>\n",
       "<style scoped>\n",
       "    .dataframe tbody tr th:only-of-type {\n",
       "        vertical-align: middle;\n",
       "    }\n",
       "\n",
       "    .dataframe tbody tr th {\n",
       "        vertical-align: top;\n",
       "    }\n",
       "\n",
       "    .dataframe thead th {\n",
       "        text-align: right;\n",
       "    }\n",
       "</style>\n",
       "<table border=\"1\" class=\"dataframe\">\n",
       "  <thead>\n",
       "    <tr style=\"text-align: right;\">\n",
       "      <th></th>\n",
       "      <th>Группа</th>\n",
       "      <th>Уникальные пользователи</th>\n",
       "    </tr>\n",
       "  </thead>\n",
       "  <tbody>\n",
       "    <tr>\n",
       "      <th>0</th>\n",
       "      <td>246</td>\n",
       "      <td>2484</td>\n",
       "    </tr>\n",
       "    <tr>\n",
       "      <th>1</th>\n",
       "      <td>247</td>\n",
       "      <td>2513</td>\n",
       "    </tr>\n",
       "    <tr>\n",
       "      <th>2</th>\n",
       "      <td>248</td>\n",
       "      <td>2537</td>\n",
       "    </tr>\n",
       "  </tbody>\n",
       "</table>\n",
       "</div>"
      ],
      "text/plain": [
       "   Группа  Уникальные пользователи\n",
       "0     246                     2484\n",
       "1     247                     2513\n",
       "2     248                     2537"
      ]
     },
     "execution_count": 33,
     "metadata": {},
     "output_type": "execute_result"
    }
   ],
   "source": [
    "report6 = data_new.groupby('group').agg({'user_id': 'nunique'}).reset_index()\n",
    "report6.columns = ['Группа', 'Уникальные пользователи']\n",
    "report6"
   ]
  },
  {
   "cell_type": "markdown",
   "metadata": {},
   "source": [
    "**В группах:**\n",
    "- \"246\" - 2484 уникальных пользователей\n",
    "- \"247\" - 2513 уникальных пользователей\n",
    "- \"248\" - 2537 уникальных пользователей"
   ]
  },
  {
   "cell_type": "markdown",
   "metadata": {},
   "source": [
    "### Есть 2 контрольные группы для А/А-эксперимента, чтобы проверить корректность всех механизмов и расчётов. Проверим, находят ли статистические критерии разницу между выборками 246 и 247."
   ]
  },
  {
   "cell_type": "markdown",
   "metadata": {},
   "source": [
    "**Так как у нас выборочные доли будут нормально распределены вокруг настоящей, воспользуемся методом norm**"
   ]
  },
  {
   "cell_type": "markdown",
   "metadata": {},
   "source": [
    "Сформулируем гипотезы.\\\n",
    "***Нулевая:***  Статистически значимых различий в долях между группами нет.\\\n",
    "***Альтернативная:*** Статистически значимые различия в долях между группами есть.\\\n",
    "**alpha** = ***0.05***"
   ]
  },
  {
   "cell_type": "code",
   "execution_count": 34,
   "metadata": {},
   "outputs": [
    {
     "name": "stdout",
     "output_type": "stream",
     "text": [
      "p-значение:  0.12044299485641763\n",
      "Не получилось отвергнуть нулевую гипотезу, между долями разницы нет\n"
     ]
    }
   ],
   "source": [
    "#сделаем массив данных для группы 246\n",
    "ex_group_246 = data_new.query('group == 246')\n",
    "group_246 = ex_group_246.groupby('event_name').agg({'user_id':'nunique'}).sort_values(by = 'user_id', ascending = False)\n",
    " \n",
    "#сделаем массив данных для группы 247\n",
    "ex_group_247 = data_new.query('group == 247')\n",
    "group_247 = ex_group_247.groupby('event_name').agg({'user_id':'nunique'}).sort_values(by = 'user_id', ascending = False)\n",
    " \n",
    " \n",
    "alpha = .05 # критический уровень статистической значимости\n",
    " \n",
    "successes_246 = group_246.user_id[3]\n",
    "trials_246 = group_246.user_id[0]\n",
    " \n",
    "successes_247 = group_247.user_id[3]\n",
    "trials_247 = group_247.user_id[0]\n",
    " \n",
    "# пропорция успехов в первой группе:\n",
    "p1_246 = successes_246/trials_246\n",
    " \n",
    "# пропорция успехов во второй группе:\n",
    "p2_247 = successes_247/trials_247\n",
    " \n",
    "# пропорция успехов в комбинированном датасете:\n",
    "p_combined = (successes_246 + successes_247) / (trials_246 + trials_247)\n",
    " \n",
    "# разница пропорций в датасетах\n",
    "difference = p1_246 - p2_247 \n",
    " \n",
    "# считаем статистику в ст.отклонениях стандартного нормального распределения\n",
    "z_value = difference / mth.sqrt(p_combined * (1 - p_combined) * (1/trials_246 + 1/trials_247))\n",
    " \n",
    "# задаем стандартное нормальное распределение (среднее 0, ст.отклонение 1)\n",
    "distr = st.norm(0, 1)  \n",
    " \n",
    "p_value = (1 - distr.cdf(abs(z_value))) * 2\n",
    " \n",
    "print('p-значение: ', p_value)\n",
    " \n",
    "if p_value < alpha:\n",
    "    print('Отвергаем нулевую гипотезу: между долями есть  разница')\n",
    "else:\n",
    "    print(\n",
    "        'Не получилось отвергнуть нулевую гипотезу, между долями разницы нет'\n",
    "    ) "
   ]
  },
  {
   "cell_type": "markdown",
   "metadata": {},
   "source": [
    "**Вывод: Статистически значимых различий между контрольными группами 246 и 247 — нет**"
   ]
  },
  {
   "cell_type": "markdown",
   "metadata": {},
   "source": [
    "### Выберем самое популярное событие. Посчитаем число пользователей, совершивших это событие в каждой из контрольных групп. Посчитаем долю пользователей, совершивших это событие. Проверим, будет ли отличие между группами статистически достоверным. Проделаем то же самое для всех других событий. Можно ли сказать, что разбиение на группы работает корректно?"
   ]
  },
  {
   "cell_type": "markdown",
   "metadata": {},
   "source": [
    "#### Выберем самое популярное событие. Посчитаем число пользователей, совершивших это событие в каждой из контрольных групп. Посчитаем долю пользователей, совершивших это событие."
   ]
  },
  {
   "cell_type": "code",
   "execution_count": 35,
   "metadata": {},
   "outputs": [
    {
     "data": {
      "text/plain": [
       "group\n",
       "246    2483\n",
       "247    2512\n",
       "248    2535\n",
       "a_a    4995\n",
       "Name: user_id, dtype: int64"
      ]
     },
     "execution_count": 35,
     "metadata": {},
     "output_type": "execute_result"
    }
   ],
   "source": [
    "us_groups = event_group.groupby('group')['user_id'].nunique()\n",
    "us_groups['a_a'] = us_groups[246] + us_groups[247]\n",
    "us_groups"
   ]
  },
  {
   "cell_type": "code",
   "execution_count": 36,
   "metadata": {},
   "outputs": [
    {
     "data": {
      "text/html": [
       "<div>\n",
       "<style scoped>\n",
       "    .dataframe tbody tr th:only-of-type {\n",
       "        vertical-align: middle;\n",
       "    }\n",
       "\n",
       "    .dataframe tbody tr th {\n",
       "        vertical-align: top;\n",
       "    }\n",
       "\n",
       "    .dataframe thead th {\n",
       "        text-align: right;\n",
       "    }\n",
       "</style>\n",
       "<table border=\"1\" class=\"dataframe\">\n",
       "  <thead>\n",
       "    <tr style=\"text-align: right;\">\n",
       "      <th>group</th>\n",
       "      <th>event_name</th>\n",
       "      <th>246</th>\n",
       "      <th>247</th>\n",
       "      <th>248</th>\n",
       "      <th>All</th>\n",
       "    </tr>\n",
       "  </thead>\n",
       "  <tbody>\n",
       "    <tr>\n",
       "      <th>0</th>\n",
       "      <td>All</td>\n",
       "      <td>2483</td>\n",
       "      <td>2512</td>\n",
       "      <td>2535</td>\n",
       "      <td>7530</td>\n",
       "    </tr>\n",
       "    <tr>\n",
       "      <th>1</th>\n",
       "      <td>MainScreenAppear</td>\n",
       "      <td>2450</td>\n",
       "      <td>2476</td>\n",
       "      <td>2493</td>\n",
       "      <td>7419</td>\n",
       "    </tr>\n",
       "    <tr>\n",
       "      <th>2</th>\n",
       "      <td>OffersScreenAppear</td>\n",
       "      <td>1542</td>\n",
       "      <td>1520</td>\n",
       "      <td>1531</td>\n",
       "      <td>4593</td>\n",
       "    </tr>\n",
       "    <tr>\n",
       "      <th>3</th>\n",
       "      <td>CartScreenAppear</td>\n",
       "      <td>1266</td>\n",
       "      <td>1238</td>\n",
       "      <td>1230</td>\n",
       "      <td>3734</td>\n",
       "    </tr>\n",
       "    <tr>\n",
       "      <th>4</th>\n",
       "      <td>PaymentScreenSuccessful</td>\n",
       "      <td>1200</td>\n",
       "      <td>1158</td>\n",
       "      <td>1181</td>\n",
       "      <td>3539</td>\n",
       "    </tr>\n",
       "  </tbody>\n",
       "</table>\n",
       "</div>"
      ],
      "text/plain": [
       "group               event_name   246   247   248   All\n",
       "0                          All  2483  2512  2535  7530\n",
       "1             MainScreenAppear  2450  2476  2493  7419\n",
       "2           OffersScreenAppear  1542  1520  1531  4593\n",
       "3             CartScreenAppear  1266  1238  1230  3734\n",
       "4      PaymentScreenSuccessful  1200  1158  1181  3539"
      ]
     },
     "execution_count": 36,
     "metadata": {},
     "output_type": "execute_result"
    }
   ],
   "source": [
    "group = event_group.pivot_table(index='event_name', values='user_id', columns='group', margins=True, aggfunc='nunique').sort_values(248, ascending = False).reset_index()\n",
    "group.head()"
   ]
  },
  {
   "cell_type": "code",
   "execution_count": 37,
   "metadata": {},
   "outputs": [
    {
     "data": {
      "text/html": [
       "<div>\n",
       "<style scoped>\n",
       "    .dataframe tbody tr th:only-of-type {\n",
       "        vertical-align: middle;\n",
       "    }\n",
       "\n",
       "    .dataframe tbody tr th {\n",
       "        vertical-align: top;\n",
       "    }\n",
       "\n",
       "    .dataframe thead th {\n",
       "        text-align: right;\n",
       "    }\n",
       "</style>\n",
       "<table border=\"1\" class=\"dataframe\">\n",
       "  <thead>\n",
       "    <tr style=\"text-align: right;\">\n",
       "      <th>group</th>\n",
       "      <th>246</th>\n",
       "      <th>247</th>\n",
       "      <th>248</th>\n",
       "      <th>a_a</th>\n",
       "    </tr>\n",
       "    <tr>\n",
       "      <th>event_name</th>\n",
       "      <th></th>\n",
       "      <th></th>\n",
       "      <th></th>\n",
       "      <th></th>\n",
       "    </tr>\n",
       "  </thead>\n",
       "  <tbody>\n",
       "    <tr>\n",
       "      <th>All</th>\n",
       "      <td>2483</td>\n",
       "      <td>2512</td>\n",
       "      <td>2535</td>\n",
       "      <td>4995</td>\n",
       "    </tr>\n",
       "    <tr>\n",
       "      <th>MainScreenAppear</th>\n",
       "      <td>2450</td>\n",
       "      <td>2476</td>\n",
       "      <td>2493</td>\n",
       "      <td>4926</td>\n",
       "    </tr>\n",
       "    <tr>\n",
       "      <th>OffersScreenAppear</th>\n",
       "      <td>1542</td>\n",
       "      <td>1520</td>\n",
       "      <td>1531</td>\n",
       "      <td>3062</td>\n",
       "    </tr>\n",
       "    <tr>\n",
       "      <th>CartScreenAppear</th>\n",
       "      <td>1266</td>\n",
       "      <td>1238</td>\n",
       "      <td>1230</td>\n",
       "      <td>2504</td>\n",
       "    </tr>\n",
       "    <tr>\n",
       "      <th>PaymentScreenSuccessful</th>\n",
       "      <td>1200</td>\n",
       "      <td>1158</td>\n",
       "      <td>1181</td>\n",
       "      <td>2358</td>\n",
       "    </tr>\n",
       "  </tbody>\n",
       "</table>\n",
       "</div>"
      ],
      "text/plain": [
       "group                     246   247   248   a_a\n",
       "event_name                                     \n",
       "All                      2483  2512  2535  4995\n",
       "MainScreenAppear         2450  2476  2493  4926\n",
       "OffersScreenAppear       1542  1520  1531  3062\n",
       "CartScreenAppear         1266  1238  1230  2504\n",
       "PaymentScreenSuccessful  1200  1158  1181  2358"
      ]
     },
     "execution_count": 37,
     "metadata": {},
     "output_type": "execute_result"
    }
   ],
   "source": [
    "group['a_a'] = group[246] + group[247] #Комбинированная А/А группа\n",
    "group = group.drop(columns='All')\n",
    "group = group.set_index('event_name')\n",
    "group"
   ]
  },
  {
   "cell_type": "code",
   "execution_count": 38,
   "metadata": {},
   "outputs": [
    {
     "data": {
      "text/html": [
       "<div>\n",
       "<style scoped>\n",
       "    .dataframe tbody tr th:only-of-type {\n",
       "        vertical-align: middle;\n",
       "    }\n",
       "\n",
       "    .dataframe tbody tr th {\n",
       "        vertical-align: top;\n",
       "    }\n",
       "\n",
       "    .dataframe thead th {\n",
       "        text-align: right;\n",
       "    }\n",
       "</style>\n",
       "<table border=\"1\" class=\"dataframe\">\n",
       "  <thead>\n",
       "    <tr style=\"text-align: right;\">\n",
       "      <th>group</th>\n",
       "      <th>246</th>\n",
       "      <th>247</th>\n",
       "      <th>248</th>\n",
       "      <th>a_a</th>\n",
       "      <th>share_246</th>\n",
       "      <th>share_247</th>\n",
       "      <th>share_248</th>\n",
       "      <th>share_a_a</th>\n",
       "    </tr>\n",
       "    <tr>\n",
       "      <th>event_name</th>\n",
       "      <th></th>\n",
       "      <th></th>\n",
       "      <th></th>\n",
       "      <th></th>\n",
       "      <th></th>\n",
       "      <th></th>\n",
       "      <th></th>\n",
       "      <th></th>\n",
       "    </tr>\n",
       "  </thead>\n",
       "  <tbody>\n",
       "    <tr>\n",
       "      <th>All</th>\n",
       "      <td>2483</td>\n",
       "      <td>2512</td>\n",
       "      <td>2535</td>\n",
       "      <td>4995</td>\n",
       "      <td>100.00</td>\n",
       "      <td>100.00</td>\n",
       "      <td>100.00</td>\n",
       "      <td>100.00</td>\n",
       "    </tr>\n",
       "    <tr>\n",
       "      <th>MainScreenAppear</th>\n",
       "      <td>2450</td>\n",
       "      <td>2476</td>\n",
       "      <td>2493</td>\n",
       "      <td>4926</td>\n",
       "      <td>98.67</td>\n",
       "      <td>98.57</td>\n",
       "      <td>98.34</td>\n",
       "      <td>98.62</td>\n",
       "    </tr>\n",
       "    <tr>\n",
       "      <th>OffersScreenAppear</th>\n",
       "      <td>1542</td>\n",
       "      <td>1520</td>\n",
       "      <td>1531</td>\n",
       "      <td>3062</td>\n",
       "      <td>62.10</td>\n",
       "      <td>60.51</td>\n",
       "      <td>60.39</td>\n",
       "      <td>61.30</td>\n",
       "    </tr>\n",
       "    <tr>\n",
       "      <th>CartScreenAppear</th>\n",
       "      <td>1266</td>\n",
       "      <td>1238</td>\n",
       "      <td>1230</td>\n",
       "      <td>2504</td>\n",
       "      <td>50.99</td>\n",
       "      <td>49.28</td>\n",
       "      <td>48.52</td>\n",
       "      <td>50.13</td>\n",
       "    </tr>\n",
       "    <tr>\n",
       "      <th>PaymentScreenSuccessful</th>\n",
       "      <td>1200</td>\n",
       "      <td>1158</td>\n",
       "      <td>1181</td>\n",
       "      <td>2358</td>\n",
       "      <td>48.33</td>\n",
       "      <td>46.10</td>\n",
       "      <td>46.59</td>\n",
       "      <td>47.21</td>\n",
       "    </tr>\n",
       "  </tbody>\n",
       "</table>\n",
       "</div>"
      ],
      "text/plain": [
       "group                     246   247   248   a_a  share_246  share_247  \\\n",
       "event_name                                                              \n",
       "All                      2483  2512  2535  4995     100.00     100.00   \n",
       "MainScreenAppear         2450  2476  2493  4926      98.67      98.57   \n",
       "OffersScreenAppear       1542  1520  1531  3062      62.10      60.51   \n",
       "CartScreenAppear         1266  1238  1230  2504      50.99      49.28   \n",
       "PaymentScreenSuccessful  1200  1158  1181  2358      48.33      46.10   \n",
       "\n",
       "group                    share_248  share_a_a  \n",
       "event_name                                     \n",
       "All                         100.00     100.00  \n",
       "MainScreenAppear             98.34      98.62  \n",
       "OffersScreenAppear           60.39      61.30  \n",
       "CartScreenAppear             48.52      50.13  \n",
       "PaymentScreenSuccessful      46.59      47.21  "
      ]
     },
     "execution_count": 38,
     "metadata": {},
     "output_type": "execute_result"
    }
   ],
   "source": [
    "group['share_246'] = round((group[246] / group[246][0]*100), 2)\n",
    "group['share_247'] = round((group[247] / group[247][0]*100), 2)\n",
    "group['share_248'] = round((group[248] / group[248][0]*100), 2)\n",
    "group['share_a_a'] = round((group['a_a'] / group['a_a'][0]*100), 2)\n",
    "group"
   ]
  },
  {
   "cell_type": "markdown",
   "metadata": {},
   "source": [
    "**Вывод: Итого, мы получаем - самое популярное событие по группам это MainScreenAppear(главный экран), доли по группам:**\n",
    " - 246 — 98.67%\n",
    " - 247 — 98.57%\n",
    " - 248 — 98.34%\n",
    " - А/А — 98.62%"
   ]
  },
  {
   "cell_type": "markdown",
   "metadata": {},
   "source": [
    "#### Проверим, будет ли отличие между группами статистически достоверным. Проделаем то же самое для всех других событий. Можно ли сказать, что разбиение на группы работает корректно?"
   ]
  },
  {
   "cell_type": "markdown",
   "metadata": {},
   "source": [
    "**Напишем функцию для проведения Z теста**"
   ]
  },
  {
   "cell_type": "markdown",
   "metadata": {},
   "source": [
    "Сформулируем гипотезы(Работает на все последующие тесты).\\\n",
    "***Нулевая:***  Статистически значимых различий в долях между группами нет.\\\n",
    "***Альтернативная:*** Статистически значимые различия в долях между группами есть.\\\n",
    "**alpha** = ***0.05***"
   ]
  },
  {
   "cell_type": "code",
   "execution_count": 39,
   "metadata": {},
   "outputs": [
    {
     "data": {
      "text/html": [
       "<div>\n",
       "<style scoped>\n",
       "    .dataframe tbody tr th:only-of-type {\n",
       "        vertical-align: middle;\n",
       "    }\n",
       "\n",
       "    .dataframe tbody tr th {\n",
       "        vertical-align: top;\n",
       "    }\n",
       "\n",
       "    .dataframe thead th {\n",
       "        text-align: right;\n",
       "    }\n",
       "</style>\n",
       "<table border=\"1\" class=\"dataframe\">\n",
       "  <thead>\n",
       "    <tr style=\"text-align: right;\">\n",
       "      <th>group</th>\n",
       "      <th>246</th>\n",
       "      <th>247</th>\n",
       "      <th>248</th>\n",
       "      <th>a_a</th>\n",
       "    </tr>\n",
       "    <tr>\n",
       "      <th>event_name</th>\n",
       "      <th></th>\n",
       "      <th></th>\n",
       "      <th></th>\n",
       "      <th></th>\n",
       "    </tr>\n",
       "  </thead>\n",
       "  <tbody>\n",
       "    <tr>\n",
       "      <th>MainScreenAppear</th>\n",
       "      <td>2450</td>\n",
       "      <td>2476</td>\n",
       "      <td>2493</td>\n",
       "      <td>4926</td>\n",
       "    </tr>\n",
       "    <tr>\n",
       "      <th>OffersScreenAppear</th>\n",
       "      <td>1542</td>\n",
       "      <td>1520</td>\n",
       "      <td>1531</td>\n",
       "      <td>3062</td>\n",
       "    </tr>\n",
       "    <tr>\n",
       "      <th>CartScreenAppear</th>\n",
       "      <td>1266</td>\n",
       "      <td>1238</td>\n",
       "      <td>1230</td>\n",
       "      <td>2504</td>\n",
       "    </tr>\n",
       "    <tr>\n",
       "      <th>PaymentScreenSuccessful</th>\n",
       "      <td>1200</td>\n",
       "      <td>1158</td>\n",
       "      <td>1181</td>\n",
       "      <td>2358</td>\n",
       "    </tr>\n",
       "  </tbody>\n",
       "</table>\n",
       "</div>"
      ],
      "text/plain": [
       "group                     246   247   248   a_a\n",
       "event_name                                     \n",
       "MainScreenAppear         2450  2476  2493  4926\n",
       "OffersScreenAppear       1542  1520  1531  3062\n",
       "CartScreenAppear         1266  1238  1230  2504\n",
       "PaymentScreenSuccessful  1200  1158  1181  2358"
      ]
     },
     "execution_count": 39,
     "metadata": {},
     "output_type": "execute_result"
    }
   ],
   "source": [
    "group = event_group.pivot_table(index='event_name', values='user_id', columns='group', aggfunc='nunique').sort_values(248, ascending = False)\n",
    "group['a_a'] = group[246] + group[247]\n",
    "group.head()"
   ]
  },
  {
   "cell_type": "code",
   "execution_count": 40,
   "metadata": {},
   "outputs": [],
   "source": [
    "def z_test(group1, group2, alpha):\n",
    "    \n",
    "    for i in group.index:\n",
    "       \n",
    "        # пропорция успехов в первой группе\n",
    "        p1 = group[group1][i] / us_groups[group1]\n",
    "        # пропорция успехов во второй группе:\n",
    "        p2 = group[group2][i] / us_groups[group2]\n",
    "        # пропорция успехов в комбинированном датасете\n",
    "        p_combined = ((group[group1][i] + group[group2][i]) / (us_groups[group1] + us_groups[group2]))\n",
    "        \n",
    "        # разница пропорций в датасетах\n",
    "        difference = p1 - p2\n",
    "        # считаем статистику в ст.отклонениях стандартного нормального распределения\n",
    "        z_value = difference / mth.sqrt(p_combined * (1 - p_combined) * (1/us_groups[group1] + 1/us_groups[group2]))\n",
    "        \n",
    "        # задаем стандартное нормальное распределение (среднее 0, ст.отклонение 1)\n",
    "        distr = st.norm(0, 1)\n",
    "        \n",
    "        p_value = (1 - distr.cdf(abs(z_value))) * 2\n",
    "        \n",
    "        \n",
    "        print('Группы {} и {}.Событие — {}. P-значение — {:.2f}. Уровень значимости — {}'.format(group1, group2, i, p_value, alpha))\n",
    "        if p_value < alpha:\n",
    "            print('Отвергаем нулевую гипотезу: между долями есть значимая разница')\n",
    "        else:\n",
    "            print('Не получилось отвергнуть нулевую гипотезу, нет оснований считать доли разными')"
   ]
  },
  {
   "cell_type": "code",
   "execution_count": 41,
   "metadata": {},
   "outputs": [
    {
     "name": "stdout",
     "output_type": "stream",
     "text": [
      "Группы 246 и 247.Событие — MainScreenAppear. P-значение — 0.75. Уровень значимости — 0.05\n",
      "Не получилось отвергнуть нулевую гипотезу, нет оснований считать доли разными\n",
      "Группы 246 и 247.Событие — OffersScreenAppear. P-значение — 0.25. Уровень значимости — 0.05\n",
      "Не получилось отвергнуть нулевую гипотезу, нет оснований считать доли разными\n",
      "Группы 246 и 247.Событие — CartScreenAppear. P-значение — 0.23. Уровень значимости — 0.05\n",
      "Не получилось отвергнуть нулевую гипотезу, нет оснований считать доли разными\n",
      "Группы 246 и 247.Событие — PaymentScreenSuccessful. P-значение — 0.11. Уровень значимости — 0.05\n",
      "Не получилось отвергнуть нулевую гипотезу, нет оснований считать доли разными\n"
     ]
    }
   ],
   "source": [
    "z_test(246, 247, 0.05)"
   ]
  },
  {
   "cell_type": "markdown",
   "metadata": {},
   "source": [
    "**Вывод: при сравнении двух А/А групп мы наблюдаем - отсутствие различия ключевых метрик между группами, которые видят абсолютно одинаковые версии продукта. Соответсвенно, разбиение на группы работает корректно.**"
   ]
  },
  {
   "cell_type": "markdown",
   "metadata": {},
   "source": [
    "#### Аналогично поступим с группой с изменённым шрифтом. Сравним результаты с каждой из контрольных групп в отдельности по каждому событию. Сравним результаты с объединённой контрольной группой."
   ]
  },
  {
   "cell_type": "code",
   "execution_count": 42,
   "metadata": {},
   "outputs": [
    {
     "name": "stdout",
     "output_type": "stream",
     "text": [
      "Группы 246 и 248.Событие — MainScreenAppear. P-значение — 0.34. Уровень значимости — 0.05\n",
      "Не получилось отвергнуть нулевую гипотезу, нет оснований считать доли разными\n",
      "Группы 246 и 248.Событие — OffersScreenAppear. P-значение — 0.21. Уровень значимости — 0.05\n",
      "Не получилось отвергнуть нулевую гипотезу, нет оснований считать доли разными\n",
      "Группы 246 и 248.Событие — CartScreenAppear. P-значение — 0.08. Уровень значимости — 0.05\n",
      "Не получилось отвергнуть нулевую гипотезу, нет оснований считать доли разными\n",
      "Группы 246 и 248.Событие — PaymentScreenSuccessful. P-значение — 0.22. Уровень значимости — 0.05\n",
      "Не получилось отвергнуть нулевую гипотезу, нет оснований считать доли разными\n"
     ]
    }
   ],
   "source": [
    "z_test(246, 248, 0.05)"
   ]
  },
  {
   "cell_type": "code",
   "execution_count": 43,
   "metadata": {},
   "outputs": [
    {
     "name": "stdout",
     "output_type": "stream",
     "text": [
      "Группы 247 и 248.Событие — MainScreenAppear. P-значение — 0.52. Уровень значимости — 0.05\n",
      "Не получилось отвергнуть нулевую гипотезу, нет оснований считать доли разными\n",
      "Группы 247 и 248.Событие — OffersScreenAppear. P-значение — 0.93. Уровень значимости — 0.05\n",
      "Не получилось отвергнуть нулевую гипотезу, нет оснований считать доли разными\n",
      "Группы 247 и 248.Событие — CartScreenAppear. P-значение — 0.59. Уровень значимости — 0.05\n",
      "Не получилось отвергнуть нулевую гипотезу, нет оснований считать доли разными\n",
      "Группы 247 и 248.Событие — PaymentScreenSuccessful. P-значение — 0.73. Уровень значимости — 0.05\n",
      "Не получилось отвергнуть нулевую гипотезу, нет оснований считать доли разными\n"
     ]
    }
   ],
   "source": [
    "z_test(247, 248, 0.05)"
   ]
  },
  {
   "cell_type": "code",
   "execution_count": 44,
   "metadata": {},
   "outputs": [
    {
     "name": "stdout",
     "output_type": "stream",
     "text": [
      "Группы a_a и 248.Событие — MainScreenAppear. P-значение — 0.35. Уровень значимости — 0.05\n",
      "Не получилось отвергнуть нулевую гипотезу, нет оснований считать доли разными\n",
      "Группы a_a и 248.Событие — OffersScreenAppear. P-значение — 0.45. Уровень значимости — 0.05\n",
      "Не получилось отвергнуть нулевую гипотезу, нет оснований считать доли разными\n",
      "Группы a_a и 248.Событие — CartScreenAppear. P-значение — 0.19. Уровень значимости — 0.05\n",
      "Не получилось отвергнуть нулевую гипотезу, нет оснований считать доли разными\n",
      "Группы a_a и 248.Событие — PaymentScreenSuccessful. P-значение — 0.61. Уровень значимости — 0.05\n",
      "Не получилось отвергнуть нулевую гипотезу, нет оснований считать доли разными\n"
     ]
    }
   ],
   "source": [
    "z_test(\"a_a\", 248, 0.05)"
   ]
  },
  {
   "cell_type": "markdown",
   "metadata": {},
   "source": [
    "**Вывод:**\n",
    "- Нет оснований считать группы 246-248 теста разными.\n",
    "- Нет оснований считать группы 247-248 теста разными.\n",
    "- Нет оснований считать группы А/А-248 теста разными. "
   ]
  },
  {
   "cell_type": "code",
   "execution_count": 45,
   "metadata": {},
   "outputs": [],
   "source": [
    "def zz_test(group1, group2, alpha):\n",
    "    \n",
    "    for i in group.index:\n",
    "       \n",
    "        # пропорция успехов в первой группе\n",
    "        p1 = group[group1][i] / us_groups[group1]\n",
    "        # пропорция успехов во второй группе:\n",
    "        p2 = group[group2][i] / us_groups[group2]\n",
    "        # пропорция успехов в комбинированном датасете\n",
    "        p_combined = ((group[group1][i] + group[group2][i]) / (us_groups[group1] + us_groups[group2]))\n",
    "        \n",
    "        # разница пропорций в датасетах\n",
    "        difference = p1 - p2\n",
    "        # считаем статистику в ст.отклонениях стандартного нормального распределения\n",
    "        z_value = difference / mth.sqrt(p_combined * (1 - p_combined) * (1/us_groups[group1] + 1/us_groups[group2]))\n",
    "        \n",
    "        # задаем стандартное нормальное распределение (среднее 0, ст.отклонение 1)\n",
    "        distr = st.norm(0, 1)\n",
    "        \n",
    "        p_value = (1 - distr.cdf(abs(z_value))) * 2\n",
    "        \n",
    "        bonferroni_alpha = alpha / 16\n",
    "        \n",
    "        print ('p_value —', round(p_value, 2), 'с поправкой Бонферрони {}, событие — {}.'.format(bonferroni_alpha, i))\n",
    "        if p_value < (bonferroni_alpha):\n",
    "            print('Отвергаем нулевую гипотезу: между долями есть значимая разница')\n",
    "        else:\n",
    "            print('Не получилось отвергнуть нулевую гипотезу, нет оснований считать доли разными')\n",
    "        \n",
    "        "
   ]
  },
  {
   "cell_type": "code",
   "execution_count": 46,
   "metadata": {},
   "outputs": [
    {
     "name": "stdout",
     "output_type": "stream",
     "text": [
      "p_value — 0.75 с поправкой Бонферрони 0.003125, событие — MainScreenAppear.\n",
      "Не получилось отвергнуть нулевую гипотезу, нет оснований считать доли разными\n",
      "p_value — 0.25 с поправкой Бонферрони 0.003125, событие — OffersScreenAppear.\n",
      "Не получилось отвергнуть нулевую гипотезу, нет оснований считать доли разными\n",
      "p_value — 0.23 с поправкой Бонферрони 0.003125, событие — CartScreenAppear.\n",
      "Не получилось отвергнуть нулевую гипотезу, нет оснований считать доли разными\n",
      "p_value — 0.11 с поправкой Бонферрони 0.003125, событие — PaymentScreenSuccessful.\n",
      "Не получилось отвергнуть нулевую гипотезу, нет оснований считать доли разными\n"
     ]
    }
   ],
   "source": [
    "zz_test(246, 247, 0.05) #A/A тест"
   ]
  },
  {
   "cell_type": "code",
   "execution_count": 47,
   "metadata": {},
   "outputs": [
    {
     "name": "stdout",
     "output_type": "stream",
     "text": [
      "p_value — 0.34 с поправкой Бонферрони 0.003125, событие — MainScreenAppear.\n",
      "Не получилось отвергнуть нулевую гипотезу, нет оснований считать доли разными\n",
      "p_value — 0.21 с поправкой Бонферрони 0.003125, событие — OffersScreenAppear.\n",
      "Не получилось отвергнуть нулевую гипотезу, нет оснований считать доли разными\n",
      "p_value — 0.08 с поправкой Бонферрони 0.003125, событие — CartScreenAppear.\n",
      "Не получилось отвергнуть нулевую гипотезу, нет оснований считать доли разными\n",
      "p_value — 0.22 с поправкой Бонферрони 0.003125, событие — PaymentScreenSuccessful.\n",
      "Не получилось отвергнуть нулевую гипотезу, нет оснований считать доли разными\n"
     ]
    }
   ],
   "source": [
    "zz_test(246, 248, 0.05) "
   ]
  },
  {
   "cell_type": "code",
   "execution_count": 48,
   "metadata": {},
   "outputs": [
    {
     "name": "stdout",
     "output_type": "stream",
     "text": [
      "p_value — 0.52 с поправкой Бонферрони 0.003125, событие — MainScreenAppear.\n",
      "Не получилось отвергнуть нулевую гипотезу, нет оснований считать доли разными\n",
      "p_value — 0.93 с поправкой Бонферрони 0.003125, событие — OffersScreenAppear.\n",
      "Не получилось отвергнуть нулевую гипотезу, нет оснований считать доли разными\n",
      "p_value — 0.59 с поправкой Бонферрони 0.003125, событие — CartScreenAppear.\n",
      "Не получилось отвергнуть нулевую гипотезу, нет оснований считать доли разными\n",
      "p_value — 0.73 с поправкой Бонферрони 0.003125, событие — PaymentScreenSuccessful.\n",
      "Не получилось отвергнуть нулевую гипотезу, нет оснований считать доли разными\n"
     ]
    }
   ],
   "source": [
    "zz_test(247, 248, 0.05)"
   ]
  },
  {
   "cell_type": "code",
   "execution_count": 49,
   "metadata": {},
   "outputs": [
    {
     "name": "stdout",
     "output_type": "stream",
     "text": [
      "p_value — 0.35 с поправкой Бонферрони 0.003125, событие — MainScreenAppear.\n",
      "Не получилось отвергнуть нулевую гипотезу, нет оснований считать доли разными\n",
      "p_value — 0.45 с поправкой Бонферрони 0.003125, событие — OffersScreenAppear.\n",
      "Не получилось отвергнуть нулевую гипотезу, нет оснований считать доли разными\n",
      "p_value — 0.19 с поправкой Бонферрони 0.003125, событие — CartScreenAppear.\n",
      "Не получилось отвергнуть нулевую гипотезу, нет оснований считать доли разными\n",
      "p_value — 0.61 с поправкой Бонферрони 0.003125, событие — PaymentScreenSuccessful.\n",
      "Не получилось отвергнуть нулевую гипотезу, нет оснований считать доли разными\n"
     ]
    }
   ],
   "source": [
    "zz_test(\"a_a\", 248, 0.05)"
   ]
  },
  {
   "cell_type": "markdown",
   "metadata": {},
   "source": [
    "**Общие выводы теста :**\n",
    "- Уровень статистической значимости для тестов мы использовали — 0,05 .\n",
    "- Всего проверок сделано — 16 (4 АА и 12 АВ). Ни одна из проверок не показала, что есть разница между группами на всех этапах воронки.\n",
    "- Чтобы снизить вероятность ложнопозитивного результата при множественном тестировании гипотез, применена поправка Бонферрони (/16) для корректировки уровня альфа(alpha) для семейства статистических тестов для контроля вероятности совершения ошибки I рода.\n",
    "- Даже без применения поправки уже понятны результаты, так как минимальный показатель без поправки P-значение -- 0.08( Группы 246 и 248.Событие -- CartScreenAppear).\n",
    "- Если бы мы использовали уровень значимости равный 0,1 , единственный тест из 16 \"Группы 246 и 248.Событие -- CartScreenAppear\" попал бы под сомнение. Но применив поправку мы пришли бы к общим выводам."
   ]
  },
  {
   "cell_type": "markdown",
   "metadata": {},
   "source": [
    "## Общий вывод"
   ]
  },
  {
   "cell_type": "markdown",
   "metadata": {},
   "source": [
    "Изучить воронку продаж. Узнаем, как пользователи доходят до покупки.\n",
    "Сколько пользователей доходит до покупки, а сколько — «застревает» на предыдущих шагах?\n",
    "На каких именно?"
   ]
  },
  {
   "cell_type": "markdown",
   "metadata": {},
   "source": [
    "**Пользователи достоточно плохо доходят до покупки, всего лишь 47 процентов с момента посещения сайта, больше всего \"застревают\" на моменте выбора товара(возможно не подходит ассортимент)**"
   ]
  },
  {
   "cell_type": "markdown",
   "metadata": {},
   "source": [
    "После этого исследуем результаты A/A/B-эксперимента.\n",
    "Дизайнеры захотели поменять шрифты во всём приложении, а менеджеры испугались, что пользователям будет непривычно. Договорились принять решение по результатам A/A/B-теста. Пользователей разбили на 3 группы: 2 контрольные со старыми шрифтами и одну экспериментальную — с новыми. Выясним, какой шрифт лучше."
   ]
  },
  {
   "cell_type": "markdown",
   "metadata": {},
   "source": [
    "**Так как целью проведения A/A/B-эксперимента была боязнь менеджеров о потере пользователей, эксперемент можно считать удачным, ведь значимых различий между группами обнаруженно не было**"
   ]
  },
  {
   "cell_type": "markdown",
   "metadata": {},
   "source": [
    "Создание двух групп A вместо одной имеет определённые преимущества.\n",
    "Если две контрольные группы окажутся равны, мы можем быть уверены в точности проведенного тестирования. Если же между значениями A и A будут существенные различия, это поможет обнаружить факторы, которые привели к искажению результатов. Сравнение контрольных групп также помогает понять, сколько времени и данных потребуется для дальнейших тестов."
   ]
  },
  {
   "cell_type": "markdown",
   "metadata": {},
   "source": [
    "**Как мы и сообщали ранее, при сравнении двух А/А групп мы наблюдаем - отсутствие различия ключевых метрик между группами, которые видят абсолютно одинаковые версии продукта. Соответсвенно, разбиение на группы работает корректно.**"
   ]
  }
 ],
 "metadata": {
  "ExecuteTimeLog": [
   {
    "duration": 1363,
    "start_time": "2023-02-12T12:10:56.258Z"
   },
   {
    "duration": 742,
    "start_time": "2023-02-12T12:12:05.365Z"
   },
   {
    "duration": 302,
    "start_time": "2023-02-12T12:12:28.881Z"
   },
   {
    "duration": 384,
    "start_time": "2023-02-12T12:12:35.293Z"
   },
   {
    "duration": 301,
    "start_time": "2023-02-12T12:12:40.718Z"
   },
   {
    "duration": 278,
    "start_time": "2023-02-12T12:12:43.738Z"
   },
   {
    "duration": 285,
    "start_time": "2023-02-12T12:22:01.927Z"
   },
   {
    "duration": 51,
    "start_time": "2023-02-12T12:22:07.398Z"
   },
   {
    "duration": 268,
    "start_time": "2023-02-12T12:22:11.603Z"
   },
   {
    "duration": 49,
    "start_time": "2023-02-12T12:22:14.828Z"
   },
   {
    "duration": 434,
    "start_time": "2023-02-12T12:22:21.109Z"
   },
   {
    "duration": 262,
    "start_time": "2023-02-12T12:22:27.053Z"
   },
   {
    "duration": 279,
    "start_time": "2023-02-12T12:23:57.814Z"
   },
   {
    "duration": 38,
    "start_time": "2023-02-12T12:29:06.912Z"
   },
   {
    "duration": 45,
    "start_time": "2023-02-12T12:31:02.633Z"
   },
   {
    "duration": 51,
    "start_time": "2023-02-12T12:31:15.696Z"
   },
   {
    "duration": 52,
    "start_time": "2023-02-12T12:31:21.504Z"
   },
   {
    "duration": 280,
    "start_time": "2023-02-12T12:31:24.371Z"
   },
   {
    "duration": 89,
    "start_time": "2023-02-12T12:31:29.981Z"
   },
   {
    "duration": 48,
    "start_time": "2023-02-12T12:31:35.547Z"
   },
   {
    "duration": 50,
    "start_time": "2023-02-12T12:31:39.571Z"
   },
   {
    "duration": 1166,
    "start_time": "2023-02-12T12:34:23.505Z"
   },
   {
    "duration": 46,
    "start_time": "2023-02-12T12:34:24.673Z"
   },
   {
    "duration": 299,
    "start_time": "2023-02-12T12:36:05.128Z"
   },
   {
    "duration": 626,
    "start_time": "2023-02-12T12:36:40.553Z"
   },
   {
    "duration": 261,
    "start_time": "2023-02-12T12:36:51.542Z"
   },
   {
    "duration": 150,
    "start_time": "2023-02-12T12:37:08.721Z"
   },
   {
    "duration": 31,
    "start_time": "2023-02-12T12:38:25.357Z"
   },
   {
    "duration": 16,
    "start_time": "2023-02-12T12:38:54.439Z"
   },
   {
    "duration": 44,
    "start_time": "2023-02-12T12:40:36.720Z"
   },
   {
    "duration": 44,
    "start_time": "2023-02-12T12:41:06.484Z"
   },
   {
    "duration": 140,
    "start_time": "2023-02-12T12:41:15.544Z"
   },
   {
    "duration": 1113,
    "start_time": "2023-02-12T13:33:00.990Z"
   },
   {
    "duration": 162,
    "start_time": "2023-02-12T13:33:02.105Z"
   },
   {
    "duration": 20,
    "start_time": "2023-02-12T13:33:02.269Z"
   },
   {
    "duration": 15,
    "start_time": "2023-02-12T13:33:02.291Z"
   },
   {
    "duration": 81,
    "start_time": "2023-02-12T13:33:02.307Z"
   },
   {
    "duration": 8,
    "start_time": "2023-02-12T13:33:41.745Z"
   },
   {
    "duration": 66,
    "start_time": "2023-02-12T13:33:47.865Z"
   },
   {
    "duration": 73,
    "start_time": "2023-02-12T13:33:50.420Z"
   },
   {
    "duration": 60,
    "start_time": "2023-02-12T13:33:55.055Z"
   },
   {
    "duration": 67,
    "start_time": "2023-02-12T13:34:55.981Z"
   },
   {
    "duration": 53,
    "start_time": "2023-02-12T13:34:58.629Z"
   },
   {
    "duration": 11,
    "start_time": "2023-02-12T13:35:23.126Z"
   },
   {
    "duration": 959,
    "start_time": "2023-02-12T13:39:00.153Z"
   },
   {
    "duration": 20,
    "start_time": "2023-02-12T13:39:08.893Z"
   },
   {
    "duration": 10,
    "start_time": "2023-02-12T13:39:15.986Z"
   },
   {
    "duration": 6,
    "start_time": "2023-02-12T13:43:09.668Z"
   },
   {
    "duration": 18,
    "start_time": "2023-02-12T13:43:27.267Z"
   },
   {
    "duration": 9,
    "start_time": "2023-02-12T13:43:28.464Z"
   },
   {
    "duration": 719,
    "start_time": "2023-02-12T13:44:03.137Z"
   },
   {
    "duration": 765,
    "start_time": "2023-02-12T13:44:14.398Z"
   },
   {
    "duration": 1073,
    "start_time": "2023-02-12T13:44:19.403Z"
   },
   {
    "duration": 169,
    "start_time": "2023-02-12T13:44:20.479Z"
   },
   {
    "duration": 22,
    "start_time": "2023-02-12T13:44:20.650Z"
   },
   {
    "duration": 6,
    "start_time": "2023-02-12T13:44:20.674Z"
   },
   {
    "duration": 505,
    "start_time": "2023-02-12T13:44:20.682Z"
   },
   {
    "duration": 0,
    "start_time": "2023-02-12T13:44:21.189Z"
   },
   {
    "duration": 1789,
    "start_time": "2023-02-12T13:45:01.914Z"
   },
   {
    "duration": 768,
    "start_time": "2023-02-12T13:45:14.032Z"
   },
   {
    "duration": 24,
    "start_time": "2023-02-12T13:45:26.253Z"
   },
   {
    "duration": 9,
    "start_time": "2023-02-12T13:45:28.943Z"
   },
   {
    "duration": 10,
    "start_time": "2023-02-12T13:45:54.287Z"
   },
   {
    "duration": 23,
    "start_time": "2023-02-12T13:45:56.405Z"
   },
   {
    "duration": 9,
    "start_time": "2023-02-12T13:45:57.074Z"
   },
   {
    "duration": 9,
    "start_time": "2023-02-12T13:46:02.486Z"
   },
   {
    "duration": 9,
    "start_time": "2023-02-12T13:46:04.036Z"
   },
   {
    "duration": 1105,
    "start_time": "2023-02-12T13:46:07.752Z"
   },
   {
    "duration": 161,
    "start_time": "2023-02-12T13:46:08.859Z"
   },
   {
    "duration": 26,
    "start_time": "2023-02-12T13:46:09.022Z"
   },
   {
    "duration": 6,
    "start_time": "2023-02-12T13:46:09.050Z"
   },
   {
    "duration": 25,
    "start_time": "2023-02-12T13:46:09.059Z"
   },
   {
    "duration": 10,
    "start_time": "2023-02-12T13:46:09.086Z"
   },
   {
    "duration": 16,
    "start_time": "2023-02-12T13:47:48.852Z"
   },
   {
    "duration": 99,
    "start_time": "2023-02-12T13:50:43.923Z"
   },
   {
    "duration": 142,
    "start_time": "2023-02-12T13:50:46.427Z"
   },
   {
    "duration": 9,
    "start_time": "2023-02-12T13:50:53.251Z"
   },
   {
    "duration": 141,
    "start_time": "2023-02-12T13:51:06.014Z"
   },
   {
    "duration": 127,
    "start_time": "2023-02-12T13:51:10.467Z"
   },
   {
    "duration": 27,
    "start_time": "2023-02-12T13:51:43.567Z"
   },
   {
    "duration": 15,
    "start_time": "2023-02-12T13:52:27.357Z"
   },
   {
    "duration": 22,
    "start_time": "2023-02-12T13:54:24.115Z"
   },
   {
    "duration": 28,
    "start_time": "2023-02-12T13:54:27.311Z"
   },
   {
    "duration": 22,
    "start_time": "2023-02-12T13:54:39.274Z"
   },
   {
    "duration": 9,
    "start_time": "2023-02-12T13:54:55.609Z"
   },
   {
    "duration": 42,
    "start_time": "2023-02-12T13:55:58.023Z"
   },
   {
    "duration": 27,
    "start_time": "2023-02-12T13:56:04.717Z"
   },
   {
    "duration": 43,
    "start_time": "2023-02-12T13:56:39.400Z"
   },
   {
    "duration": 7,
    "start_time": "2023-02-12T13:56:45.207Z"
   },
   {
    "duration": 53,
    "start_time": "2023-02-12T13:58:13.170Z"
   },
   {
    "duration": 62,
    "start_time": "2023-02-12T13:58:33.721Z"
   },
   {
    "duration": 65,
    "start_time": "2023-02-12T13:58:40.015Z"
   },
   {
    "duration": 16,
    "start_time": "2023-02-12T13:59:35.764Z"
   },
   {
    "duration": 22,
    "start_time": "2023-02-12T14:02:36.147Z"
   },
   {
    "duration": 12,
    "start_time": "2023-02-12T14:02:41.454Z"
   },
   {
    "duration": 8,
    "start_time": "2023-02-12T14:02:48.831Z"
   },
   {
    "duration": 8,
    "start_time": "2023-02-12T14:03:22.595Z"
   },
   {
    "duration": 8,
    "start_time": "2023-02-12T14:03:30.030Z"
   },
   {
    "duration": 8,
    "start_time": "2023-02-12T14:03:51.240Z"
   },
   {
    "duration": 8,
    "start_time": "2023-02-12T14:04:11.077Z"
   },
   {
    "duration": 6,
    "start_time": "2023-02-12T14:05:37.209Z"
   },
   {
    "duration": 5,
    "start_time": "2023-02-12T14:05:46.365Z"
   },
   {
    "duration": 283,
    "start_time": "2023-02-12T14:06:10.682Z"
   },
   {
    "duration": 210,
    "start_time": "2023-02-12T14:06:30.051Z"
   },
   {
    "duration": 206,
    "start_time": "2023-02-12T14:06:35.771Z"
   },
   {
    "duration": 724,
    "start_time": "2023-02-12T14:49:01.959Z"
   },
   {
    "duration": 770,
    "start_time": "2023-02-12T14:49:20.178Z"
   },
   {
    "duration": 18,
    "start_time": "2023-02-12T14:49:24.492Z"
   },
   {
    "duration": 18,
    "start_time": "2023-02-12T14:49:45.179Z"
   },
   {
    "duration": 17,
    "start_time": "2023-02-12T15:00:21.265Z"
   },
   {
    "duration": 17,
    "start_time": "2023-02-12T15:03:08.485Z"
   },
   {
    "duration": 17,
    "start_time": "2023-02-12T15:03:28.088Z"
   },
   {
    "duration": 19,
    "start_time": "2023-02-12T15:03:43.877Z"
   },
   {
    "duration": 13,
    "start_time": "2023-02-12T15:03:47.529Z"
   },
   {
    "duration": 18,
    "start_time": "2023-02-12T15:03:58.699Z"
   },
   {
    "duration": 5,
    "start_time": "2023-02-12T15:09:39.235Z"
   },
   {
    "duration": 6,
    "start_time": "2023-02-12T15:10:07.687Z"
   },
   {
    "duration": 14,
    "start_time": "2023-02-12T15:10:55.753Z"
   },
   {
    "duration": 15,
    "start_time": "2023-02-12T15:11:00.555Z"
   },
   {
    "duration": 211,
    "start_time": "2023-02-12T15:11:55.309Z"
   },
   {
    "duration": 49,
    "start_time": "2023-02-12T15:12:53.512Z"
   },
   {
    "duration": 12,
    "start_time": "2023-02-12T15:13:06.144Z"
   },
   {
    "duration": 13,
    "start_time": "2023-02-12T15:13:07.141Z"
   },
   {
    "duration": 58,
    "start_time": "2023-02-12T15:13:07.867Z"
   },
   {
    "duration": 20,
    "start_time": "2023-02-12T15:13:39.435Z"
   },
   {
    "duration": 52,
    "start_time": "2023-02-12T15:14:36.949Z"
   },
   {
    "duration": 1136,
    "start_time": "2023-02-12T15:14:48.440Z"
   },
   {
    "duration": 164,
    "start_time": "2023-02-12T15:14:49.578Z"
   },
   {
    "duration": 20,
    "start_time": "2023-02-12T15:14:49.743Z"
   },
   {
    "duration": 14,
    "start_time": "2023-02-12T15:14:49.766Z"
   },
   {
    "duration": 8,
    "start_time": "2023-02-12T15:14:49.781Z"
   },
   {
    "duration": 27,
    "start_time": "2023-02-12T15:14:49.790Z"
   },
   {
    "duration": 32,
    "start_time": "2023-02-12T15:14:49.818Z"
   },
   {
    "duration": 16,
    "start_time": "2023-02-12T15:14:49.851Z"
   },
   {
    "duration": 36,
    "start_time": "2023-02-12T15:14:49.868Z"
   },
   {
    "duration": 9,
    "start_time": "2023-02-12T15:14:49.907Z"
   },
   {
    "duration": 32,
    "start_time": "2023-02-12T15:14:49.917Z"
   },
   {
    "duration": 7,
    "start_time": "2023-02-12T15:14:49.950Z"
   },
   {
    "duration": 5,
    "start_time": "2023-02-12T15:14:49.959Z"
   },
   {
    "duration": 8,
    "start_time": "2023-02-12T15:14:49.965Z"
   },
   {
    "duration": 299,
    "start_time": "2023-02-12T15:14:49.975Z"
   },
   {
    "duration": 53,
    "start_time": "2023-02-12T15:14:50.276Z"
   },
   {
    "duration": 0,
    "start_time": "2023-02-12T15:14:50.331Z"
   },
   {
    "duration": 0,
    "start_time": "2023-02-12T15:14:50.333Z"
   },
   {
    "duration": 1087,
    "start_time": "2023-02-12T15:14:57.093Z"
   },
   {
    "duration": 176,
    "start_time": "2023-02-12T15:14:58.182Z"
   },
   {
    "duration": 21,
    "start_time": "2023-02-12T15:14:58.359Z"
   },
   {
    "duration": 15,
    "start_time": "2023-02-12T15:14:58.382Z"
   },
   {
    "duration": 7,
    "start_time": "2023-02-12T15:14:58.399Z"
   },
   {
    "duration": 26,
    "start_time": "2023-02-12T15:14:58.408Z"
   },
   {
    "duration": 9,
    "start_time": "2023-02-12T15:14:58.447Z"
   },
   {
    "duration": 14,
    "start_time": "2023-02-12T15:14:58.458Z"
   },
   {
    "duration": 32,
    "start_time": "2023-02-12T15:14:58.473Z"
   },
   {
    "duration": 8,
    "start_time": "2023-02-12T15:14:58.507Z"
   },
   {
    "duration": 7,
    "start_time": "2023-02-12T15:14:58.516Z"
   },
   {
    "duration": 6,
    "start_time": "2023-02-12T15:14:58.525Z"
   },
   {
    "duration": 18,
    "start_time": "2023-02-12T15:14:58.532Z"
   },
   {
    "duration": 4,
    "start_time": "2023-02-12T15:14:58.553Z"
   },
   {
    "duration": 334,
    "start_time": "2023-02-12T15:14:58.559Z"
   },
   {
    "duration": 19,
    "start_time": "2023-02-12T15:14:58.895Z"
   },
   {
    "duration": 33,
    "start_time": "2023-02-12T15:14:58.916Z"
   },
   {
    "duration": 20,
    "start_time": "2023-02-12T15:14:58.950Z"
   },
   {
    "duration": 132,
    "start_time": "2023-02-12T16:41:59.047Z"
   },
   {
    "duration": 22,
    "start_time": "2023-02-12T16:42:02.743Z"
   },
   {
    "duration": 35,
    "start_time": "2023-02-12T16:43:50.576Z"
   },
   {
    "duration": 44,
    "start_time": "2023-02-12T16:43:55.284Z"
   },
   {
    "duration": 15,
    "start_time": "2023-02-12T16:44:12.112Z"
   },
   {
    "duration": 12,
    "start_time": "2023-02-12T16:44:25.109Z"
   },
   {
    "duration": 33,
    "start_time": "2023-02-12T16:44:41.826Z"
   },
   {
    "duration": 45,
    "start_time": "2023-02-12T16:45:20.015Z"
   },
   {
    "duration": 53,
    "start_time": "2023-02-12T16:47:40.877Z"
   },
   {
    "duration": 30,
    "start_time": "2023-02-12T16:48:00.222Z"
   },
   {
    "duration": 43,
    "start_time": "2023-02-12T16:49:05.611Z"
   },
   {
    "duration": 34,
    "start_time": "2023-02-12T16:49:35.330Z"
   },
   {
    "duration": 27,
    "start_time": "2023-02-12T16:51:49.752Z"
   },
   {
    "duration": 52,
    "start_time": "2023-02-12T16:52:00.308Z"
   },
   {
    "duration": 52,
    "start_time": "2023-02-12T16:55:21.868Z"
   },
   {
    "duration": 38,
    "start_time": "2023-02-12T16:58:15.081Z"
   },
   {
    "duration": 221,
    "start_time": "2023-02-12T16:59:44.464Z"
   },
   {
    "duration": 340,
    "start_time": "2023-02-12T16:59:50.590Z"
   },
   {
    "duration": 58,
    "start_time": "2023-02-12T17:00:02.640Z"
   },
   {
    "duration": 56,
    "start_time": "2023-02-12T17:04:22.659Z"
   },
   {
    "duration": 52,
    "start_time": "2023-02-12T17:04:36.225Z"
   },
   {
    "duration": 64,
    "start_time": "2023-02-12T17:04:39.883Z"
   },
   {
    "duration": 86,
    "start_time": "2023-02-12T17:05:59.620Z"
   },
   {
    "duration": 100,
    "start_time": "2023-02-12T17:06:43.249Z"
   },
   {
    "duration": 66,
    "start_time": "2023-02-12T17:06:47.397Z"
   },
   {
    "duration": 72,
    "start_time": "2023-02-12T17:07:18.099Z"
   },
   {
    "duration": 1222,
    "start_time": "2023-02-12T17:07:32.086Z"
   },
   {
    "duration": 187,
    "start_time": "2023-02-12T17:07:33.310Z"
   },
   {
    "duration": 19,
    "start_time": "2023-02-12T17:07:33.499Z"
   },
   {
    "duration": 30,
    "start_time": "2023-02-12T17:07:33.520Z"
   },
   {
    "duration": 15,
    "start_time": "2023-02-12T17:07:33.552Z"
   },
   {
    "duration": 44,
    "start_time": "2023-02-12T17:07:33.570Z"
   },
   {
    "duration": 12,
    "start_time": "2023-02-12T17:07:33.616Z"
   },
   {
    "duration": 21,
    "start_time": "2023-02-12T17:07:33.629Z"
   },
   {
    "duration": 47,
    "start_time": "2023-02-12T17:07:33.652Z"
   },
   {
    "duration": 8,
    "start_time": "2023-02-12T17:07:33.701Z"
   },
   {
    "duration": 10,
    "start_time": "2023-02-12T17:07:33.710Z"
   },
   {
    "duration": 9,
    "start_time": "2023-02-12T17:07:33.722Z"
   },
   {
    "duration": 7,
    "start_time": "2023-02-12T17:07:33.749Z"
   },
   {
    "duration": 20,
    "start_time": "2023-02-12T17:07:33.758Z"
   },
   {
    "duration": 333,
    "start_time": "2023-02-12T17:07:33.780Z"
   },
   {
    "duration": 33,
    "start_time": "2023-02-12T17:07:34.115Z"
   },
   {
    "duration": 23,
    "start_time": "2023-02-12T17:07:34.151Z"
   },
   {
    "duration": 38,
    "start_time": "2023-02-12T17:07:34.176Z"
   },
   {
    "duration": 69,
    "start_time": "2023-02-12T17:07:34.216Z"
   },
   {
    "duration": 27,
    "start_time": "2023-02-12T17:07:34.287Z"
   },
   {
    "duration": 201,
    "start_time": "2023-02-12T17:07:34.315Z"
   },
   {
    "duration": 67,
    "start_time": "2023-02-12T17:07:49.573Z"
   },
   {
    "duration": 85,
    "start_time": "2023-02-12T17:10:07.642Z"
   },
   {
    "duration": 93,
    "start_time": "2023-02-12T17:10:17.729Z"
   },
   {
    "duration": 73,
    "start_time": "2023-02-12T17:39:13.011Z"
   },
   {
    "duration": 239,
    "start_time": "2023-02-12T17:41:12.998Z"
   },
   {
    "duration": 238,
    "start_time": "2023-02-12T17:42:09.315Z"
   },
   {
    "duration": 719,
    "start_time": "2023-02-12T17:42:36.323Z"
   },
   {
    "duration": 54,
    "start_time": "2023-02-12T17:42:57.599Z"
   },
   {
    "duration": 89,
    "start_time": "2023-02-12T17:43:03.084Z"
   },
   {
    "duration": 58,
    "start_time": "2023-02-12T17:43:23.028Z"
   },
   {
    "duration": 52,
    "start_time": "2023-02-12T17:44:10.812Z"
   },
   {
    "duration": 14,
    "start_time": "2023-02-12T17:47:26.274Z"
   },
   {
    "duration": 223,
    "start_time": "2023-02-12T17:47:38.549Z"
   },
   {
    "duration": 1077,
    "start_time": "2023-02-12T17:48:09.106Z"
   },
   {
    "duration": 166,
    "start_time": "2023-02-12T17:48:10.185Z"
   },
   {
    "duration": 19,
    "start_time": "2023-02-12T17:48:10.352Z"
   },
   {
    "duration": 13,
    "start_time": "2023-02-12T17:48:10.373Z"
   },
   {
    "duration": 6,
    "start_time": "2023-02-12T17:48:10.388Z"
   },
   {
    "duration": 55,
    "start_time": "2023-02-12T17:48:10.396Z"
   },
   {
    "duration": 9,
    "start_time": "2023-02-12T17:48:10.453Z"
   },
   {
    "duration": 19,
    "start_time": "2023-02-12T17:48:10.463Z"
   },
   {
    "duration": 33,
    "start_time": "2023-02-12T17:48:10.484Z"
   },
   {
    "duration": 32,
    "start_time": "2023-02-12T17:48:10.519Z"
   },
   {
    "duration": 8,
    "start_time": "2023-02-12T17:48:10.553Z"
   },
   {
    "duration": 7,
    "start_time": "2023-02-12T17:48:10.562Z"
   },
   {
    "duration": 5,
    "start_time": "2023-02-12T17:48:10.570Z"
   },
   {
    "duration": 5,
    "start_time": "2023-02-12T17:48:10.576Z"
   },
   {
    "duration": 301,
    "start_time": "2023-02-12T17:48:10.582Z"
   },
   {
    "duration": 18,
    "start_time": "2023-02-12T17:48:10.884Z"
   },
   {
    "duration": 22,
    "start_time": "2023-02-12T17:48:10.904Z"
   },
   {
    "duration": 52,
    "start_time": "2023-02-12T17:48:10.927Z"
   },
   {
    "duration": 36,
    "start_time": "2023-02-12T17:48:10.981Z"
   },
   {
    "duration": 45,
    "start_time": "2023-02-12T17:48:11.019Z"
   },
   {
    "duration": 329,
    "start_time": "2023-02-12T17:48:11.065Z"
   },
   {
    "duration": 91,
    "start_time": "2023-02-12T17:48:38.649Z"
   },
   {
    "duration": 726,
    "start_time": "2023-02-12T18:03:50.752Z"
   },
   {
    "duration": 843,
    "start_time": "2023-02-12T18:15:00.547Z"
   },
   {
    "duration": 1103,
    "start_time": "2023-02-12T18:15:06.298Z"
   },
   {
    "duration": 169,
    "start_time": "2023-02-12T18:15:07.402Z"
   },
   {
    "duration": 20,
    "start_time": "2023-02-12T18:15:07.572Z"
   },
   {
    "duration": 17,
    "start_time": "2023-02-12T18:15:07.594Z"
   },
   {
    "duration": 7,
    "start_time": "2023-02-12T18:15:07.613Z"
   },
   {
    "duration": 55,
    "start_time": "2023-02-12T18:15:07.622Z"
   },
   {
    "duration": 9,
    "start_time": "2023-02-12T18:15:07.679Z"
   },
   {
    "duration": 40,
    "start_time": "2023-02-12T18:15:07.689Z"
   },
   {
    "duration": 31,
    "start_time": "2023-02-12T18:15:07.730Z"
   },
   {
    "duration": 8,
    "start_time": "2023-02-12T18:15:07.764Z"
   },
   {
    "duration": 8,
    "start_time": "2023-02-12T18:15:07.773Z"
   },
   {
    "duration": 7,
    "start_time": "2023-02-12T18:15:07.783Z"
   },
   {
    "duration": 9,
    "start_time": "2023-02-12T18:15:07.792Z"
   },
   {
    "duration": 5,
    "start_time": "2023-02-12T18:15:07.802Z"
   },
   {
    "duration": 330,
    "start_time": "2023-02-12T18:15:07.808Z"
   },
   {
    "duration": 20,
    "start_time": "2023-02-12T18:15:08.139Z"
   },
   {
    "duration": 14,
    "start_time": "2023-02-12T18:15:08.161Z"
   },
   {
    "duration": 20,
    "start_time": "2023-02-12T18:15:08.176Z"
   },
   {
    "duration": 65,
    "start_time": "2023-02-12T18:15:08.198Z"
   },
   {
    "duration": 25,
    "start_time": "2023-02-12T18:15:08.265Z"
   },
   {
    "duration": 955,
    "start_time": "2023-02-12T18:15:08.292Z"
   },
   {
    "duration": 782,
    "start_time": "2023-02-12T18:15:36.403Z"
   },
   {
    "duration": 1129,
    "start_time": "2023-02-12T18:15:58.427Z"
   },
   {
    "duration": 167,
    "start_time": "2023-02-12T18:15:59.558Z"
   },
   {
    "duration": 22,
    "start_time": "2023-02-12T18:15:59.727Z"
   },
   {
    "duration": 14,
    "start_time": "2023-02-12T18:15:59.750Z"
   },
   {
    "duration": 7,
    "start_time": "2023-02-12T18:15:59.766Z"
   },
   {
    "duration": 40,
    "start_time": "2023-02-12T18:15:59.774Z"
   },
   {
    "duration": 13,
    "start_time": "2023-02-12T18:15:59.816Z"
   },
   {
    "duration": 11,
    "start_time": "2023-02-12T18:15:59.849Z"
   },
   {
    "duration": 34,
    "start_time": "2023-02-12T18:15:59.862Z"
   },
   {
    "duration": 9,
    "start_time": "2023-02-12T18:15:59.898Z"
   },
   {
    "duration": 10,
    "start_time": "2023-02-12T18:15:59.909Z"
   },
   {
    "duration": 7,
    "start_time": "2023-02-12T18:15:59.949Z"
   },
   {
    "duration": 5,
    "start_time": "2023-02-12T18:15:59.958Z"
   },
   {
    "duration": 5,
    "start_time": "2023-02-12T18:15:59.967Z"
   },
   {
    "duration": 306,
    "start_time": "2023-02-12T18:15:59.973Z"
   },
   {
    "duration": 18,
    "start_time": "2023-02-12T18:16:00.281Z"
   },
   {
    "duration": 14,
    "start_time": "2023-02-12T18:16:00.300Z"
   },
   {
    "duration": 39,
    "start_time": "2023-02-12T18:16:00.316Z"
   },
   {
    "duration": 34,
    "start_time": "2023-02-12T18:16:00.356Z"
   },
   {
    "duration": 26,
    "start_time": "2023-02-12T18:16:00.391Z"
   },
   {
    "duration": 47,
    "start_time": "2023-02-12T18:17:05.091Z"
   },
   {
    "duration": 54,
    "start_time": "2023-02-12T18:17:13.928Z"
   },
   {
    "duration": 63,
    "start_time": "2023-02-12T18:18:22.040Z"
   },
   {
    "duration": 59,
    "start_time": "2023-02-12T18:18:54.006Z"
   },
   {
    "duration": 61,
    "start_time": "2023-02-12T18:19:49.392Z"
   },
   {
    "duration": 60,
    "start_time": "2023-02-12T18:20:27.901Z"
   },
   {
    "duration": 88,
    "start_time": "2023-02-12T18:20:47.430Z"
   },
   {
    "duration": 61,
    "start_time": "2023-02-12T18:21:01.246Z"
   },
   {
    "duration": 48,
    "start_time": "2023-02-12T18:21:27.288Z"
   },
   {
    "duration": 48,
    "start_time": "2023-02-12T18:21:32.046Z"
   },
   {
    "duration": 56,
    "start_time": "2023-02-12T18:22:03.228Z"
   },
   {
    "duration": 54,
    "start_time": "2023-02-12T18:23:04.960Z"
   },
   {
    "duration": 56,
    "start_time": "2023-02-12T18:23:14.928Z"
   },
   {
    "duration": 21,
    "start_time": "2023-02-12T18:42:05.162Z"
   },
   {
    "duration": 25,
    "start_time": "2023-02-12T18:42:17.998Z"
   },
   {
    "duration": 16,
    "start_time": "2023-02-12T18:42:22.304Z"
   },
   {
    "duration": 22,
    "start_time": "2023-02-12T18:42:36.239Z"
   },
   {
    "duration": 19,
    "start_time": "2023-02-12T18:42:46.060Z"
   },
   {
    "duration": 1054,
    "start_time": "2023-02-12T18:53:56.611Z"
   },
   {
    "duration": 180,
    "start_time": "2023-02-12T18:53:57.669Z"
   },
   {
    "duration": 20,
    "start_time": "2023-02-12T18:53:57.850Z"
   },
   {
    "duration": 13,
    "start_time": "2023-02-12T18:53:57.872Z"
   },
   {
    "duration": 8,
    "start_time": "2023-02-12T18:53:57.887Z"
   },
   {
    "duration": 59,
    "start_time": "2023-02-12T18:53:57.896Z"
   },
   {
    "duration": 9,
    "start_time": "2023-02-12T18:53:57.956Z"
   },
   {
    "duration": 16,
    "start_time": "2023-02-12T18:53:57.967Z"
   },
   {
    "duration": 35,
    "start_time": "2023-02-12T18:53:57.984Z"
   },
   {
    "duration": 27,
    "start_time": "2023-02-12T18:53:58.022Z"
   },
   {
    "duration": 8,
    "start_time": "2023-02-12T18:53:58.050Z"
   },
   {
    "duration": 8,
    "start_time": "2023-02-12T18:53:58.059Z"
   },
   {
    "duration": 5,
    "start_time": "2023-02-12T18:53:58.068Z"
   },
   {
    "duration": 8,
    "start_time": "2023-02-12T18:53:58.074Z"
   },
   {
    "duration": 300,
    "start_time": "2023-02-12T18:53:58.083Z"
   },
   {
    "duration": 19,
    "start_time": "2023-02-12T18:53:58.385Z"
   },
   {
    "duration": 15,
    "start_time": "2023-02-12T18:53:58.405Z"
   },
   {
    "duration": 40,
    "start_time": "2023-02-12T18:53:58.421Z"
   },
   {
    "duration": 37,
    "start_time": "2023-02-12T18:53:58.463Z"
   },
   {
    "duration": 26,
    "start_time": "2023-02-12T18:53:58.501Z"
   },
   {
    "duration": 81,
    "start_time": "2023-02-12T18:53:58.528Z"
   },
   {
    "duration": 20,
    "start_time": "2023-02-12T18:53:58.610Z"
   },
   {
    "duration": 33,
    "start_time": "2023-02-12T18:53:58.631Z"
   },
   {
    "duration": 1326,
    "start_time": "2023-02-12T20:28:32.371Z"
   },
   {
    "duration": 1099,
    "start_time": "2023-02-12T20:28:41.352Z"
   },
   {
    "duration": 161,
    "start_time": "2023-02-12T20:28:42.453Z"
   },
   {
    "duration": 19,
    "start_time": "2023-02-12T20:28:42.615Z"
   },
   {
    "duration": 17,
    "start_time": "2023-02-12T20:28:42.635Z"
   },
   {
    "duration": 7,
    "start_time": "2023-02-12T20:28:42.655Z"
   },
   {
    "duration": 28,
    "start_time": "2023-02-12T20:28:42.663Z"
   },
   {
    "duration": 9,
    "start_time": "2023-02-12T20:28:42.692Z"
   },
   {
    "duration": 45,
    "start_time": "2023-02-12T20:28:42.703Z"
   },
   {
    "duration": 31,
    "start_time": "2023-02-12T20:28:42.750Z"
   },
   {
    "duration": 8,
    "start_time": "2023-02-12T20:28:42.782Z"
   },
   {
    "duration": 8,
    "start_time": "2023-02-12T20:28:42.792Z"
   },
   {
    "duration": 11,
    "start_time": "2023-02-12T20:28:42.802Z"
   },
   {
    "duration": 34,
    "start_time": "2023-02-12T20:28:42.815Z"
   },
   {
    "duration": 6,
    "start_time": "2023-02-12T20:28:42.852Z"
   },
   {
    "duration": 289,
    "start_time": "2023-02-12T20:28:42.859Z"
   },
   {
    "duration": 17,
    "start_time": "2023-02-12T20:28:43.150Z"
   },
   {
    "duration": 15,
    "start_time": "2023-02-12T20:28:43.168Z"
   },
   {
    "duration": 21,
    "start_time": "2023-02-12T20:28:43.184Z"
   },
   {
    "duration": 58,
    "start_time": "2023-02-12T20:28:43.206Z"
   },
   {
    "duration": 23,
    "start_time": "2023-02-12T20:28:43.266Z"
   },
   {
    "duration": 66,
    "start_time": "2023-02-12T20:28:43.291Z"
   },
   {
    "duration": 101,
    "start_time": "2023-02-12T20:28:43.359Z"
   },
   {
    "duration": 0,
    "start_time": "2023-02-12T20:28:43.461Z"
   },
   {
    "duration": 0,
    "start_time": "2023-02-12T20:28:43.462Z"
   },
   {
    "duration": 0,
    "start_time": "2023-02-12T20:28:43.464Z"
   },
   {
    "duration": 0,
    "start_time": "2023-02-12T20:28:43.465Z"
   },
   {
    "duration": 9,
    "start_time": "2023-02-12T20:37:46.567Z"
   },
   {
    "duration": 1355,
    "start_time": "2023-02-12T20:37:50.708Z"
   },
   {
    "duration": 9,
    "start_time": "2023-02-12T20:38:51.773Z"
   },
   {
    "duration": 18,
    "start_time": "2023-02-12T20:39:04.605Z"
   },
   {
    "duration": 19,
    "start_time": "2023-02-12T20:39:05.142Z"
   },
   {
    "duration": 1226,
    "start_time": "2023-02-12T20:39:07.515Z"
   },
   {
    "duration": 18,
    "start_time": "2023-02-12T20:39:38.198Z"
   },
   {
    "duration": 43,
    "start_time": "2023-02-12T20:39:51.654Z"
   },
   {
    "duration": 36,
    "start_time": "2023-02-12T20:39:53.967Z"
   },
   {
    "duration": 18,
    "start_time": "2023-02-12T20:41:27.752Z"
   },
   {
    "duration": 12,
    "start_time": "2023-02-12T20:41:32.167Z"
   },
   {
    "duration": 1210,
    "start_time": "2023-02-12T20:41:48.152Z"
   },
   {
    "duration": 3,
    "start_time": "2023-02-12T20:57:28.974Z"
   },
   {
    "duration": 2177,
    "start_time": "2023-02-12T20:58:05.335Z"
   },
   {
    "duration": 1047,
    "start_time": "2023-02-12T20:58:59.498Z"
   },
   {
    "duration": 165,
    "start_time": "2023-02-12T20:59:00.547Z"
   },
   {
    "duration": 18,
    "start_time": "2023-02-12T20:59:00.714Z"
   },
   {
    "duration": 24,
    "start_time": "2023-02-12T20:59:00.735Z"
   },
   {
    "duration": 56,
    "start_time": "2023-02-12T20:59:00.761Z"
   },
   {
    "duration": 39,
    "start_time": "2023-02-12T20:59:00.818Z"
   },
   {
    "duration": 15,
    "start_time": "2023-02-12T20:59:00.859Z"
   },
   {
    "duration": 32,
    "start_time": "2023-02-12T20:59:00.875Z"
   },
   {
    "duration": 67,
    "start_time": "2023-02-12T20:59:00.909Z"
   },
   {
    "duration": 8,
    "start_time": "2023-02-12T20:59:00.979Z"
   },
   {
    "duration": 57,
    "start_time": "2023-02-12T20:59:00.988Z"
   },
   {
    "duration": 32,
    "start_time": "2023-02-12T20:59:01.046Z"
   },
   {
    "duration": 10,
    "start_time": "2023-02-12T20:59:01.080Z"
   },
   {
    "duration": 14,
    "start_time": "2023-02-12T20:59:01.092Z"
   },
   {
    "duration": 276,
    "start_time": "2023-02-12T20:59:01.108Z"
   },
   {
    "duration": 24,
    "start_time": "2023-02-12T20:59:01.385Z"
   },
   {
    "duration": 24,
    "start_time": "2023-02-12T20:59:01.411Z"
   },
   {
    "duration": 42,
    "start_time": "2023-02-12T20:59:01.437Z"
   },
   {
    "duration": 51,
    "start_time": "2023-02-12T20:59:01.480Z"
   },
   {
    "duration": 29,
    "start_time": "2023-02-12T20:59:01.533Z"
   },
   {
    "duration": 72,
    "start_time": "2023-02-12T20:59:01.563Z"
   },
   {
    "duration": 23,
    "start_time": "2023-02-12T20:59:01.637Z"
   },
   {
    "duration": 30,
    "start_time": "2023-02-12T20:59:01.662Z"
   },
   {
    "duration": 10,
    "start_time": "2023-02-12T20:59:01.693Z"
   },
   {
    "duration": 2261,
    "start_time": "2023-02-12T20:59:01.705Z"
   },
   {
    "duration": 0,
    "start_time": "2023-02-12T20:59:03.968Z"
   },
   {
    "duration": 0,
    "start_time": "2023-02-12T20:59:03.969Z"
   },
   {
    "duration": 50,
    "start_time": "2023-02-12T20:59:28.586Z"
   },
   {
    "duration": 2019,
    "start_time": "2023-02-12T20:59:29.670Z"
   },
   {
    "duration": 544,
    "start_time": "2023-02-12T20:59:46.453Z"
   },
   {
    "duration": 2160,
    "start_time": "2023-02-12T21:13:01.825Z"
   },
   {
    "duration": 12,
    "start_time": "2023-02-12T21:17:01.742Z"
   },
   {
    "duration": 64,
    "start_time": "2023-02-12T21:17:43.591Z"
   },
   {
    "duration": 1301,
    "start_time": "2023-02-12T21:27:31.952Z"
   },
   {
    "duration": 1267,
    "start_time": "2023-02-12T21:27:57.163Z"
   },
   {
    "duration": 2,
    "start_time": "2023-02-12T21:36:37.120Z"
   },
   {
    "duration": 3,
    "start_time": "2023-02-12T21:36:55.981Z"
   },
   {
    "duration": 7,
    "start_time": "2023-02-12T21:37:01.015Z"
   },
   {
    "duration": 20,
    "start_time": "2023-02-12T21:37:34.739Z"
   },
   {
    "duration": 15,
    "start_time": "2023-02-12T21:37:49.568Z"
   },
   {
    "duration": 1128,
    "start_time": "2023-02-12T22:07:08.220Z"
   },
   {
    "duration": 158,
    "start_time": "2023-02-12T22:07:09.350Z"
   },
   {
    "duration": 21,
    "start_time": "2023-02-12T22:07:09.510Z"
   },
   {
    "duration": 19,
    "start_time": "2023-02-12T22:07:09.532Z"
   },
   {
    "duration": 6,
    "start_time": "2023-02-12T22:07:09.553Z"
   },
   {
    "duration": 26,
    "start_time": "2023-02-12T22:07:09.561Z"
   },
   {
    "duration": 8,
    "start_time": "2023-02-12T22:07:09.589Z"
   },
   {
    "duration": 12,
    "start_time": "2023-02-12T22:07:09.599Z"
   },
   {
    "duration": 56,
    "start_time": "2023-02-12T22:07:09.613Z"
   },
   {
    "duration": 7,
    "start_time": "2023-02-12T22:07:09.672Z"
   },
   {
    "duration": 7,
    "start_time": "2023-02-12T22:07:09.680Z"
   },
   {
    "duration": 6,
    "start_time": "2023-02-12T22:07:09.688Z"
   },
   {
    "duration": 4,
    "start_time": "2023-02-12T22:07:09.696Z"
   },
   {
    "duration": 5,
    "start_time": "2023-02-12T22:07:09.702Z"
   },
   {
    "duration": 302,
    "start_time": "2023-02-12T22:07:09.708Z"
   },
   {
    "duration": 19,
    "start_time": "2023-02-12T22:07:10.012Z"
   },
   {
    "duration": 26,
    "start_time": "2023-02-12T22:07:10.033Z"
   },
   {
    "duration": 20,
    "start_time": "2023-02-12T22:07:10.060Z"
   },
   {
    "duration": 35,
    "start_time": "2023-02-12T22:07:10.082Z"
   },
   {
    "duration": 48,
    "start_time": "2023-02-12T22:07:10.118Z"
   },
   {
    "duration": 53,
    "start_time": "2023-02-12T22:07:10.168Z"
   },
   {
    "duration": 32,
    "start_time": "2023-02-12T22:07:10.223Z"
   },
   {
    "duration": 18,
    "start_time": "2023-02-12T22:07:10.257Z"
   },
   {
    "duration": 2,
    "start_time": "2023-02-12T22:07:10.277Z"
   },
   {
    "duration": 5,
    "start_time": "2023-02-12T22:07:10.280Z"
   },
   {
    "duration": 4,
    "start_time": "2023-02-12T22:07:10.286Z"
   },
   {
    "duration": 120,
    "start_time": "2023-02-12T22:08:38.815Z"
   },
   {
    "duration": 17,
    "start_time": "2023-02-12T22:08:41.926Z"
   },
   {
    "duration": 70,
    "start_time": "2023-02-12T22:10:55.220Z"
   },
   {
    "duration": 51,
    "start_time": "2023-02-13T09:53:27.572Z"
   },
   {
    "duration": 1319,
    "start_time": "2023-02-13T09:53:34.341Z"
   },
   {
    "duration": 516,
    "start_time": "2023-02-13T09:53:35.662Z"
   },
   {
    "duration": 19,
    "start_time": "2023-02-13T09:53:36.180Z"
   },
   {
    "duration": 13,
    "start_time": "2023-02-13T09:53:36.201Z"
   },
   {
    "duration": 6,
    "start_time": "2023-02-13T09:53:36.216Z"
   },
   {
    "duration": 39,
    "start_time": "2023-02-13T09:53:36.223Z"
   },
   {
    "duration": 9,
    "start_time": "2023-02-13T09:53:36.263Z"
   },
   {
    "duration": 15,
    "start_time": "2023-02-13T09:53:36.273Z"
   },
   {
    "duration": 33,
    "start_time": "2023-02-13T09:53:36.289Z"
   },
   {
    "duration": 29,
    "start_time": "2023-02-13T09:53:36.324Z"
   },
   {
    "duration": 9,
    "start_time": "2023-02-13T09:53:36.355Z"
   },
   {
    "duration": 9,
    "start_time": "2023-02-13T09:53:36.366Z"
   },
   {
    "duration": 6,
    "start_time": "2023-02-13T09:53:36.376Z"
   },
   {
    "duration": 5,
    "start_time": "2023-02-13T09:53:36.384Z"
   },
   {
    "duration": 371,
    "start_time": "2023-02-13T09:53:36.391Z"
   },
   {
    "duration": 18,
    "start_time": "2023-02-13T09:53:36.763Z"
   },
   {
    "duration": 13,
    "start_time": "2023-02-13T09:53:36.783Z"
   },
   {
    "duration": 20,
    "start_time": "2023-02-13T09:53:36.798Z"
   },
   {
    "duration": 61,
    "start_time": "2023-02-13T09:53:36.820Z"
   },
   {
    "duration": 26,
    "start_time": "2023-02-13T09:53:36.883Z"
   },
   {
    "duration": 83,
    "start_time": "2023-02-13T09:53:36.911Z"
   },
   {
    "duration": 19,
    "start_time": "2023-02-13T09:53:36.996Z"
   },
   {
    "duration": 35,
    "start_time": "2023-02-13T09:53:37.017Z"
   },
   {
    "duration": 917,
    "start_time": "2023-02-13T09:53:37.054Z"
   },
   {
    "duration": 0,
    "start_time": "2023-02-13T09:53:37.973Z"
   },
   {
    "duration": 0,
    "start_time": "2023-02-13T09:53:37.974Z"
   },
   {
    "duration": 0,
    "start_time": "2023-02-13T09:53:37.976Z"
   },
   {
    "duration": 754,
    "start_time": "2023-02-13T09:53:51.004Z"
   },
   {
    "duration": 56,
    "start_time": "2023-02-13T09:54:08.307Z"
   },
   {
    "duration": 20,
    "start_time": "2023-02-13T10:17:43.400Z"
   },
   {
    "duration": 59,
    "start_time": "2023-02-13T10:17:43.734Z"
   },
   {
    "duration": 58,
    "start_time": "2023-02-13T10:34:20.405Z"
   },
   {
    "duration": 63,
    "start_time": "2023-02-13T11:09:14.821Z"
   },
   {
    "duration": 63,
    "start_time": "2023-02-13T11:12:29.806Z"
   },
   {
    "duration": 1844,
    "start_time": "2023-02-13T11:22:44.319Z"
   },
   {
    "duration": 39,
    "start_time": "2023-02-13T13:49:42.789Z"
   },
   {
    "duration": 12,
    "start_time": "2023-02-13T14:14:47.878Z"
   },
   {
    "duration": 62,
    "start_time": "2023-02-13T14:15:50.070Z"
   },
   {
    "duration": 55,
    "start_time": "2023-02-13T14:16:21.552Z"
   },
   {
    "duration": 51,
    "start_time": "2023-02-13T14:16:36.124Z"
   },
   {
    "duration": 4,
    "start_time": "2023-02-13T14:17:21.622Z"
   },
   {
    "duration": 1231,
    "start_time": "2023-02-13T14:17:26.267Z"
   },
   {
    "duration": 172,
    "start_time": "2023-02-13T14:17:27.501Z"
   },
   {
    "duration": 22,
    "start_time": "2023-02-13T14:17:27.674Z"
   },
   {
    "duration": 15,
    "start_time": "2023-02-13T14:17:27.699Z"
   },
   {
    "duration": 36,
    "start_time": "2023-02-13T14:17:27.715Z"
   },
   {
    "duration": 27,
    "start_time": "2023-02-13T14:17:27.753Z"
   },
   {
    "duration": 9,
    "start_time": "2023-02-13T14:17:27.782Z"
   },
   {
    "duration": 14,
    "start_time": "2023-02-13T14:17:27.793Z"
   },
   {
    "duration": 61,
    "start_time": "2023-02-13T14:17:27.809Z"
   },
   {
    "duration": 8,
    "start_time": "2023-02-13T14:17:27.873Z"
   },
   {
    "duration": 9,
    "start_time": "2023-02-13T14:17:27.882Z"
   },
   {
    "duration": 7,
    "start_time": "2023-02-13T14:17:27.893Z"
   },
   {
    "duration": 5,
    "start_time": "2023-02-13T14:17:27.903Z"
   },
   {
    "duration": 6,
    "start_time": "2023-02-13T14:17:27.948Z"
   },
   {
    "duration": 298,
    "start_time": "2023-02-13T14:17:27.956Z"
   },
   {
    "duration": 20,
    "start_time": "2023-02-13T14:17:28.256Z"
   },
   {
    "duration": 16,
    "start_time": "2023-02-13T14:17:28.278Z"
   },
   {
    "duration": 60,
    "start_time": "2023-02-13T14:17:28.296Z"
   },
   {
    "duration": 36,
    "start_time": "2023-02-13T14:17:28.358Z"
   },
   {
    "duration": 27,
    "start_time": "2023-02-13T14:17:28.396Z"
   },
   {
    "duration": 86,
    "start_time": "2023-02-13T14:17:28.424Z"
   },
   {
    "duration": 42,
    "start_time": "2023-02-13T14:17:28.512Z"
   },
   {
    "duration": 21,
    "start_time": "2023-02-13T14:17:28.556Z"
   },
   {
    "duration": 85,
    "start_time": "2023-02-13T14:17:28.579Z"
   },
   {
    "duration": 17,
    "start_time": "2023-02-13T14:17:28.665Z"
   },
   {
    "duration": 75,
    "start_time": "2023-02-13T14:17:28.684Z"
   },
   {
    "duration": 36,
    "start_time": "2023-02-13T14:17:28.761Z"
   },
   {
    "duration": 74,
    "start_time": "2023-02-13T14:17:28.800Z"
   },
   {
    "duration": 21,
    "start_time": "2023-02-13T14:18:05.141Z"
   },
   {
    "duration": 42,
    "start_time": "2023-02-13T19:26:50.424Z"
   },
   {
    "duration": 101,
    "start_time": "2023-02-13T19:27:14.036Z"
   },
   {
    "duration": 11,
    "start_time": "2023-02-13T19:27:22.197Z"
   },
   {
    "duration": 75,
    "start_time": "2023-02-13T19:32:58.665Z"
   },
   {
    "duration": 16,
    "start_time": "2023-02-13T19:34:20.768Z"
   },
   {
    "duration": 44,
    "start_time": "2023-02-13T19:57:39.089Z"
   },
   {
    "duration": 60,
    "start_time": "2023-02-13T19:57:51.078Z"
   },
   {
    "duration": 8,
    "start_time": "2023-02-13T20:20:24.888Z"
   },
   {
    "duration": 18,
    "start_time": "2023-02-13T20:20:28.592Z"
   },
   {
    "duration": 17,
    "start_time": "2023-02-13T20:23:11.838Z"
   },
   {
    "duration": 19,
    "start_time": "2023-02-13T20:23:22.302Z"
   },
   {
    "duration": 252,
    "start_time": "2023-02-13T20:24:22.763Z"
   },
   {
    "duration": 30,
    "start_time": "2023-02-13T20:24:28.888Z"
   },
   {
    "duration": 1212,
    "start_time": "2023-02-13T20:25:04.318Z"
   },
   {
    "duration": 179,
    "start_time": "2023-02-13T20:25:05.532Z"
   },
   {
    "duration": 22,
    "start_time": "2023-02-13T20:25:05.713Z"
   },
   {
    "duration": 21,
    "start_time": "2023-02-13T20:25:05.737Z"
   },
   {
    "duration": 7,
    "start_time": "2023-02-13T20:25:05.759Z"
   },
   {
    "duration": 27,
    "start_time": "2023-02-13T20:25:05.768Z"
   },
   {
    "duration": 9,
    "start_time": "2023-02-13T20:25:05.797Z"
   },
   {
    "duration": 47,
    "start_time": "2023-02-13T20:25:05.808Z"
   },
   {
    "duration": 33,
    "start_time": "2023-02-13T20:25:05.857Z"
   },
   {
    "duration": 9,
    "start_time": "2023-02-13T20:25:05.893Z"
   },
   {
    "duration": 8,
    "start_time": "2023-02-13T20:25:05.904Z"
   },
   {
    "duration": 37,
    "start_time": "2023-02-13T20:25:05.913Z"
   },
   {
    "duration": 6,
    "start_time": "2023-02-13T20:25:05.952Z"
   },
   {
    "duration": 13,
    "start_time": "2023-02-13T20:25:05.959Z"
   },
   {
    "duration": 296,
    "start_time": "2023-02-13T20:25:05.973Z"
   },
   {
    "duration": 19,
    "start_time": "2023-02-13T20:25:06.271Z"
   },
   {
    "duration": 14,
    "start_time": "2023-02-13T20:25:06.292Z"
   },
   {
    "duration": 47,
    "start_time": "2023-02-13T20:25:06.308Z"
   },
   {
    "duration": 40,
    "start_time": "2023-02-13T20:25:06.357Z"
   },
   {
    "duration": 51,
    "start_time": "2023-02-13T20:25:06.399Z"
   },
   {
    "duration": 62,
    "start_time": "2023-02-13T20:25:06.452Z"
   },
   {
    "duration": 41,
    "start_time": "2023-02-13T20:25:06.516Z"
   },
   {
    "duration": 21,
    "start_time": "2023-02-13T20:25:06.559Z"
   },
   {
    "duration": 90,
    "start_time": "2023-02-13T20:25:06.582Z"
   },
   {
    "duration": 23,
    "start_time": "2023-02-13T20:25:06.674Z"
   },
   {
    "duration": 107,
    "start_time": "2023-02-13T20:25:06.699Z"
   },
   {
    "duration": 61,
    "start_time": "2023-02-13T20:25:06.808Z"
   },
   {
    "duration": 75,
    "start_time": "2023-02-13T20:25:06.874Z"
   },
   {
    "duration": 20,
    "start_time": "2023-02-13T20:25:06.951Z"
   },
   {
    "duration": 20,
    "start_time": "2023-02-13T20:25:06.972Z"
   },
   {
    "duration": 21,
    "start_time": "2023-02-13T20:25:06.994Z"
   },
   {
    "duration": 296,
    "start_time": "2023-02-13T20:25:07.049Z"
   },
   {
    "duration": 30,
    "start_time": "2023-02-13T20:25:07.347Z"
   },
   {
    "duration": 127,
    "start_time": "2023-02-13T20:25:07.379Z"
   },
   {
    "duration": 23,
    "start_time": "2023-02-13T20:25:35.457Z"
   },
   {
    "duration": 1140,
    "start_time": "2023-02-13T20:25:40.290Z"
   },
   {
    "duration": 166,
    "start_time": "2023-02-13T20:25:41.433Z"
   },
   {
    "duration": 23,
    "start_time": "2023-02-13T20:25:41.601Z"
   },
   {
    "duration": 34,
    "start_time": "2023-02-13T20:25:41.626Z"
   },
   {
    "duration": 8,
    "start_time": "2023-02-13T20:25:41.663Z"
   },
   {
    "duration": 26,
    "start_time": "2023-02-13T20:25:41.673Z"
   },
   {
    "duration": 11,
    "start_time": "2023-02-13T20:25:41.701Z"
   },
   {
    "duration": 49,
    "start_time": "2023-02-13T20:25:41.714Z"
   },
   {
    "duration": 33,
    "start_time": "2023-02-13T20:25:41.765Z"
   },
   {
    "duration": 21,
    "start_time": "2023-02-13T20:25:41.799Z"
   },
   {
    "duration": 27,
    "start_time": "2023-02-13T20:25:41.822Z"
   },
   {
    "duration": 8,
    "start_time": "2023-02-13T20:25:41.851Z"
   },
   {
    "duration": 5,
    "start_time": "2023-02-13T20:25:41.860Z"
   },
   {
    "duration": 7,
    "start_time": "2023-02-13T20:25:41.868Z"
   },
   {
    "duration": 302,
    "start_time": "2023-02-13T20:25:41.876Z"
   },
   {
    "duration": 18,
    "start_time": "2023-02-13T20:25:42.180Z"
   },
   {
    "duration": 16,
    "start_time": "2023-02-13T20:25:42.200Z"
   },
   {
    "duration": 55,
    "start_time": "2023-02-13T20:25:42.217Z"
   },
   {
    "duration": 41,
    "start_time": "2023-02-13T20:25:42.274Z"
   },
   {
    "duration": 54,
    "start_time": "2023-02-13T20:25:42.317Z"
   },
   {
    "duration": 81,
    "start_time": "2023-02-13T20:25:42.373Z"
   },
   {
    "duration": 22,
    "start_time": "2023-02-13T20:25:42.456Z"
   },
   {
    "duration": 19,
    "start_time": "2023-02-13T20:25:42.479Z"
   },
   {
    "duration": 90,
    "start_time": "2023-02-13T20:25:42.500Z"
   },
   {
    "duration": 18,
    "start_time": "2023-02-13T20:25:42.592Z"
   },
   {
    "duration": 78,
    "start_time": "2023-02-13T20:25:42.611Z"
   },
   {
    "duration": 36,
    "start_time": "2023-02-13T20:25:42.691Z"
   },
   {
    "duration": 69,
    "start_time": "2023-02-13T20:25:42.728Z"
   },
   {
    "duration": 18,
    "start_time": "2023-02-13T20:25:42.799Z"
   },
   {
    "duration": 45,
    "start_time": "2023-02-13T20:25:42.818Z"
   },
   {
    "duration": 21,
    "start_time": "2023-02-13T20:25:42.865Z"
   },
   {
    "duration": 271,
    "start_time": "2023-02-13T20:25:42.888Z"
   },
   {
    "duration": 29,
    "start_time": "2023-02-13T20:25:43.161Z"
   },
   {
    "duration": 123,
    "start_time": "2023-02-13T20:25:43.191Z"
   },
   {
    "duration": 515,
    "start_time": "2023-02-13T20:26:03.179Z"
   },
   {
    "duration": 67,
    "start_time": "2023-02-13T20:26:05.950Z"
   },
   {
    "duration": 15,
    "start_time": "2023-02-13T20:26:25.087Z"
   },
   {
    "duration": 18,
    "start_time": "2023-02-13T20:26:54.871Z"
   },
   {
    "duration": 2331,
    "start_time": "2023-02-13T20:27:23.562Z"
   },
   {
    "duration": 519,
    "start_time": "2023-02-13T20:27:25.894Z"
   },
   {
    "duration": 29,
    "start_time": "2023-02-13T20:27:26.415Z"
   },
   {
    "duration": 24,
    "start_time": "2023-02-13T20:27:26.447Z"
   },
   {
    "duration": 18,
    "start_time": "2023-02-13T20:27:26.473Z"
   },
   {
    "duration": 36,
    "start_time": "2023-02-13T20:27:26.494Z"
   },
   {
    "duration": 16,
    "start_time": "2023-02-13T20:27:26.533Z"
   },
   {
    "duration": 22,
    "start_time": "2023-02-13T20:27:26.551Z"
   },
   {
    "duration": 44,
    "start_time": "2023-02-13T20:27:26.575Z"
   },
   {
    "duration": 31,
    "start_time": "2023-02-13T20:27:26.623Z"
   },
   {
    "duration": 9,
    "start_time": "2023-02-13T20:27:26.656Z"
   },
   {
    "duration": 22,
    "start_time": "2023-02-13T20:27:26.668Z"
   },
   {
    "duration": 11,
    "start_time": "2023-02-13T20:27:26.692Z"
   },
   {
    "duration": 30,
    "start_time": "2023-02-13T20:27:26.705Z"
   },
   {
    "duration": 310,
    "start_time": "2023-02-13T20:27:26.737Z"
   },
   {
    "duration": 19,
    "start_time": "2023-02-13T20:27:27.049Z"
   },
   {
    "duration": 17,
    "start_time": "2023-02-13T20:27:27.070Z"
   },
   {
    "duration": 20,
    "start_time": "2023-02-13T20:27:27.088Z"
   },
   {
    "duration": 72,
    "start_time": "2023-02-13T20:27:27.110Z"
   },
   {
    "duration": 25,
    "start_time": "2023-02-13T20:27:27.184Z"
   },
   {
    "duration": 77,
    "start_time": "2023-02-13T20:27:27.211Z"
   },
   {
    "duration": 21,
    "start_time": "2023-02-13T20:27:27.289Z"
   },
   {
    "duration": 18,
    "start_time": "2023-02-13T20:27:27.311Z"
   },
   {
    "duration": 63,
    "start_time": "2023-02-13T20:27:27.349Z"
   },
   {
    "duration": 34,
    "start_time": "2023-02-13T20:27:27.414Z"
   },
   {
    "duration": 65,
    "start_time": "2023-02-13T20:27:27.450Z"
   },
   {
    "duration": 63,
    "start_time": "2023-02-13T20:27:27.517Z"
   },
   {
    "duration": 72,
    "start_time": "2023-02-13T20:27:27.584Z"
   },
   {
    "duration": 19,
    "start_time": "2023-02-13T20:27:27.658Z"
   },
   {
    "duration": 29,
    "start_time": "2023-02-13T20:27:27.679Z"
   },
   {
    "duration": 54,
    "start_time": "2023-02-13T20:27:27.710Z"
   },
   {
    "duration": 2416,
    "start_time": "2023-02-13T20:27:48.625Z"
   },
   {
    "duration": 534,
    "start_time": "2023-02-13T20:27:51.043Z"
   },
   {
    "duration": 25,
    "start_time": "2023-02-13T20:27:51.578Z"
   },
   {
    "duration": 18,
    "start_time": "2023-02-13T20:27:51.605Z"
   },
   {
    "duration": 24,
    "start_time": "2023-02-13T20:27:51.625Z"
   },
   {
    "duration": 32,
    "start_time": "2023-02-13T20:27:51.651Z"
   },
   {
    "duration": 9,
    "start_time": "2023-02-13T20:27:51.685Z"
   },
   {
    "duration": 18,
    "start_time": "2023-02-13T20:27:51.696Z"
   },
   {
    "duration": 33,
    "start_time": "2023-02-13T20:27:51.748Z"
   },
   {
    "duration": 10,
    "start_time": "2023-02-13T20:27:51.784Z"
   },
   {
    "duration": 8,
    "start_time": "2023-02-13T20:27:51.796Z"
   },
   {
    "duration": 43,
    "start_time": "2023-02-13T20:27:51.806Z"
   },
   {
    "duration": 5,
    "start_time": "2023-02-13T20:27:51.852Z"
   },
   {
    "duration": 10,
    "start_time": "2023-02-13T20:27:51.859Z"
   },
   {
    "duration": 344,
    "start_time": "2023-02-13T20:27:51.871Z"
   },
   {
    "duration": 21,
    "start_time": "2023-02-13T20:27:52.216Z"
   },
   {
    "duration": 22,
    "start_time": "2023-02-13T20:27:52.239Z"
   },
   {
    "duration": 22,
    "start_time": "2023-02-13T20:27:52.263Z"
   },
   {
    "duration": 40,
    "start_time": "2023-02-13T20:27:52.287Z"
   },
   {
    "duration": 31,
    "start_time": "2023-02-13T20:27:52.348Z"
   },
   {
    "duration": 98,
    "start_time": "2023-02-13T20:27:52.382Z"
   },
   {
    "duration": 25,
    "start_time": "2023-02-13T20:27:52.482Z"
   },
   {
    "duration": 47,
    "start_time": "2023-02-13T20:27:52.509Z"
   },
   {
    "duration": 67,
    "start_time": "2023-02-13T20:27:52.558Z"
   },
   {
    "duration": 34,
    "start_time": "2023-02-13T20:27:52.627Z"
   },
   {
    "duration": 66,
    "start_time": "2023-02-13T20:27:52.663Z"
   },
   {
    "duration": 55,
    "start_time": "2023-02-13T20:27:52.730Z"
   },
   {
    "duration": 76,
    "start_time": "2023-02-13T20:27:52.788Z"
   },
   {
    "duration": 19,
    "start_time": "2023-02-13T20:27:52.865Z"
   },
   {
    "duration": 21,
    "start_time": "2023-02-13T20:27:52.886Z"
   },
   {
    "duration": 54,
    "start_time": "2023-02-13T20:27:52.908Z"
   },
   {
    "duration": 70,
    "start_time": "2023-02-13T20:27:52.963Z"
   },
   {
    "duration": 1706,
    "start_time": "2023-02-13T20:28:14.757Z"
   },
   {
    "duration": 63,
    "start_time": "2023-02-13T20:33:59.449Z"
   },
   {
    "duration": 203,
    "start_time": "2023-02-13T20:34:15.262Z"
   },
   {
    "duration": 36,
    "start_time": "2023-02-13T20:34:21.361Z"
   },
   {
    "duration": 21,
    "start_time": "2023-02-13T20:34:28.200Z"
   },
   {
    "duration": 47,
    "start_time": "2023-02-14T12:18:28.023Z"
   },
   {
    "duration": 1321,
    "start_time": "2023-02-14T12:18:36.790Z"
   },
   {
    "duration": 514,
    "start_time": "2023-02-14T12:18:38.113Z"
   },
   {
    "duration": 21,
    "start_time": "2023-02-14T12:18:38.629Z"
   },
   {
    "duration": 14,
    "start_time": "2023-02-14T12:18:38.652Z"
   },
   {
    "duration": 20,
    "start_time": "2023-02-14T12:18:38.668Z"
   },
   {
    "duration": 29,
    "start_time": "2023-02-14T12:18:38.690Z"
   },
   {
    "duration": 11,
    "start_time": "2023-02-14T12:18:38.721Z"
   },
   {
    "duration": 48,
    "start_time": "2023-02-14T12:18:38.735Z"
   },
   {
    "duration": 32,
    "start_time": "2023-02-14T12:18:38.785Z"
   },
   {
    "duration": 10,
    "start_time": "2023-02-14T12:18:38.821Z"
   },
   {
    "duration": 49,
    "start_time": "2023-02-14T12:18:38.833Z"
   },
   {
    "duration": 11,
    "start_time": "2023-02-14T12:18:38.884Z"
   },
   {
    "duration": 6,
    "start_time": "2023-02-14T12:18:38.897Z"
   },
   {
    "duration": 6,
    "start_time": "2023-02-14T12:18:38.905Z"
   },
   {
    "duration": 329,
    "start_time": "2023-02-14T12:18:38.913Z"
   },
   {
    "duration": 21,
    "start_time": "2023-02-14T12:18:39.244Z"
   },
   {
    "duration": 31,
    "start_time": "2023-02-14T12:18:39.267Z"
   },
   {
    "duration": 22,
    "start_time": "2023-02-14T12:18:39.300Z"
   },
   {
    "duration": 71,
    "start_time": "2023-02-14T12:18:39.324Z"
   },
   {
    "duration": 26,
    "start_time": "2023-02-14T12:18:39.397Z"
   },
   {
    "duration": 83,
    "start_time": "2023-02-14T12:18:39.425Z"
   },
   {
    "duration": 19,
    "start_time": "2023-02-14T12:18:39.509Z"
   },
   {
    "duration": 27,
    "start_time": "2023-02-14T12:18:39.529Z"
   },
   {
    "duration": 78,
    "start_time": "2023-02-14T12:18:39.558Z"
   },
   {
    "duration": 16,
    "start_time": "2023-02-14T12:18:39.637Z"
   },
   {
    "duration": 83,
    "start_time": "2023-02-14T12:18:39.654Z"
   },
   {
    "duration": 50,
    "start_time": "2023-02-14T12:18:39.738Z"
   },
   {
    "duration": 52,
    "start_time": "2023-02-14T12:18:39.791Z"
   },
   {
    "duration": 227,
    "start_time": "2023-02-14T12:18:39.845Z"
   },
   {
    "duration": 199,
    "start_time": "2023-02-14T12:19:07.113Z"
   },
   {
    "duration": 831,
    "start_time": "2023-02-14T12:22:53.364Z"
   },
   {
    "duration": 985,
    "start_time": "2023-02-14T12:25:41.659Z"
   },
   {
    "duration": 1190,
    "start_time": "2023-02-14T12:25:47.553Z"
   },
   {
    "duration": 173,
    "start_time": "2023-02-14T12:25:48.746Z"
   },
   {
    "duration": 22,
    "start_time": "2023-02-14T12:25:48.921Z"
   },
   {
    "duration": 38,
    "start_time": "2023-02-14T12:25:48.946Z"
   },
   {
    "duration": 8,
    "start_time": "2023-02-14T12:25:48.986Z"
   },
   {
    "duration": 31,
    "start_time": "2023-02-14T12:25:48.996Z"
   },
   {
    "duration": 11,
    "start_time": "2023-02-14T12:25:49.029Z"
   },
   {
    "duration": 48,
    "start_time": "2023-02-14T12:25:49.042Z"
   },
   {
    "duration": 32,
    "start_time": "2023-02-14T12:25:49.092Z"
   },
   {
    "duration": 9,
    "start_time": "2023-02-14T12:25:49.126Z"
   },
   {
    "duration": 8,
    "start_time": "2023-02-14T12:25:49.136Z"
   },
   {
    "duration": 42,
    "start_time": "2023-02-14T12:25:49.145Z"
   },
   {
    "duration": 5,
    "start_time": "2023-02-14T12:25:49.189Z"
   },
   {
    "duration": 6,
    "start_time": "2023-02-14T12:25:49.195Z"
   },
   {
    "duration": 302,
    "start_time": "2023-02-14T12:25:49.203Z"
   },
   {
    "duration": 20,
    "start_time": "2023-02-14T12:25:49.507Z"
   },
   {
    "duration": 18,
    "start_time": "2023-02-14T12:25:49.529Z"
   },
   {
    "duration": 45,
    "start_time": "2023-02-14T12:25:49.549Z"
   },
   {
    "duration": 40,
    "start_time": "2023-02-14T12:25:49.595Z"
   },
   {
    "duration": 55,
    "start_time": "2023-02-14T12:25:49.638Z"
   },
   {
    "duration": 86,
    "start_time": "2023-02-14T12:25:49.695Z"
   },
   {
    "duration": 24,
    "start_time": "2023-02-14T12:25:49.783Z"
   },
   {
    "duration": 21,
    "start_time": "2023-02-14T12:25:49.809Z"
   },
   {
    "duration": 96,
    "start_time": "2023-02-14T12:25:49.832Z"
   },
   {
    "duration": 19,
    "start_time": "2023-02-14T12:25:49.930Z"
   },
   {
    "duration": 91,
    "start_time": "2023-02-14T12:25:49.950Z"
   },
   {
    "duration": 49,
    "start_time": "2023-02-14T12:25:50.044Z"
   },
   {
    "duration": 51,
    "start_time": "2023-02-14T12:25:50.097Z"
   },
   {
    "duration": 260,
    "start_time": "2023-02-14T12:25:50.150Z"
   },
   {
    "duration": 1014,
    "start_time": "2023-02-14T12:25:50.412Z"
   },
   {
    "duration": 1910,
    "start_time": "2023-02-14T12:27:15.313Z"
   },
   {
    "duration": 1252,
    "start_time": "2023-02-14T12:31:58.005Z"
   },
   {
    "duration": 873,
    "start_time": "2023-02-14T12:32:07.592Z"
   },
   {
    "duration": 11,
    "start_time": "2023-02-14T12:32:39.479Z"
   },
   {
    "duration": 24,
    "start_time": "2023-02-14T13:03:11.163Z"
   },
   {
    "duration": 238,
    "start_time": "2023-02-14T13:03:20.503Z"
   },
   {
    "duration": 208,
    "start_time": "2023-02-14T13:03:37.252Z"
   },
   {
    "duration": 1564,
    "start_time": "2023-02-14T13:04:59.769Z"
   },
   {
    "duration": 21,
    "start_time": "2023-02-14T13:12:53.682Z"
   },
   {
    "duration": 105,
    "start_time": "2023-02-14T13:13:03.636Z"
   },
   {
    "duration": 62,
    "start_time": "2023-02-14T13:13:30.526Z"
   },
   {
    "duration": 5,
    "start_time": "2023-02-14T13:13:59.444Z"
   },
   {
    "duration": 11,
    "start_time": "2023-02-14T13:14:04.513Z"
   },
   {
    "duration": 11,
    "start_time": "2023-02-14T13:14:42.873Z"
   },
   {
    "duration": 242,
    "start_time": "2023-02-14T13:15:26.446Z"
   },
   {
    "duration": 63,
    "start_time": "2023-02-14T13:15:30.257Z"
   },
   {
    "duration": 12,
    "start_time": "2023-02-14T13:15:32.775Z"
   },
   {
    "duration": 15,
    "start_time": "2023-02-14T13:15:34.586Z"
   },
   {
    "duration": 231,
    "start_time": "2023-02-14T13:16:16.393Z"
   },
   {
    "duration": 203,
    "start_time": "2023-02-14T13:16:26.737Z"
   },
   {
    "duration": 12,
    "start_time": "2023-02-14T13:16:27.624Z"
   },
   {
    "duration": 10,
    "start_time": "2023-02-14T13:16:28.229Z"
   },
   {
    "duration": 11,
    "start_time": "2023-02-14T13:16:57.526Z"
   },
   {
    "duration": 10,
    "start_time": "2023-02-14T13:19:33.564Z"
   },
   {
    "duration": 237,
    "start_time": "2023-02-14T13:20:31.342Z"
   },
   {
    "duration": 208,
    "start_time": "2023-02-14T13:20:42.443Z"
   },
   {
    "duration": 10,
    "start_time": "2023-02-14T13:21:26.139Z"
   },
   {
    "duration": 13,
    "start_time": "2023-02-14T13:21:49.092Z"
   },
   {
    "duration": 20,
    "start_time": "2023-02-14T13:22:07.555Z"
   },
   {
    "duration": 14,
    "start_time": "2023-02-14T13:22:59.657Z"
   },
   {
    "duration": 17,
    "start_time": "2023-02-14T13:23:07.267Z"
   },
   {
    "duration": 17,
    "start_time": "2023-02-14T13:23:54.726Z"
   },
   {
    "duration": 83,
    "start_time": "2023-02-14T13:35:37.360Z"
   },
   {
    "duration": 81,
    "start_time": "2023-02-14T13:35:58.774Z"
   },
   {
    "duration": 44,
    "start_time": "2023-02-14T13:36:28.732Z"
   },
   {
    "duration": 51,
    "start_time": "2023-02-14T13:37:10.577Z"
   },
   {
    "duration": 52,
    "start_time": "2023-02-14T13:37:30.570Z"
   },
   {
    "duration": 17,
    "start_time": "2023-02-14T13:37:50.087Z"
   },
   {
    "duration": 16,
    "start_time": "2023-02-14T13:38:14.734Z"
   },
   {
    "duration": 18,
    "start_time": "2023-02-14T13:38:40.595Z"
   },
   {
    "duration": 19,
    "start_time": "2023-02-14T13:38:46.205Z"
   },
   {
    "duration": 24,
    "start_time": "2023-02-14T13:39:19.298Z"
   },
   {
    "duration": 50,
    "start_time": "2023-02-14T13:39:38.020Z"
   },
   {
    "duration": 5,
    "start_time": "2023-02-14T13:47:44.228Z"
   },
   {
    "duration": 13,
    "start_time": "2023-02-14T13:48:47.606Z"
   },
   {
    "duration": 5,
    "start_time": "2023-02-14T13:49:54.717Z"
   },
   {
    "duration": 15,
    "start_time": "2023-02-14T13:49:55.248Z"
   },
   {
    "duration": 1191,
    "start_time": "2023-02-14T13:52:42.244Z"
   },
   {
    "duration": 189,
    "start_time": "2023-02-14T13:52:43.437Z"
   },
   {
    "duration": 26,
    "start_time": "2023-02-14T13:52:43.628Z"
   },
   {
    "duration": 33,
    "start_time": "2023-02-14T13:52:43.656Z"
   },
   {
    "duration": 9,
    "start_time": "2023-02-14T13:52:43.692Z"
   },
   {
    "duration": 30,
    "start_time": "2023-02-14T13:52:43.704Z"
   },
   {
    "duration": 10,
    "start_time": "2023-02-14T13:52:43.736Z"
   },
   {
    "duration": 22,
    "start_time": "2023-02-14T13:52:43.782Z"
   },
   {
    "duration": 35,
    "start_time": "2023-02-14T13:52:43.807Z"
   },
   {
    "duration": 36,
    "start_time": "2023-02-14T13:52:43.845Z"
   },
   {
    "duration": 9,
    "start_time": "2023-02-14T13:52:43.883Z"
   },
   {
    "duration": 9,
    "start_time": "2023-02-14T13:52:43.893Z"
   },
   {
    "duration": 6,
    "start_time": "2023-02-14T13:52:43.903Z"
   },
   {
    "duration": 5,
    "start_time": "2023-02-14T13:52:43.911Z"
   },
   {
    "duration": 344,
    "start_time": "2023-02-14T13:52:43.918Z"
   },
   {
    "duration": 26,
    "start_time": "2023-02-14T13:52:44.264Z"
   },
   {
    "duration": 18,
    "start_time": "2023-02-14T13:52:44.292Z"
   },
   {
    "duration": 21,
    "start_time": "2023-02-14T13:52:44.312Z"
   },
   {
    "duration": 72,
    "start_time": "2023-02-14T13:52:44.335Z"
   },
   {
    "duration": 30,
    "start_time": "2023-02-14T13:52:44.409Z"
   },
   {
    "duration": 88,
    "start_time": "2023-02-14T13:52:44.441Z"
   },
   {
    "duration": 21,
    "start_time": "2023-02-14T13:52:44.531Z"
   },
   {
    "duration": 38,
    "start_time": "2023-02-14T13:52:44.555Z"
   },
   {
    "duration": 95,
    "start_time": "2023-02-14T13:52:44.595Z"
   },
   {
    "duration": 16,
    "start_time": "2023-02-14T13:52:44.692Z"
   },
   {
    "duration": 81,
    "start_time": "2023-02-14T13:52:44.710Z"
   },
   {
    "duration": 39,
    "start_time": "2023-02-14T13:52:44.793Z"
   },
   {
    "duration": 96,
    "start_time": "2023-02-14T13:52:44.836Z"
   },
   {
    "duration": 164,
    "start_time": "2023-02-14T13:52:44.935Z"
   },
   {
    "duration": 0,
    "start_time": "2023-02-14T13:52:45.101Z"
   },
   {
    "duration": 0,
    "start_time": "2023-02-14T13:52:45.102Z"
   },
   {
    "duration": 0,
    "start_time": "2023-02-14T13:52:45.103Z"
   },
   {
    "duration": 0,
    "start_time": "2023-02-14T13:52:45.104Z"
   },
   {
    "duration": 0,
    "start_time": "2023-02-14T13:52:45.106Z"
   },
   {
    "duration": 863,
    "start_time": "2023-02-14T13:53:19.268Z"
   },
   {
    "duration": 1188,
    "start_time": "2023-02-14T13:53:33.375Z"
   },
   {
    "duration": 172,
    "start_time": "2023-02-14T13:53:34.565Z"
   },
   {
    "duration": 21,
    "start_time": "2023-02-14T13:53:34.741Z"
   },
   {
    "duration": 33,
    "start_time": "2023-02-14T13:53:34.765Z"
   },
   {
    "duration": 10,
    "start_time": "2023-02-14T13:53:34.801Z"
   },
   {
    "duration": 39,
    "start_time": "2023-02-14T13:53:34.813Z"
   },
   {
    "duration": 11,
    "start_time": "2023-02-14T13:53:34.881Z"
   },
   {
    "duration": 20,
    "start_time": "2023-02-14T13:53:34.894Z"
   },
   {
    "duration": 64,
    "start_time": "2023-02-14T13:53:34.919Z"
   },
   {
    "duration": 12,
    "start_time": "2023-02-14T13:53:34.984Z"
   },
   {
    "duration": 14,
    "start_time": "2023-02-14T13:53:34.999Z"
   },
   {
    "duration": 10,
    "start_time": "2023-02-14T13:53:35.015Z"
   },
   {
    "duration": 6,
    "start_time": "2023-02-14T13:53:35.027Z"
   },
   {
    "duration": 48,
    "start_time": "2023-02-14T13:53:35.035Z"
   },
   {
    "duration": 304,
    "start_time": "2023-02-14T13:53:35.085Z"
   },
   {
    "duration": 19,
    "start_time": "2023-02-14T13:53:35.391Z"
   },
   {
    "duration": 29,
    "start_time": "2023-02-14T13:53:35.412Z"
   },
   {
    "duration": 39,
    "start_time": "2023-02-14T13:53:35.443Z"
   },
   {
    "duration": 40,
    "start_time": "2023-02-14T13:53:35.483Z"
   },
   {
    "duration": 34,
    "start_time": "2023-02-14T13:53:35.526Z"
   },
   {
    "duration": 80,
    "start_time": "2023-02-14T13:53:35.562Z"
   },
   {
    "duration": 40,
    "start_time": "2023-02-14T13:53:35.643Z"
   },
   {
    "duration": 18,
    "start_time": "2023-02-14T13:53:35.685Z"
   },
   {
    "duration": 86,
    "start_time": "2023-02-14T13:53:35.705Z"
   },
   {
    "duration": 17,
    "start_time": "2023-02-14T13:53:35.793Z"
   },
   {
    "duration": 87,
    "start_time": "2023-02-14T13:53:35.812Z"
   },
   {
    "duration": 37,
    "start_time": "2023-02-14T13:53:35.902Z"
   },
   {
    "duration": 71,
    "start_time": "2023-02-14T13:53:35.941Z"
   },
   {
    "duration": 244,
    "start_time": "2023-02-14T13:53:36.014Z"
   },
   {
    "duration": 14,
    "start_time": "2023-02-14T13:53:36.260Z"
   },
   {
    "duration": 27,
    "start_time": "2023-02-14T13:53:36.283Z"
   },
   {
    "duration": 14,
    "start_time": "2023-02-14T13:53:36.312Z"
   },
   {
    "duration": 165,
    "start_time": "2023-02-14T13:53:36.329Z"
   },
   {
    "duration": 819,
    "start_time": "2023-02-14T13:54:06.035Z"
   },
   {
    "duration": 950,
    "start_time": "2023-02-14T13:54:48.729Z"
   },
   {
    "duration": 1208,
    "start_time": "2023-02-14T13:55:13.516Z"
   },
   {
    "duration": 169,
    "start_time": "2023-02-14T13:55:14.726Z"
   },
   {
    "duration": 22,
    "start_time": "2023-02-14T13:55:14.897Z"
   },
   {
    "duration": 22,
    "start_time": "2023-02-14T13:55:14.921Z"
   },
   {
    "duration": 37,
    "start_time": "2023-02-14T13:55:14.947Z"
   },
   {
    "duration": 38,
    "start_time": "2023-02-14T13:55:14.986Z"
   },
   {
    "duration": 14,
    "start_time": "2023-02-14T13:55:15.026Z"
   },
   {
    "duration": 40,
    "start_time": "2023-02-14T13:55:15.043Z"
   },
   {
    "duration": 60,
    "start_time": "2023-02-14T13:55:15.085Z"
   },
   {
    "duration": 9,
    "start_time": "2023-02-14T13:55:15.146Z"
   },
   {
    "duration": 28,
    "start_time": "2023-02-14T13:55:15.157Z"
   },
   {
    "duration": 11,
    "start_time": "2023-02-14T13:55:15.187Z"
   },
   {
    "duration": 8,
    "start_time": "2023-02-14T13:55:15.200Z"
   },
   {
    "duration": 12,
    "start_time": "2023-02-14T13:55:15.210Z"
   },
   {
    "duration": 333,
    "start_time": "2023-02-14T13:55:15.224Z"
   },
   {
    "duration": 36,
    "start_time": "2023-02-14T13:55:15.560Z"
   },
   {
    "duration": 19,
    "start_time": "2023-02-14T13:55:15.598Z"
   },
   {
    "duration": 20,
    "start_time": "2023-02-14T13:55:15.619Z"
   },
   {
    "duration": 70,
    "start_time": "2023-02-14T13:55:15.642Z"
   },
   {
    "duration": 30,
    "start_time": "2023-02-14T13:55:15.714Z"
   },
   {
    "duration": 84,
    "start_time": "2023-02-14T13:55:15.746Z"
   },
   {
    "duration": 21,
    "start_time": "2023-02-14T13:55:15.832Z"
   },
   {
    "duration": 34,
    "start_time": "2023-02-14T13:55:15.855Z"
   },
   {
    "duration": 66,
    "start_time": "2023-02-14T13:55:15.891Z"
   },
   {
    "duration": 37,
    "start_time": "2023-02-14T13:55:15.960Z"
   },
   {
    "duration": 89,
    "start_time": "2023-02-14T13:55:15.999Z"
   },
   {
    "duration": 42,
    "start_time": "2023-02-14T13:55:16.089Z"
   },
   {
    "duration": 78,
    "start_time": "2023-02-14T13:55:16.133Z"
   },
   {
    "duration": 1074,
    "start_time": "2023-02-14T13:55:16.213Z"
   },
   {
    "duration": 0,
    "start_time": "2023-02-14T13:55:17.293Z"
   },
   {
    "duration": 0,
    "start_time": "2023-02-14T13:55:17.297Z"
   },
   {
    "duration": 0,
    "start_time": "2023-02-14T13:55:17.298Z"
   },
   {
    "duration": 0,
    "start_time": "2023-02-14T13:55:17.299Z"
   },
   {
    "duration": 0,
    "start_time": "2023-02-14T13:55:17.300Z"
   },
   {
    "duration": 211,
    "start_time": "2023-02-14T13:55:29.287Z"
   },
   {
    "duration": 10,
    "start_time": "2023-02-14T13:55:30.227Z"
   },
   {
    "duration": 349,
    "start_time": "2023-02-14T13:55:46.316Z"
   },
   {
    "duration": 70,
    "start_time": "2023-02-14T13:56:00.203Z"
   },
   {
    "duration": 26,
    "start_time": "2023-02-14T14:04:17.097Z"
   },
   {
    "duration": 15,
    "start_time": "2023-02-14T14:08:00.137Z"
   },
   {
    "duration": 8,
    "start_time": "2023-02-14T14:15:50.394Z"
   },
   {
    "duration": 20,
    "start_time": "2023-02-14T14:15:51.007Z"
   },
   {
    "duration": 6,
    "start_time": "2023-02-14T14:16:21.135Z"
   },
   {
    "duration": 12,
    "start_time": "2023-02-14T14:16:22.227Z"
   },
   {
    "duration": 17,
    "start_time": "2023-02-14T14:17:38.326Z"
   },
   {
    "duration": 6,
    "start_time": "2023-02-14T14:18:39.015Z"
   },
   {
    "duration": 11,
    "start_time": "2023-02-14T14:18:39.524Z"
   },
   {
    "duration": 9,
    "start_time": "2023-02-14T14:21:36.225Z"
   },
   {
    "duration": 64,
    "start_time": "2023-02-14T14:21:52.265Z"
   },
   {
    "duration": 16,
    "start_time": "2023-02-14T14:21:58.819Z"
   },
   {
    "duration": 14,
    "start_time": "2023-02-14T14:24:06.417Z"
   },
   {
    "duration": 14,
    "start_time": "2023-02-14T14:24:16.318Z"
   },
   {
    "duration": 1103,
    "start_time": "2023-02-14T14:24:21.713Z"
   },
   {
    "duration": 172,
    "start_time": "2023-02-14T14:24:22.818Z"
   },
   {
    "duration": 20,
    "start_time": "2023-02-14T14:24:22.991Z"
   },
   {
    "duration": 14,
    "start_time": "2023-02-14T14:24:23.012Z"
   },
   {
    "duration": 7,
    "start_time": "2023-02-14T14:24:23.028Z"
   },
   {
    "duration": 66,
    "start_time": "2023-02-14T14:24:23.037Z"
   },
   {
    "duration": 13,
    "start_time": "2023-02-14T14:24:23.105Z"
   },
   {
    "duration": 17,
    "start_time": "2023-02-14T14:24:23.120Z"
   },
   {
    "duration": 69,
    "start_time": "2023-02-14T14:24:23.139Z"
   },
   {
    "duration": 9,
    "start_time": "2023-02-14T14:24:23.209Z"
   },
   {
    "duration": 9,
    "start_time": "2023-02-14T14:24:23.220Z"
   },
   {
    "duration": 9,
    "start_time": "2023-02-14T14:24:23.231Z"
   },
   {
    "duration": 43,
    "start_time": "2023-02-14T14:24:23.241Z"
   },
   {
    "duration": 5,
    "start_time": "2023-02-14T14:24:23.287Z"
   },
   {
    "duration": 320,
    "start_time": "2023-02-14T14:24:23.294Z"
   },
   {
    "duration": 20,
    "start_time": "2023-02-14T14:24:23.616Z"
   },
   {
    "duration": 16,
    "start_time": "2023-02-14T14:24:23.637Z"
   },
   {
    "duration": 40,
    "start_time": "2023-02-14T14:24:23.655Z"
   },
   {
    "duration": 37,
    "start_time": "2023-02-14T14:24:23.697Z"
   },
   {
    "duration": 64,
    "start_time": "2023-02-14T14:24:23.736Z"
   },
   {
    "duration": 61,
    "start_time": "2023-02-14T14:24:23.801Z"
   },
   {
    "duration": 34,
    "start_time": "2023-02-14T14:24:23.864Z"
   },
   {
    "duration": 19,
    "start_time": "2023-02-14T14:24:23.899Z"
   },
   {
    "duration": 89,
    "start_time": "2023-02-14T14:24:23.919Z"
   },
   {
    "duration": 21,
    "start_time": "2023-02-14T14:24:24.009Z"
   },
   {
    "duration": 90,
    "start_time": "2023-02-14T14:24:24.031Z"
   },
   {
    "duration": 37,
    "start_time": "2023-02-14T14:24:24.123Z"
   },
   {
    "duration": 58,
    "start_time": "2023-02-14T14:24:24.162Z"
   },
   {
    "duration": 75,
    "start_time": "2023-02-14T14:24:24.222Z"
   },
   {
    "duration": 204,
    "start_time": "2023-02-14T14:24:24.299Z"
   },
   {
    "duration": 9,
    "start_time": "2023-02-14T14:24:24.504Z"
   },
   {
    "duration": 17,
    "start_time": "2023-02-14T14:24:24.515Z"
   },
   {
    "duration": 5,
    "start_time": "2023-02-14T14:24:24.534Z"
   },
   {
    "duration": 135,
    "start_time": "2023-02-14T14:24:24.541Z"
   },
   {
    "duration": 20,
    "start_time": "2023-02-14T14:25:17.376Z"
   },
   {
    "duration": 15,
    "start_time": "2023-02-14T14:25:19.064Z"
   },
   {
    "duration": 18,
    "start_time": "2023-02-14T14:25:37.879Z"
   },
   {
    "duration": 1142,
    "start_time": "2023-02-14T14:25:43.829Z"
   },
   {
    "duration": 177,
    "start_time": "2023-02-14T14:25:44.974Z"
   },
   {
    "duration": 28,
    "start_time": "2023-02-14T14:25:45.153Z"
   },
   {
    "duration": 14,
    "start_time": "2023-02-14T14:25:45.183Z"
   },
   {
    "duration": 8,
    "start_time": "2023-02-14T14:25:45.200Z"
   },
   {
    "duration": 31,
    "start_time": "2023-02-14T14:25:45.209Z"
   },
   {
    "duration": 40,
    "start_time": "2023-02-14T14:25:45.242Z"
   },
   {
    "duration": 12,
    "start_time": "2023-02-14T14:25:45.285Z"
   },
   {
    "duration": 40,
    "start_time": "2023-02-14T14:25:45.299Z"
   },
   {
    "duration": 9,
    "start_time": "2023-02-14T14:25:45.340Z"
   },
   {
    "duration": 10,
    "start_time": "2023-02-14T14:25:45.382Z"
   },
   {
    "duration": 9,
    "start_time": "2023-02-14T14:25:45.394Z"
   },
   {
    "duration": 8,
    "start_time": "2023-02-14T14:25:45.405Z"
   },
   {
    "duration": 9,
    "start_time": "2023-02-14T14:25:45.416Z"
   },
   {
    "duration": 334,
    "start_time": "2023-02-14T14:25:45.427Z"
   },
   {
    "duration": 37,
    "start_time": "2023-02-14T14:25:45.763Z"
   },
   {
    "duration": 19,
    "start_time": "2023-02-14T14:25:45.802Z"
   },
   {
    "duration": 18,
    "start_time": "2023-02-14T14:25:45.822Z"
   },
   {
    "duration": 65,
    "start_time": "2023-02-14T14:25:45.841Z"
   },
   {
    "duration": 29,
    "start_time": "2023-02-14T14:25:45.908Z"
   },
   {
    "duration": 89,
    "start_time": "2023-02-14T14:25:45.939Z"
   },
   {
    "duration": 23,
    "start_time": "2023-02-14T14:25:46.030Z"
   },
   {
    "duration": 45,
    "start_time": "2023-02-14T14:25:46.055Z"
   },
   {
    "duration": 81,
    "start_time": "2023-02-14T14:25:46.101Z"
   },
   {
    "duration": 22,
    "start_time": "2023-02-14T14:25:46.184Z"
   },
   {
    "duration": 100,
    "start_time": "2023-02-14T14:25:46.208Z"
   },
   {
    "duration": 45,
    "start_time": "2023-02-14T14:25:46.310Z"
   },
   {
    "duration": 90,
    "start_time": "2023-02-14T14:25:46.356Z"
   },
   {
    "duration": 109,
    "start_time": "2023-02-14T14:25:46.448Z"
   },
   {
    "duration": 268,
    "start_time": "2023-02-14T14:25:46.559Z"
   },
   {
    "duration": 10,
    "start_time": "2023-02-14T14:25:46.828Z"
   },
   {
    "duration": 42,
    "start_time": "2023-02-14T14:25:46.840Z"
   },
   {
    "duration": 7,
    "start_time": "2023-02-14T14:25:46.885Z"
   },
   {
    "duration": 122,
    "start_time": "2023-02-14T14:25:46.893Z"
   },
   {
    "duration": 5,
    "start_time": "2023-02-14T14:27:44.469Z"
   },
   {
    "duration": 12,
    "start_time": "2023-02-14T14:27:44.686Z"
   },
   {
    "duration": 6,
    "start_time": "2023-02-14T14:27:53.579Z"
   },
   {
    "duration": 1750,
    "start_time": "2023-02-14T14:27:55.950Z"
   },
   {
    "duration": 220,
    "start_time": "2023-02-14T14:56:02.999Z"
   },
   {
    "duration": 235,
    "start_time": "2023-02-14T14:56:55.666Z"
   },
   {
    "duration": 252,
    "start_time": "2023-02-14T14:57:14.052Z"
   },
   {
    "duration": 238,
    "start_time": "2023-02-14T14:57:24.236Z"
   },
   {
    "duration": 225,
    "start_time": "2023-02-14T14:57:27.970Z"
   },
   {
    "duration": 6,
    "start_time": "2023-02-14T15:00:23.747Z"
   },
   {
    "duration": 891,
    "start_time": "2023-02-14T15:00:24.534Z"
   },
   {
    "duration": 6,
    "start_time": "2023-02-14T15:00:54.265Z"
   },
   {
    "duration": 20,
    "start_time": "2023-02-14T15:00:54.782Z"
   },
   {
    "duration": 6,
    "start_time": "2023-02-14T15:02:03.779Z"
   },
   {
    "duration": 20,
    "start_time": "2023-02-14T15:02:04.363Z"
   },
   {
    "duration": 9,
    "start_time": "2023-02-14T15:02:17.872Z"
   },
   {
    "duration": 22,
    "start_time": "2023-02-14T15:02:19.313Z"
   },
   {
    "duration": 6,
    "start_time": "2023-02-14T15:02:28.416Z"
   },
   {
    "duration": 20,
    "start_time": "2023-02-14T15:02:28.859Z"
   },
   {
    "duration": 6,
    "start_time": "2023-02-14T15:03:17.406Z"
   },
   {
    "duration": 9,
    "start_time": "2023-02-14T15:03:17.945Z"
   },
   {
    "duration": 6,
    "start_time": "2023-02-14T15:03:23.801Z"
   },
   {
    "duration": 7,
    "start_time": "2023-02-14T15:03:28.735Z"
   },
   {
    "duration": 9,
    "start_time": "2023-02-14T15:03:29.135Z"
   },
   {
    "duration": 5,
    "start_time": "2023-02-14T15:04:03.224Z"
   },
   {
    "duration": 21,
    "start_time": "2023-02-14T15:04:03.836Z"
   },
   {
    "duration": 6,
    "start_time": "2023-02-14T15:04:54.102Z"
   },
   {
    "duration": 20,
    "start_time": "2023-02-14T15:04:54.608Z"
   },
   {
    "duration": 8,
    "start_time": "2023-02-14T15:05:30.189Z"
   },
   {
    "duration": 24,
    "start_time": "2023-02-14T15:05:30.640Z"
   },
   {
    "duration": 21,
    "start_time": "2023-02-14T15:05:47.600Z"
   },
   {
    "duration": 12,
    "start_time": "2023-02-14T15:05:49.880Z"
   },
   {
    "duration": 26,
    "start_time": "2023-02-14T15:05:50.164Z"
   },
   {
    "duration": 58,
    "start_time": "2023-02-14T15:14:29.370Z"
   },
   {
    "duration": 94,
    "start_time": "2023-02-14T15:14:52.914Z"
   },
   {
    "duration": 10,
    "start_time": "2023-02-14T15:19:00.191Z"
   },
   {
    "duration": 10,
    "start_time": "2023-02-14T15:19:00.765Z"
   },
   {
    "duration": 9,
    "start_time": "2023-02-14T15:19:08.958Z"
   },
   {
    "duration": 1198,
    "start_time": "2023-02-14T15:19:22.209Z"
   },
   {
    "duration": 194,
    "start_time": "2023-02-14T15:19:23.411Z"
   },
   {
    "duration": 22,
    "start_time": "2023-02-14T15:19:23.609Z"
   },
   {
    "duration": 14,
    "start_time": "2023-02-14T15:19:23.632Z"
   },
   {
    "duration": 37,
    "start_time": "2023-02-14T15:19:23.648Z"
   },
   {
    "duration": 30,
    "start_time": "2023-02-14T15:19:23.687Z"
   },
   {
    "duration": 11,
    "start_time": "2023-02-14T15:19:23.719Z"
   },
   {
    "duration": 15,
    "start_time": "2023-02-14T15:19:23.731Z"
   },
   {
    "duration": 70,
    "start_time": "2023-02-14T15:19:23.748Z"
   },
   {
    "duration": 9,
    "start_time": "2023-02-14T15:19:23.820Z"
   },
   {
    "duration": 9,
    "start_time": "2023-02-14T15:19:23.831Z"
   },
   {
    "duration": 41,
    "start_time": "2023-02-14T15:19:23.842Z"
   },
   {
    "duration": 15,
    "start_time": "2023-02-14T15:19:23.886Z"
   },
   {
    "duration": 9,
    "start_time": "2023-02-14T15:19:23.902Z"
   },
   {
    "duration": 344,
    "start_time": "2023-02-14T15:19:23.912Z"
   },
   {
    "duration": 36,
    "start_time": "2023-02-14T15:19:24.257Z"
   },
   {
    "duration": 21,
    "start_time": "2023-02-14T15:19:24.295Z"
   },
   {
    "duration": 19,
    "start_time": "2023-02-14T15:19:24.318Z"
   },
   {
    "duration": 68,
    "start_time": "2023-02-14T15:19:24.339Z"
   },
   {
    "duration": 30,
    "start_time": "2023-02-14T15:19:24.409Z"
   },
   {
    "duration": 104,
    "start_time": "2023-02-14T15:19:24.442Z"
   },
   {
    "duration": 22,
    "start_time": "2023-02-14T15:19:24.548Z"
   },
   {
    "duration": 27,
    "start_time": "2023-02-14T15:19:24.571Z"
   },
   {
    "duration": 88,
    "start_time": "2023-02-14T15:19:24.601Z"
   },
   {
    "duration": 21,
    "start_time": "2023-02-14T15:19:24.691Z"
   },
   {
    "duration": 81,
    "start_time": "2023-02-14T15:19:24.714Z"
   },
   {
    "duration": 37,
    "start_time": "2023-02-14T15:19:24.798Z"
   },
   {
    "duration": 85,
    "start_time": "2023-02-14T15:19:24.837Z"
   },
   {
    "duration": 102,
    "start_time": "2023-02-14T15:19:24.923Z"
   },
   {
    "duration": 242,
    "start_time": "2023-02-14T15:19:25.026Z"
   },
   {
    "duration": 13,
    "start_time": "2023-02-14T15:19:25.270Z"
   },
   {
    "duration": 26,
    "start_time": "2023-02-14T15:19:25.285Z"
   },
   {
    "duration": 282,
    "start_time": "2023-02-14T15:19:25.313Z"
   },
   {
    "duration": 7,
    "start_time": "2023-02-14T15:19:25.597Z"
   },
   {
    "duration": 0,
    "start_time": "2023-02-14T15:19:25.606Z"
   },
   {
    "duration": 6,
    "start_time": "2023-02-14T15:20:51.076Z"
   },
   {
    "duration": 753,
    "start_time": "2023-02-14T15:20:52.155Z"
   },
   {
    "duration": 6,
    "start_time": "2023-02-14T15:21:31.857Z"
   },
   {
    "duration": 894,
    "start_time": "2023-02-14T15:21:32.433Z"
   },
   {
    "duration": 6,
    "start_time": "2023-02-14T15:22:17.507Z"
   },
   {
    "duration": 868,
    "start_time": "2023-02-14T15:22:18.144Z"
   },
   {
    "duration": 42,
    "start_time": "2023-02-14T15:28:57.409Z"
   },
   {
    "duration": 49,
    "start_time": "2023-02-14T15:29:36.411Z"
   },
   {
    "duration": 5,
    "start_time": "2023-02-14T15:30:42.051Z"
   },
   {
    "duration": 1314,
    "start_time": "2023-02-14T15:30:42.632Z"
   },
   {
    "duration": 1028,
    "start_time": "2023-02-14T15:31:48.404Z"
   },
   {
    "duration": 1366,
    "start_time": "2023-02-14T15:31:55.082Z"
   },
   {
    "duration": 210,
    "start_time": "2023-02-14T15:31:56.450Z"
   },
   {
    "duration": 44,
    "start_time": "2023-02-14T15:31:56.662Z"
   },
   {
    "duration": 39,
    "start_time": "2023-02-14T15:31:56.711Z"
   },
   {
    "duration": 62,
    "start_time": "2023-02-14T15:31:56.752Z"
   },
   {
    "duration": 65,
    "start_time": "2023-02-14T15:31:56.817Z"
   },
   {
    "duration": 23,
    "start_time": "2023-02-14T15:31:56.885Z"
   },
   {
    "duration": 38,
    "start_time": "2023-02-14T15:31:56.910Z"
   },
   {
    "duration": 52,
    "start_time": "2023-02-14T15:31:56.949Z"
   },
   {
    "duration": 52,
    "start_time": "2023-02-14T15:31:57.005Z"
   },
   {
    "duration": 44,
    "start_time": "2023-02-14T15:31:57.059Z"
   },
   {
    "duration": 40,
    "start_time": "2023-02-14T15:31:57.114Z"
   },
   {
    "duration": 16,
    "start_time": "2023-02-14T15:31:57.156Z"
   },
   {
    "duration": 47,
    "start_time": "2023-02-14T15:31:57.174Z"
   },
   {
    "duration": 346,
    "start_time": "2023-02-14T15:31:57.223Z"
   },
   {
    "duration": 51,
    "start_time": "2023-02-14T15:31:57.572Z"
   },
   {
    "duration": 43,
    "start_time": "2023-02-14T15:31:57.625Z"
   },
   {
    "duration": 83,
    "start_time": "2023-02-14T15:31:57.670Z"
   },
   {
    "duration": 94,
    "start_time": "2023-02-14T15:31:57.755Z"
   },
   {
    "duration": 27,
    "start_time": "2023-02-14T15:31:57.851Z"
   },
   {
    "duration": 97,
    "start_time": "2023-02-14T15:31:57.880Z"
   },
   {
    "duration": 29,
    "start_time": "2023-02-14T15:31:57.979Z"
   },
   {
    "duration": 37,
    "start_time": "2023-02-14T15:31:58.009Z"
   },
   {
    "duration": 97,
    "start_time": "2023-02-14T15:31:58.048Z"
   },
   {
    "duration": 17,
    "start_time": "2023-02-14T15:31:58.146Z"
   },
   {
    "duration": 131,
    "start_time": "2023-02-14T15:31:58.165Z"
   },
   {
    "duration": 49,
    "start_time": "2023-02-14T15:31:58.298Z"
   },
   {
    "duration": 69,
    "start_time": "2023-02-14T15:31:58.350Z"
   },
   {
    "duration": 42,
    "start_time": "2023-02-14T15:31:58.420Z"
   },
   {
    "duration": 259,
    "start_time": "2023-02-14T15:31:58.480Z"
   },
   {
    "duration": 12,
    "start_time": "2023-02-14T15:31:58.741Z"
   },
   {
    "duration": 47,
    "start_time": "2023-02-14T15:31:58.755Z"
   },
   {
    "duration": 243,
    "start_time": "2023-02-14T15:31:58.804Z"
   },
   {
    "duration": 5,
    "start_time": "2023-02-14T15:31:59.049Z"
   },
   {
    "duration": 1096,
    "start_time": "2023-02-14T15:31:59.055Z"
   },
   {
    "duration": 1302,
    "start_time": "2023-02-14T15:32:29.761Z"
   },
   {
    "duration": 200,
    "start_time": "2023-02-14T15:32:31.065Z"
   },
   {
    "duration": 24,
    "start_time": "2023-02-14T15:32:31.267Z"
   },
   {
    "duration": 38,
    "start_time": "2023-02-14T15:32:31.294Z"
   },
   {
    "duration": 24,
    "start_time": "2023-02-14T15:32:31.334Z"
   },
   {
    "duration": 45,
    "start_time": "2023-02-14T15:32:31.360Z"
   },
   {
    "duration": 14,
    "start_time": "2023-02-14T15:32:31.411Z"
   },
   {
    "duration": 25,
    "start_time": "2023-02-14T15:32:31.426Z"
   },
   {
    "duration": 58,
    "start_time": "2023-02-14T15:32:31.453Z"
   },
   {
    "duration": 12,
    "start_time": "2023-02-14T15:32:31.515Z"
   },
   {
    "duration": 55,
    "start_time": "2023-02-14T15:32:31.529Z"
   },
   {
    "duration": 47,
    "start_time": "2023-02-14T15:32:31.586Z"
   },
   {
    "duration": 17,
    "start_time": "2023-02-14T15:32:31.634Z"
   },
   {
    "duration": 18,
    "start_time": "2023-02-14T15:32:31.653Z"
   },
   {
    "duration": 359,
    "start_time": "2023-02-14T15:32:31.672Z"
   },
   {
    "duration": 20,
    "start_time": "2023-02-14T15:32:32.033Z"
   },
   {
    "duration": 52,
    "start_time": "2023-02-14T15:32:32.054Z"
   },
   {
    "duration": 24,
    "start_time": "2023-02-14T15:32:32.109Z"
   },
   {
    "duration": 68,
    "start_time": "2023-02-14T15:32:32.136Z"
   },
   {
    "duration": 30,
    "start_time": "2023-02-14T15:32:32.209Z"
   },
   {
    "duration": 77,
    "start_time": "2023-02-14T15:32:32.241Z"
   },
   {
    "duration": 33,
    "start_time": "2023-02-14T15:32:32.321Z"
   },
   {
    "duration": 53,
    "start_time": "2023-02-14T15:32:32.357Z"
   },
   {
    "duration": 94,
    "start_time": "2023-02-14T15:32:32.412Z"
   },
   {
    "duration": 19,
    "start_time": "2023-02-14T15:32:32.510Z"
   },
   {
    "duration": 88,
    "start_time": "2023-02-14T15:32:32.531Z"
   },
   {
    "duration": 38,
    "start_time": "2023-02-14T15:32:32.621Z"
   },
   {
    "duration": 73,
    "start_time": "2023-02-14T15:32:32.662Z"
   },
   {
    "duration": 56,
    "start_time": "2023-02-14T15:32:32.737Z"
   },
   {
    "duration": 257,
    "start_time": "2023-02-14T15:32:32.795Z"
   },
   {
    "duration": 10,
    "start_time": "2023-02-14T15:32:33.054Z"
   },
   {
    "duration": 39,
    "start_time": "2023-02-14T15:32:33.066Z"
   },
   {
    "duration": 238,
    "start_time": "2023-02-14T15:32:33.109Z"
   },
   {
    "duration": 6,
    "start_time": "2023-02-14T15:32:33.348Z"
   },
   {
    "duration": 153,
    "start_time": "2023-02-14T15:32:33.356Z"
   },
   {
    "duration": 845,
    "start_time": "2023-02-14T15:33:52.886Z"
   },
   {
    "duration": 5,
    "start_time": "2023-02-14T15:34:36.066Z"
   },
   {
    "duration": 12,
    "start_time": "2023-02-14T15:34:36.868Z"
   },
   {
    "duration": 842,
    "start_time": "2023-02-14T15:43:19.852Z"
   },
   {
    "duration": 1180,
    "start_time": "2023-02-14T15:43:26.841Z"
   },
   {
    "duration": 166,
    "start_time": "2023-02-14T15:43:28.022Z"
   },
   {
    "duration": 26,
    "start_time": "2023-02-14T15:43:28.190Z"
   },
   {
    "duration": 13,
    "start_time": "2023-02-14T15:43:28.218Z"
   },
   {
    "duration": 7,
    "start_time": "2023-02-14T15:43:28.232Z"
   },
   {
    "duration": 69,
    "start_time": "2023-02-14T15:43:28.241Z"
   },
   {
    "duration": 10,
    "start_time": "2023-02-14T15:43:28.311Z"
   },
   {
    "duration": 13,
    "start_time": "2023-02-14T15:43:28.322Z"
   },
   {
    "duration": 54,
    "start_time": "2023-02-14T15:43:28.337Z"
   },
   {
    "duration": 13,
    "start_time": "2023-02-14T15:43:28.396Z"
   },
   {
    "duration": 9,
    "start_time": "2023-02-14T15:43:28.410Z"
   },
   {
    "duration": 9,
    "start_time": "2023-02-14T15:43:28.420Z"
   },
   {
    "duration": 5,
    "start_time": "2023-02-14T15:43:28.430Z"
   },
   {
    "duration": 14,
    "start_time": "2023-02-14T15:43:28.484Z"
   },
   {
    "duration": 304,
    "start_time": "2023-02-14T15:43:28.501Z"
   },
   {
    "duration": 19,
    "start_time": "2023-02-14T15:43:28.808Z"
   },
   {
    "duration": 16,
    "start_time": "2023-02-14T15:43:28.829Z"
   },
   {
    "duration": 41,
    "start_time": "2023-02-14T15:43:28.847Z"
   },
   {
    "duration": 46,
    "start_time": "2023-02-14T15:43:28.891Z"
   },
   {
    "duration": 54,
    "start_time": "2023-02-14T15:43:28.939Z"
   },
   {
    "duration": 62,
    "start_time": "2023-02-14T15:43:28.996Z"
   },
   {
    "duration": 42,
    "start_time": "2023-02-14T15:43:29.060Z"
   },
   {
    "duration": 19,
    "start_time": "2023-02-14T15:43:29.105Z"
   },
   {
    "duration": 86,
    "start_time": "2023-02-14T15:43:29.126Z"
   },
   {
    "duration": 17,
    "start_time": "2023-02-14T15:43:29.214Z"
   },
   {
    "duration": 83,
    "start_time": "2023-02-14T15:43:29.233Z"
   },
   {
    "duration": 34,
    "start_time": "2023-02-14T15:43:29.318Z"
   },
   {
    "duration": 76,
    "start_time": "2023-02-14T15:43:29.355Z"
   },
   {
    "duration": 48,
    "start_time": "2023-02-14T15:43:29.433Z"
   },
   {
    "duration": 243,
    "start_time": "2023-02-14T15:43:29.484Z"
   },
   {
    "duration": 20,
    "start_time": "2023-02-14T15:43:29.729Z"
   },
   {
    "duration": 25,
    "start_time": "2023-02-14T15:43:29.750Z"
   },
   {
    "duration": 234,
    "start_time": "2023-02-14T15:43:29.777Z"
   },
   {
    "duration": 5,
    "start_time": "2023-02-14T15:43:30.012Z"
   },
   {
    "duration": 126,
    "start_time": "2023-02-14T15:43:30.019Z"
   },
   {
    "duration": 6,
    "start_time": "2023-02-14T15:47:10.200Z"
   },
   {
    "duration": 18,
    "start_time": "2023-02-14T15:47:10.913Z"
   },
   {
    "duration": 85,
    "start_time": "2023-02-14T15:49:22.665Z"
   },
   {
    "duration": 6,
    "start_time": "2023-02-14T15:49:29.262Z"
   },
   {
    "duration": 12,
    "start_time": "2023-02-14T15:49:29.917Z"
   },
   {
    "duration": 6,
    "start_time": "2023-02-14T15:50:01.473Z"
   },
   {
    "duration": 12,
    "start_time": "2023-02-14T15:50:01.757Z"
   },
   {
    "duration": 1328,
    "start_time": "2023-02-14T15:50:06.049Z"
   },
   {
    "duration": 203,
    "start_time": "2023-02-14T15:50:07.379Z"
   },
   {
    "duration": 24,
    "start_time": "2023-02-14T15:50:07.601Z"
   },
   {
    "duration": 13,
    "start_time": "2023-02-14T15:50:07.627Z"
   },
   {
    "duration": 8,
    "start_time": "2023-02-14T15:50:07.641Z"
   },
   {
    "duration": 53,
    "start_time": "2023-02-14T15:50:07.651Z"
   },
   {
    "duration": 10,
    "start_time": "2023-02-14T15:50:07.709Z"
   },
   {
    "duration": 15,
    "start_time": "2023-02-14T15:50:07.721Z"
   },
   {
    "duration": 32,
    "start_time": "2023-02-14T15:50:07.738Z"
   },
   {
    "duration": 19,
    "start_time": "2023-02-14T15:50:07.783Z"
   },
   {
    "duration": 11,
    "start_time": "2023-02-14T15:50:07.808Z"
   },
   {
    "duration": 8,
    "start_time": "2023-02-14T15:50:07.821Z"
   },
   {
    "duration": 8,
    "start_time": "2023-02-14T15:50:07.830Z"
   },
   {
    "duration": 7,
    "start_time": "2023-02-14T15:50:07.839Z"
   },
   {
    "duration": 327,
    "start_time": "2023-02-14T15:50:07.884Z"
   },
   {
    "duration": 20,
    "start_time": "2023-02-14T15:50:08.213Z"
   },
   {
    "duration": 17,
    "start_time": "2023-02-14T15:50:08.234Z"
   },
   {
    "duration": 46,
    "start_time": "2023-02-14T15:50:08.252Z"
   },
   {
    "duration": 56,
    "start_time": "2023-02-14T15:50:08.301Z"
   },
   {
    "duration": 42,
    "start_time": "2023-02-14T15:50:08.358Z"
   },
   {
    "duration": 81,
    "start_time": "2023-02-14T15:50:08.405Z"
   },
   {
    "duration": 27,
    "start_time": "2023-02-14T15:50:08.489Z"
   },
   {
    "duration": 26,
    "start_time": "2023-02-14T15:50:08.519Z"
   },
   {
    "duration": 89,
    "start_time": "2023-02-14T15:50:08.547Z"
   },
   {
    "duration": 16,
    "start_time": "2023-02-14T15:50:08.639Z"
   },
   {
    "duration": 101,
    "start_time": "2023-02-14T15:50:08.657Z"
   },
   {
    "duration": 44,
    "start_time": "2023-02-14T15:50:08.759Z"
   },
   {
    "duration": 51,
    "start_time": "2023-02-14T15:50:08.806Z"
   },
   {
    "duration": 56,
    "start_time": "2023-02-14T15:50:08.859Z"
   },
   {
    "duration": 241,
    "start_time": "2023-02-14T15:50:08.917Z"
   },
   {
    "duration": 11,
    "start_time": "2023-02-14T15:50:09.160Z"
   },
   {
    "duration": 29,
    "start_time": "2023-02-14T15:50:09.189Z"
   },
   {
    "duration": 122,
    "start_time": "2023-02-14T15:50:09.220Z"
   },
   {
    "duration": 5,
    "start_time": "2023-02-14T15:50:09.344Z"
   },
   {
    "duration": 147,
    "start_time": "2023-02-14T15:50:09.351Z"
   },
   {
    "duration": 80,
    "start_time": "2023-02-14T15:54:35.409Z"
   },
   {
    "duration": 5,
    "start_time": "2023-02-14T15:54:37.251Z"
   },
   {
    "duration": 15,
    "start_time": "2023-02-14T15:54:37.954Z"
   },
   {
    "duration": 6,
    "start_time": "2023-02-14T15:57:15.827Z"
   },
   {
    "duration": 714,
    "start_time": "2023-02-14T15:57:16.553Z"
   },
   {
    "duration": 91,
    "start_time": "2023-02-14T15:58:20.182Z"
   },
   {
    "duration": 6,
    "start_time": "2023-02-14T15:58:22.145Z"
   },
   {
    "duration": 10,
    "start_time": "2023-02-14T15:58:23.965Z"
   },
   {
    "duration": 93,
    "start_time": "2023-02-14T16:01:44.295Z"
   },
   {
    "duration": 6,
    "start_time": "2023-02-14T16:01:45.206Z"
   },
   {
    "duration": 9,
    "start_time": "2023-02-14T16:01:45.747Z"
   },
   {
    "duration": 9,
    "start_time": "2023-02-14T16:12:59.911Z"
   },
   {
    "duration": 10,
    "start_time": "2023-02-14T16:13:09.710Z"
   },
   {
    "duration": 9,
    "start_time": "2023-02-14T16:13:35.977Z"
   },
   {
    "duration": 82,
    "start_time": "2023-02-14T16:14:13.709Z"
   },
   {
    "duration": 5,
    "start_time": "2023-02-14T16:14:15.818Z"
   },
   {
    "duration": 9,
    "start_time": "2023-02-14T16:14:16.277Z"
   },
   {
    "duration": 9,
    "start_time": "2023-02-14T16:14:17.674Z"
   },
   {
    "duration": 8,
    "start_time": "2023-02-14T16:14:18.045Z"
   },
   {
    "duration": 8,
    "start_time": "2023-02-14T16:14:18.461Z"
   },
   {
    "duration": 7,
    "start_time": "2023-02-14T16:43:06.370Z"
   },
   {
    "duration": 9,
    "start_time": "2023-02-14T16:43:08.006Z"
   },
   {
    "duration": 5,
    "start_time": "2023-02-14T16:44:34.468Z"
   },
   {
    "duration": 10,
    "start_time": "2023-02-14T16:44:34.808Z"
   },
   {
    "duration": 6,
    "start_time": "2023-02-14T16:44:54.031Z"
   },
   {
    "duration": 8,
    "start_time": "2023-02-14T16:44:54.417Z"
   },
   {
    "duration": 10,
    "start_time": "2023-02-14T16:44:55.486Z"
   },
   {
    "duration": 9,
    "start_time": "2023-02-14T16:44:55.828Z"
   },
   {
    "duration": 8,
    "start_time": "2023-02-14T16:44:56.207Z"
   },
   {
    "duration": 6,
    "start_time": "2023-02-14T17:05:44.126Z"
   },
   {
    "duration": 10,
    "start_time": "2023-02-14T17:06:36.936Z"
   },
   {
    "duration": 9,
    "start_time": "2023-02-14T17:07:40.112Z"
   },
   {
    "duration": 6,
    "start_time": "2023-02-14T17:07:43.166Z"
   },
   {
    "duration": 10,
    "start_time": "2023-02-14T17:07:43.619Z"
   },
   {
    "duration": 8,
    "start_time": "2023-02-14T17:07:45.116Z"
   },
   {
    "duration": 13,
    "start_time": "2023-02-14T17:07:45.426Z"
   },
   {
    "duration": 10,
    "start_time": "2023-02-14T17:07:46.024Z"
   },
   {
    "duration": 6,
    "start_time": "2023-02-14T17:08:03.084Z"
   },
   {
    "duration": 8,
    "start_time": "2023-02-14T17:08:03.470Z"
   },
   {
    "duration": 6,
    "start_time": "2023-02-14T17:08:26.881Z"
   },
   {
    "duration": 8,
    "start_time": "2023-02-14T17:08:27.681Z"
   },
   {
    "duration": 10,
    "start_time": "2023-02-14T17:08:34.010Z"
   },
   {
    "duration": 9,
    "start_time": "2023-02-14T17:08:34.311Z"
   },
   {
    "duration": 9,
    "start_time": "2023-02-14T17:08:34.708Z"
   },
   {
    "duration": 6,
    "start_time": "2023-02-14T17:11:54.285Z"
   },
   {
    "duration": 13,
    "start_time": "2023-02-14T17:11:54.736Z"
   },
   {
    "duration": 7,
    "start_time": "2023-02-14T17:12:11.617Z"
   },
   {
    "duration": 100,
    "start_time": "2023-02-14T17:13:56.313Z"
   },
   {
    "duration": 6,
    "start_time": "2023-02-14T17:13:57.513Z"
   },
   {
    "duration": 9,
    "start_time": "2023-02-14T17:13:58.444Z"
   },
   {
    "duration": 9,
    "start_time": "2023-02-14T17:14:04.744Z"
   },
   {
    "duration": 9,
    "start_time": "2023-02-14T17:14:05.246Z"
   },
   {
    "duration": 9,
    "start_time": "2023-02-14T17:14:05.749Z"
   },
   {
    "duration": 5,
    "start_time": "2023-02-14T17:14:09.547Z"
   },
   {
    "duration": 5,
    "start_time": "2023-02-14T17:20:21.912Z"
   },
   {
    "duration": 9,
    "start_time": "2023-02-14T17:20:22.509Z"
   },
   {
    "duration": 8,
    "start_time": "2023-02-14T17:20:23.723Z"
   },
   {
    "duration": 8,
    "start_time": "2023-02-14T17:20:24.159Z"
   },
   {
    "duration": 9,
    "start_time": "2023-02-14T17:20:24.510Z"
   },
   {
    "duration": 7,
    "start_time": "2023-02-14T17:22:47.373Z"
   },
   {
    "duration": 8,
    "start_time": "2023-02-14T17:22:47.911Z"
   },
   {
    "duration": 6,
    "start_time": "2023-02-14T17:23:19.956Z"
   },
   {
    "duration": 8,
    "start_time": "2023-02-14T17:23:20.306Z"
   },
   {
    "duration": 7,
    "start_time": "2023-02-14T17:23:22.147Z"
   },
   {
    "duration": 8,
    "start_time": "2023-02-14T17:23:22.562Z"
   },
   {
    "duration": 8,
    "start_time": "2023-02-14T17:23:22.918Z"
   },
   {
    "duration": 5,
    "start_time": "2023-02-14T17:23:31.875Z"
   },
   {
    "duration": 9,
    "start_time": "2023-02-14T17:23:32.667Z"
   },
   {
    "duration": 9,
    "start_time": "2023-02-14T17:23:47.836Z"
   },
   {
    "duration": 5,
    "start_time": "2023-02-14T17:24:04.964Z"
   },
   {
    "duration": 8,
    "start_time": "2023-02-14T17:24:05.387Z"
   },
   {
    "duration": 6,
    "start_time": "2023-02-14T17:25:25.113Z"
   },
   {
    "duration": 9,
    "start_time": "2023-02-14T17:25:25.423Z"
   },
   {
    "duration": 6,
    "start_time": "2023-02-14T17:30:08.149Z"
   },
   {
    "duration": 9,
    "start_time": "2023-02-14T17:30:08.512Z"
   },
   {
    "duration": 8,
    "start_time": "2023-02-14T17:30:08.841Z"
   },
   {
    "duration": 8,
    "start_time": "2023-02-14T17:30:09.059Z"
   },
   {
    "duration": 8,
    "start_time": "2023-02-14T17:30:09.263Z"
   },
   {
    "duration": 54,
    "start_time": "2023-02-14T17:30:22.746Z"
   },
   {
    "duration": 6,
    "start_time": "2023-02-14T17:30:36.289Z"
   },
   {
    "duration": 8,
    "start_time": "2023-02-14T17:30:38.224Z"
   },
   {
    "duration": 9,
    "start_time": "2023-02-14T17:30:41.606Z"
   },
   {
    "duration": 7,
    "start_time": "2023-02-14T17:30:41.807Z"
   },
   {
    "duration": 9,
    "start_time": "2023-02-14T17:30:41.978Z"
   },
   {
    "duration": 5,
    "start_time": "2023-02-14T17:31:08.125Z"
   },
   {
    "duration": 9,
    "start_time": "2023-02-14T17:31:08.539Z"
   },
   {
    "duration": 5,
    "start_time": "2023-02-14T17:31:11.974Z"
   },
   {
    "duration": 9,
    "start_time": "2023-02-14T17:31:12.613Z"
   },
   {
    "duration": 9,
    "start_time": "2023-02-14T17:31:13.086Z"
   },
   {
    "duration": 8,
    "start_time": "2023-02-14T17:31:13.283Z"
   },
   {
    "duration": 8,
    "start_time": "2023-02-14T17:31:14.308Z"
   },
   {
    "duration": 6,
    "start_time": "2023-02-14T17:33:32.255Z"
   },
   {
    "duration": 8,
    "start_time": "2023-02-14T17:33:32.607Z"
   },
   {
    "duration": 5,
    "start_time": "2023-02-14T17:33:36.526Z"
   },
   {
    "duration": 9,
    "start_time": "2023-02-14T17:33:36.766Z"
   },
   {
    "duration": 9,
    "start_time": "2023-02-14T17:34:04.442Z"
   },
   {
    "duration": 9,
    "start_time": "2023-02-14T17:34:04.749Z"
   },
   {
    "duration": 11,
    "start_time": "2023-02-14T17:34:05.076Z"
   },
   {
    "duration": 5,
    "start_time": "2023-02-14T17:35:22.146Z"
   },
   {
    "duration": 8,
    "start_time": "2023-02-14T17:35:22.582Z"
   },
   {
    "duration": 5,
    "start_time": "2023-02-14T17:36:04.417Z"
   },
   {
    "duration": 9,
    "start_time": "2023-02-14T17:36:05.473Z"
   },
   {
    "duration": 5,
    "start_time": "2023-02-14T17:36:20.878Z"
   },
   {
    "duration": 9,
    "start_time": "2023-02-14T17:36:21.211Z"
   },
   {
    "duration": 6,
    "start_time": "2023-02-14T17:36:47.752Z"
   },
   {
    "duration": 10,
    "start_time": "2023-02-14T17:36:48.064Z"
   },
   {
    "duration": 6,
    "start_time": "2023-02-14T17:36:58.121Z"
   },
   {
    "duration": 8,
    "start_time": "2023-02-14T17:36:58.419Z"
   },
   {
    "duration": 10,
    "start_time": "2023-02-14T17:37:14.513Z"
   },
   {
    "duration": 8,
    "start_time": "2023-02-14T17:37:14.723Z"
   },
   {
    "duration": 10,
    "start_time": "2023-02-14T17:37:14.927Z"
   },
   {
    "duration": 5,
    "start_time": "2023-02-14T17:49:54.738Z"
   },
   {
    "duration": 8,
    "start_time": "2023-02-14T17:49:55.081Z"
   },
   {
    "duration": 9,
    "start_time": "2023-02-14T17:49:57.983Z"
   },
   {
    "duration": 8,
    "start_time": "2023-02-14T17:49:58.362Z"
   },
   {
    "duration": 8,
    "start_time": "2023-02-14T17:49:58.609Z"
   },
   {
    "duration": 1229,
    "start_time": "2023-02-14T18:51:01.998Z"
   },
   {
    "duration": 207,
    "start_time": "2023-02-14T18:51:03.236Z"
   },
   {
    "duration": 25,
    "start_time": "2023-02-14T18:51:03.446Z"
   },
   {
    "duration": 45,
    "start_time": "2023-02-14T18:51:03.474Z"
   },
   {
    "duration": 18,
    "start_time": "2023-02-14T18:51:03.528Z"
   },
   {
    "duration": 61,
    "start_time": "2023-02-14T18:51:03.548Z"
   },
   {
    "duration": 12,
    "start_time": "2023-02-14T18:51:03.615Z"
   },
   {
    "duration": 22,
    "start_time": "2023-02-14T18:51:03.629Z"
   },
   {
    "duration": 57,
    "start_time": "2023-02-14T18:51:03.653Z"
   },
   {
    "duration": 10,
    "start_time": "2023-02-14T18:51:03.718Z"
   },
   {
    "duration": 16,
    "start_time": "2023-02-14T18:51:03.730Z"
   },
   {
    "duration": 10,
    "start_time": "2023-02-14T18:51:03.748Z"
   },
   {
    "duration": 6,
    "start_time": "2023-02-14T18:51:03.759Z"
   },
   {
    "duration": 7,
    "start_time": "2023-02-14T18:51:03.766Z"
   },
   {
    "duration": 327,
    "start_time": "2023-02-14T18:51:03.774Z"
   },
   {
    "duration": 25,
    "start_time": "2023-02-14T18:51:04.103Z"
   },
   {
    "duration": 31,
    "start_time": "2023-02-14T18:51:04.131Z"
   },
   {
    "duration": 38,
    "start_time": "2023-02-14T18:51:04.164Z"
   },
   {
    "duration": 73,
    "start_time": "2023-02-14T18:51:04.212Z"
   },
   {
    "duration": 47,
    "start_time": "2023-02-14T18:51:04.287Z"
   },
   {
    "duration": 100,
    "start_time": "2023-02-14T18:51:04.335Z"
   },
   {
    "duration": 24,
    "start_time": "2023-02-14T18:51:04.440Z"
   },
   {
    "duration": 47,
    "start_time": "2023-02-14T18:51:04.466Z"
   },
   {
    "duration": 95,
    "start_time": "2023-02-14T18:51:04.518Z"
   },
   {
    "duration": 25,
    "start_time": "2023-02-14T18:51:04.615Z"
   },
   {
    "duration": 74,
    "start_time": "2023-02-14T18:51:04.642Z"
   },
   {
    "duration": 40,
    "start_time": "2023-02-14T18:51:04.718Z"
   },
   {
    "duration": 69,
    "start_time": "2023-02-14T18:51:04.761Z"
   },
   {
    "duration": 37,
    "start_time": "2023-02-14T18:51:04.831Z"
   },
   {
    "duration": 254,
    "start_time": "2023-02-14T18:51:04.870Z"
   },
   {
    "duration": 9,
    "start_time": "2023-02-14T18:51:05.128Z"
   },
   {
    "duration": 18,
    "start_time": "2023-02-14T18:51:05.139Z"
   },
   {
    "duration": 105,
    "start_time": "2023-02-14T18:51:05.158Z"
   },
   {
    "duration": 7,
    "start_time": "2023-02-14T18:51:05.265Z"
   },
   {
    "duration": 24,
    "start_time": "2023-02-14T18:51:05.274Z"
   },
   {
    "duration": 45,
    "start_time": "2023-02-14T18:51:05.300Z"
   },
   {
    "duration": 10,
    "start_time": "2023-02-14T18:51:05.347Z"
   },
   {
    "duration": 13,
    "start_time": "2023-02-14T18:51:05.359Z"
   },
   {
    "duration": 9,
    "start_time": "2023-02-14T18:51:05.373Z"
   },
   {
    "duration": 49,
    "start_time": "2023-02-14T18:51:05.384Z"
   },
   {
    "duration": 31,
    "start_time": "2023-02-14T18:51:05.435Z"
   },
   {
    "duration": 19,
    "start_time": "2023-02-14T18:51:05.467Z"
   },
   {
    "duration": 48,
    "start_time": "2023-02-14T18:51:05.488Z"
   },
   {
    "duration": 1240,
    "start_time": "2023-02-14T19:10:13.926Z"
   },
   {
    "duration": 189,
    "start_time": "2023-02-14T19:10:15.168Z"
   },
   {
    "duration": 21,
    "start_time": "2023-02-14T19:10:15.359Z"
   },
   {
    "duration": 38,
    "start_time": "2023-02-14T19:10:15.381Z"
   },
   {
    "duration": 18,
    "start_time": "2023-02-14T19:10:15.422Z"
   },
   {
    "duration": 37,
    "start_time": "2023-02-14T19:10:15.441Z"
   },
   {
    "duration": 10,
    "start_time": "2023-02-14T19:10:15.480Z"
   },
   {
    "duration": 53,
    "start_time": "2023-02-14T19:10:15.492Z"
   },
   {
    "duration": 60,
    "start_time": "2023-02-14T19:10:15.546Z"
   },
   {
    "duration": 15,
    "start_time": "2023-02-14T19:10:15.610Z"
   },
   {
    "duration": 10,
    "start_time": "2023-02-14T19:10:15.629Z"
   },
   {
    "duration": 7,
    "start_time": "2023-02-14T19:10:15.640Z"
   },
   {
    "duration": 8,
    "start_time": "2023-02-14T19:10:15.649Z"
   },
   {
    "duration": 10,
    "start_time": "2023-02-14T19:10:15.660Z"
   },
   {
    "duration": 293,
    "start_time": "2023-02-14T19:10:15.672Z"
   },
   {
    "duration": 28,
    "start_time": "2023-02-14T19:10:15.966Z"
   },
   {
    "duration": 24,
    "start_time": "2023-02-14T19:10:15.997Z"
   },
   {
    "duration": 43,
    "start_time": "2023-02-14T19:10:16.023Z"
   },
   {
    "duration": 49,
    "start_time": "2023-02-14T19:10:16.068Z"
   },
   {
    "duration": 29,
    "start_time": "2023-02-14T19:10:16.124Z"
   },
   {
    "duration": 76,
    "start_time": "2023-02-14T19:10:16.154Z"
   },
   {
    "duration": 32,
    "start_time": "2023-02-14T19:10:16.232Z"
   },
   {
    "duration": 36,
    "start_time": "2023-02-14T19:10:16.266Z"
   },
   {
    "duration": 80,
    "start_time": "2023-02-14T19:10:16.307Z"
   },
   {
    "duration": 28,
    "start_time": "2023-02-14T19:10:16.389Z"
   },
   {
    "duration": 70,
    "start_time": "2023-02-14T19:10:16.418Z"
   },
   {
    "duration": 43,
    "start_time": "2023-02-14T19:10:16.490Z"
   },
   {
    "duration": 47,
    "start_time": "2023-02-14T19:10:16.534Z"
   },
   {
    "duration": 50,
    "start_time": "2023-02-14T19:10:16.583Z"
   },
   {
    "duration": 226,
    "start_time": "2023-02-14T19:10:16.635Z"
   },
   {
    "duration": 9,
    "start_time": "2023-02-14T19:10:16.863Z"
   },
   {
    "duration": 60,
    "start_time": "2023-02-14T19:10:16.873Z"
   },
   {
    "duration": 91,
    "start_time": "2023-02-14T19:10:16.934Z"
   },
   {
    "duration": 7,
    "start_time": "2023-02-14T19:10:17.026Z"
   },
   {
    "duration": 17,
    "start_time": "2023-02-14T19:10:17.034Z"
   },
   {
    "duration": 9,
    "start_time": "2023-02-14T19:10:17.053Z"
   },
   {
    "duration": 33,
    "start_time": "2023-02-14T19:10:17.063Z"
   },
   {
    "duration": 39,
    "start_time": "2023-02-14T19:10:17.102Z"
   },
   {
    "duration": 9,
    "start_time": "2023-02-14T19:10:17.142Z"
   },
   {
    "duration": 24,
    "start_time": "2023-02-14T19:10:17.153Z"
   },
   {
    "duration": 19,
    "start_time": "2023-02-14T19:10:17.181Z"
   },
   {
    "duration": 37,
    "start_time": "2023-02-14T19:10:17.202Z"
   },
   {
    "duration": 24,
    "start_time": "2023-02-14T19:10:17.240Z"
   },
   {
    "duration": 59,
    "start_time": "2023-02-14T19:17:42.703Z"
   },
   {
    "duration": 34,
    "start_time": "2023-02-14T19:18:34.578Z"
   },
   {
    "duration": 812,
    "start_time": "2023-02-14T19:18:45.427Z"
   },
   {
    "duration": 8,
    "start_time": "2023-02-14T19:18:53.677Z"
   },
   {
    "duration": 81,
    "start_time": "2023-02-14T19:20:12.536Z"
   },
   {
    "duration": 17,
    "start_time": "2023-02-14T19:20:25.914Z"
   },
   {
    "duration": 66,
    "start_time": "2023-02-14T19:20:39.193Z"
   },
   {
    "duration": 87,
    "start_time": "2023-02-14T19:21:06.016Z"
   },
   {
    "duration": 18,
    "start_time": "2023-02-14T19:21:07.422Z"
   },
   {
    "duration": 61,
    "start_time": "2023-02-14T19:21:08.491Z"
   },
   {
    "duration": 1129,
    "start_time": "2023-02-14T19:22:24.853Z"
   },
   {
    "duration": 161,
    "start_time": "2023-02-14T19:22:25.984Z"
   },
   {
    "duration": 24,
    "start_time": "2023-02-14T19:22:26.146Z"
   },
   {
    "duration": 20,
    "start_time": "2023-02-14T19:22:26.172Z"
   },
   {
    "duration": 10,
    "start_time": "2023-02-14T19:22:26.194Z"
   },
   {
    "duration": 30,
    "start_time": "2023-02-14T19:22:26.205Z"
   },
   {
    "duration": 11,
    "start_time": "2023-02-14T19:22:26.236Z"
   },
   {
    "duration": 96,
    "start_time": "2023-02-14T19:22:26.249Z"
   },
   {
    "duration": 107,
    "start_time": "2023-02-14T19:22:26.347Z"
   },
   {
    "duration": 55,
    "start_time": "2023-02-14T19:22:26.456Z"
   },
   {
    "duration": 10,
    "start_time": "2023-02-14T19:22:26.513Z"
   },
   {
    "duration": 20,
    "start_time": "2023-02-14T19:22:26.524Z"
   },
   {
    "duration": 44,
    "start_time": "2023-02-14T19:22:26.546Z"
   },
   {
    "duration": 8,
    "start_time": "2023-02-14T19:22:26.594Z"
   },
   {
    "duration": 14,
    "start_time": "2023-02-14T19:22:26.604Z"
   },
   {
    "duration": 10,
    "start_time": "2023-02-14T19:22:26.620Z"
   },
   {
    "duration": 8,
    "start_time": "2023-02-14T19:22:26.631Z"
   },
   {
    "duration": 12,
    "start_time": "2023-02-14T19:22:26.641Z"
   },
   {
    "duration": 272,
    "start_time": "2023-02-14T19:22:26.655Z"
   },
   {
    "duration": 14,
    "start_time": "2023-02-14T19:22:26.928Z"
   },
   {
    "duration": 15,
    "start_time": "2023-02-14T19:22:26.944Z"
   },
   {
    "duration": 35,
    "start_time": "2023-02-14T19:22:26.960Z"
   },
   {
    "duration": 38,
    "start_time": "2023-02-14T19:22:26.996Z"
   },
   {
    "duration": 25,
    "start_time": "2023-02-14T19:22:27.037Z"
   },
   {
    "duration": 74,
    "start_time": "2023-02-14T19:22:27.063Z"
   },
   {
    "duration": 21,
    "start_time": "2023-02-14T19:22:27.139Z"
   },
   {
    "duration": 40,
    "start_time": "2023-02-14T19:22:27.161Z"
   },
   {
    "duration": 79,
    "start_time": "2023-02-14T19:22:27.203Z"
   },
   {
    "duration": 16,
    "start_time": "2023-02-14T19:22:27.284Z"
   },
   {
    "duration": 65,
    "start_time": "2023-02-14T19:22:27.301Z"
   },
   {
    "duration": 43,
    "start_time": "2023-02-14T19:22:27.368Z"
   },
   {
    "duration": 49,
    "start_time": "2023-02-14T19:22:27.413Z"
   },
   {
    "duration": 48,
    "start_time": "2023-02-14T19:22:27.463Z"
   },
   {
    "duration": 218,
    "start_time": "2023-02-14T19:22:27.512Z"
   },
   {
    "duration": 8,
    "start_time": "2023-02-14T19:22:27.731Z"
   },
   {
    "duration": 18,
    "start_time": "2023-02-14T19:22:27.741Z"
   },
   {
    "duration": 86,
    "start_time": "2023-02-14T19:22:27.760Z"
   },
   {
    "duration": 5,
    "start_time": "2023-02-14T19:22:27.848Z"
   },
   {
    "duration": 21,
    "start_time": "2023-02-14T19:22:27.854Z"
   },
   {
    "duration": 9,
    "start_time": "2023-02-14T19:22:27.876Z"
   },
   {
    "duration": 9,
    "start_time": "2023-02-14T19:22:27.888Z"
   },
   {
    "duration": 10,
    "start_time": "2023-02-14T19:22:27.898Z"
   },
   {
    "duration": 6,
    "start_time": "2023-02-14T19:22:27.909Z"
   },
   {
    "duration": 16,
    "start_time": "2023-02-14T19:22:27.916Z"
   },
   {
    "duration": 8,
    "start_time": "2023-02-14T19:22:27.933Z"
   },
   {
    "duration": 14,
    "start_time": "2023-02-14T19:22:27.943Z"
   },
   {
    "duration": 30,
    "start_time": "2023-02-14T19:22:27.958Z"
   },
   {
    "duration": 58,
    "start_time": "2023-02-14T19:23:12.163Z"
   },
   {
    "duration": 1097,
    "start_time": "2023-02-14T19:23:21.591Z"
   },
   {
    "duration": 150,
    "start_time": "2023-02-14T19:23:22.689Z"
   },
   {
    "duration": 16,
    "start_time": "2023-02-14T19:23:22.841Z"
   },
   {
    "duration": 11,
    "start_time": "2023-02-14T19:23:22.859Z"
   },
   {
    "duration": 14,
    "start_time": "2023-02-14T19:23:22.872Z"
   },
   {
    "duration": 24,
    "start_time": "2023-02-14T19:23:22.888Z"
   },
   {
    "duration": 8,
    "start_time": "2023-02-14T19:23:22.914Z"
   },
   {
    "duration": 77,
    "start_time": "2023-02-14T19:23:22.924Z"
   },
   {
    "duration": 95,
    "start_time": "2023-02-14T19:23:23.002Z"
   },
   {
    "duration": 57,
    "start_time": "2023-02-14T19:23:23.099Z"
   },
   {
    "duration": 44,
    "start_time": "2023-02-14T19:23:23.157Z"
   },
   {
    "duration": 6,
    "start_time": "2023-02-14T19:23:23.203Z"
   },
   {
    "duration": 11,
    "start_time": "2023-02-14T19:23:23.210Z"
   },
   {
    "duration": 27,
    "start_time": "2023-02-14T19:23:23.223Z"
   },
   {
    "duration": 5,
    "start_time": "2023-02-14T19:23:23.252Z"
   },
   {
    "duration": 8,
    "start_time": "2023-02-14T19:23:23.281Z"
   },
   {
    "duration": 9,
    "start_time": "2023-02-14T19:23:23.290Z"
   },
   {
    "duration": 5,
    "start_time": "2023-02-14T19:23:23.301Z"
   },
   {
    "duration": 5,
    "start_time": "2023-02-14T19:23:23.308Z"
   },
   {
    "duration": 307,
    "start_time": "2023-02-14T19:23:23.314Z"
   },
   {
    "duration": 13,
    "start_time": "2023-02-14T19:23:23.623Z"
   },
   {
    "duration": 16,
    "start_time": "2023-02-14T19:23:23.638Z"
   },
   {
    "duration": 30,
    "start_time": "2023-02-14T19:23:23.655Z"
   },
   {
    "duration": 38,
    "start_time": "2023-02-14T19:23:23.687Z"
   },
   {
    "duration": 25,
    "start_time": "2023-02-14T19:23:23.726Z"
   },
   {
    "duration": 74,
    "start_time": "2023-02-14T19:23:23.753Z"
   },
   {
    "duration": 20,
    "start_time": "2023-02-14T19:23:23.829Z"
   },
   {
    "duration": 36,
    "start_time": "2023-02-14T19:23:23.852Z"
   },
   {
    "duration": 58,
    "start_time": "2023-02-14T19:23:23.889Z"
   },
   {
    "duration": 15,
    "start_time": "2023-02-14T19:23:23.949Z"
   },
   {
    "duration": 70,
    "start_time": "2023-02-14T19:23:23.965Z"
   },
   {
    "duration": 32,
    "start_time": "2023-02-14T19:23:24.036Z"
   },
   {
    "duration": 46,
    "start_time": "2023-02-14T19:23:24.081Z"
   },
   {
    "duration": 32,
    "start_time": "2023-02-14T19:23:24.128Z"
   },
   {
    "duration": 199,
    "start_time": "2023-02-14T19:23:24.162Z"
   },
   {
    "duration": 19,
    "start_time": "2023-02-14T19:23:24.363Z"
   },
   {
    "duration": 15,
    "start_time": "2023-02-14T19:23:24.384Z"
   },
   {
    "duration": 82,
    "start_time": "2023-02-14T19:23:24.400Z"
   },
   {
    "duration": 5,
    "start_time": "2023-02-14T19:23:24.484Z"
   },
   {
    "duration": 12,
    "start_time": "2023-02-14T19:23:24.490Z"
   },
   {
    "duration": 8,
    "start_time": "2023-02-14T19:23:24.503Z"
   },
   {
    "duration": 9,
    "start_time": "2023-02-14T19:23:24.513Z"
   },
   {
    "duration": 8,
    "start_time": "2023-02-14T19:23:24.524Z"
   },
   {
    "duration": 5,
    "start_time": "2023-02-14T19:23:24.533Z"
   },
   {
    "duration": 12,
    "start_time": "2023-02-14T19:23:24.539Z"
   },
   {
    "duration": 9,
    "start_time": "2023-02-14T19:23:24.582Z"
   },
   {
    "duration": 10,
    "start_time": "2023-02-14T19:23:24.593Z"
   },
   {
    "duration": 8,
    "start_time": "2023-02-14T19:23:24.604Z"
   },
   {
    "duration": 213,
    "start_time": "2023-02-14T19:26:43.797Z"
   },
   {
    "duration": 208,
    "start_time": "2023-02-14T19:26:55.112Z"
   },
   {
    "duration": 192,
    "start_time": "2023-02-14T19:27:35.768Z"
   },
   {
    "duration": 193,
    "start_time": "2023-02-14T19:27:49.991Z"
   },
   {
    "duration": 1056,
    "start_time": "2023-02-14T19:46:48.635Z"
   },
   {
    "duration": 157,
    "start_time": "2023-02-14T19:46:49.693Z"
   },
   {
    "duration": 17,
    "start_time": "2023-02-14T19:46:49.851Z"
   },
   {
    "duration": 22,
    "start_time": "2023-02-14T19:46:49.870Z"
   },
   {
    "duration": 16,
    "start_time": "2023-02-14T19:46:49.893Z"
   },
   {
    "duration": 48,
    "start_time": "2023-02-14T19:46:49.911Z"
   },
   {
    "duration": 10,
    "start_time": "2023-02-14T19:46:49.961Z"
   },
   {
    "duration": 90,
    "start_time": "2023-02-14T19:46:49.972Z"
   },
   {
    "duration": 86,
    "start_time": "2023-02-14T19:46:50.064Z"
   },
   {
    "duration": 65,
    "start_time": "2023-02-14T19:46:50.152Z"
   },
   {
    "duration": 31,
    "start_time": "2023-02-14T19:46:50.219Z"
   },
   {
    "duration": 7,
    "start_time": "2023-02-14T19:46:50.252Z"
   },
   {
    "duration": 11,
    "start_time": "2023-02-14T19:46:50.280Z"
   },
   {
    "duration": 45,
    "start_time": "2023-02-14T19:46:50.293Z"
   },
   {
    "duration": 7,
    "start_time": "2023-02-14T19:46:50.341Z"
   },
   {
    "duration": 9,
    "start_time": "2023-02-14T19:46:50.349Z"
   },
   {
    "duration": 20,
    "start_time": "2023-02-14T19:46:50.359Z"
   },
   {
    "duration": 6,
    "start_time": "2023-02-14T19:46:50.381Z"
   },
   {
    "duration": 9,
    "start_time": "2023-02-14T19:46:50.389Z"
   },
   {
    "duration": 301,
    "start_time": "2023-02-14T19:46:50.399Z"
   },
   {
    "duration": 16,
    "start_time": "2023-02-14T19:46:50.702Z"
   },
   {
    "duration": 28,
    "start_time": "2023-02-14T19:46:50.720Z"
   },
   {
    "duration": 16,
    "start_time": "2023-02-14T19:46:50.750Z"
   },
   {
    "duration": 51,
    "start_time": "2023-02-14T19:46:50.767Z"
   },
   {
    "duration": 25,
    "start_time": "2023-02-14T19:46:50.820Z"
   },
   {
    "duration": 64,
    "start_time": "2023-02-14T19:46:50.846Z"
   },
   {
    "duration": 19,
    "start_time": "2023-02-14T19:46:50.913Z"
   },
   {
    "duration": 27,
    "start_time": "2023-02-14T19:46:50.935Z"
   },
   {
    "duration": 70,
    "start_time": "2023-02-14T19:46:50.963Z"
   },
   {
    "duration": 15,
    "start_time": "2023-02-14T19:46:51.034Z"
   },
   {
    "duration": 73,
    "start_time": "2023-02-14T19:46:51.051Z"
   },
   {
    "duration": 34,
    "start_time": "2023-02-14T19:46:51.126Z"
   },
   {
    "duration": 64,
    "start_time": "2023-02-14T19:46:51.163Z"
   },
   {
    "duration": 31,
    "start_time": "2023-02-14T19:46:51.228Z"
   },
   {
    "duration": 210,
    "start_time": "2023-02-14T19:46:51.261Z"
   },
   {
    "duration": 14,
    "start_time": "2023-02-14T19:46:51.473Z"
   },
   {
    "duration": 27,
    "start_time": "2023-02-14T19:46:51.489Z"
   },
   {
    "duration": 100,
    "start_time": "2023-02-14T19:46:51.517Z"
   },
   {
    "duration": 6,
    "start_time": "2023-02-14T19:46:51.619Z"
   },
   {
    "duration": 27,
    "start_time": "2023-02-14T19:46:51.627Z"
   },
   {
    "duration": 13,
    "start_time": "2023-02-14T19:46:51.655Z"
   },
   {
    "duration": 7,
    "start_time": "2023-02-14T19:46:51.670Z"
   },
   {
    "duration": 19,
    "start_time": "2023-02-14T19:46:51.681Z"
   },
   {
    "duration": 13,
    "start_time": "2023-02-14T19:46:51.702Z"
   },
   {
    "duration": 29,
    "start_time": "2023-02-14T19:46:51.717Z"
   },
   {
    "duration": 8,
    "start_time": "2023-02-14T19:46:51.748Z"
   },
   {
    "duration": 15,
    "start_time": "2023-02-14T19:46:51.758Z"
   },
   {
    "duration": 17,
    "start_time": "2023-02-14T19:46:51.775Z"
   },
   {
    "duration": 5,
    "start_time": "2023-02-14T19:47:55.701Z"
   },
   {
    "duration": 10,
    "start_time": "2023-02-14T19:53:57.856Z"
   },
   {
    "duration": 1380,
    "start_time": "2023-02-15T06:37:05.519Z"
   },
   {
    "duration": 182,
    "start_time": "2023-02-15T06:37:06.900Z"
   },
   {
    "duration": 21,
    "start_time": "2023-02-15T06:37:07.084Z"
   },
   {
    "duration": 32,
    "start_time": "2023-02-15T06:37:07.107Z"
   },
   {
    "duration": 8,
    "start_time": "2023-02-15T06:37:07.140Z"
   },
   {
    "duration": 37,
    "start_time": "2023-02-15T06:37:07.150Z"
   },
   {
    "duration": 10,
    "start_time": "2023-02-15T06:37:07.189Z"
   },
   {
    "duration": 90,
    "start_time": "2023-02-15T06:37:07.201Z"
   },
   {
    "duration": 104,
    "start_time": "2023-02-15T06:37:07.293Z"
   },
   {
    "duration": 82,
    "start_time": "2023-02-15T06:37:07.401Z"
   },
   {
    "duration": 34,
    "start_time": "2023-02-15T06:37:07.485Z"
   },
   {
    "duration": 18,
    "start_time": "2023-02-15T06:37:07.521Z"
   },
   {
    "duration": 12,
    "start_time": "2023-02-15T06:37:07.541Z"
   },
   {
    "duration": 39,
    "start_time": "2023-02-15T06:37:07.555Z"
   },
   {
    "duration": 7,
    "start_time": "2023-02-15T06:37:07.596Z"
   },
   {
    "duration": 10,
    "start_time": "2023-02-15T06:37:07.604Z"
   },
   {
    "duration": 29,
    "start_time": "2023-02-15T06:37:07.616Z"
   },
   {
    "duration": 6,
    "start_time": "2023-02-15T06:37:07.647Z"
   },
   {
    "duration": 11,
    "start_time": "2023-02-15T06:37:07.654Z"
   },
   {
    "duration": 332,
    "start_time": "2023-02-15T06:37:07.667Z"
   },
   {
    "duration": 15,
    "start_time": "2023-02-15T06:37:08.001Z"
   },
   {
    "duration": 29,
    "start_time": "2023-02-15T06:37:08.018Z"
   },
   {
    "duration": 16,
    "start_time": "2023-02-15T06:37:08.049Z"
   },
   {
    "duration": 32,
    "start_time": "2023-02-15T06:37:08.068Z"
   },
   {
    "duration": 63,
    "start_time": "2023-02-15T06:37:08.101Z"
   },
   {
    "duration": 32,
    "start_time": "2023-02-15T06:37:08.167Z"
   },
   {
    "duration": 82,
    "start_time": "2023-02-15T06:37:08.201Z"
   },
   {
    "duration": 22,
    "start_time": "2023-02-15T06:37:08.287Z"
   },
   {
    "duration": 36,
    "start_time": "2023-02-15T06:37:08.311Z"
   },
   {
    "duration": 68,
    "start_time": "2023-02-15T06:37:08.349Z"
   },
   {
    "duration": 30,
    "start_time": "2023-02-15T06:37:08.419Z"
   },
   {
    "duration": 84,
    "start_time": "2023-02-15T06:37:08.450Z"
   },
   {
    "duration": 40,
    "start_time": "2023-02-15T06:37:08.537Z"
   },
   {
    "duration": 65,
    "start_time": "2023-02-15T06:37:08.578Z"
   },
   {
    "duration": 37,
    "start_time": "2023-02-15T06:37:08.645Z"
   },
   {
    "duration": 239,
    "start_time": "2023-02-15T06:37:08.683Z"
   },
   {
    "duration": 14,
    "start_time": "2023-02-15T06:37:08.924Z"
   },
   {
    "duration": 21,
    "start_time": "2023-02-15T06:37:08.940Z"
   },
   {
    "duration": 102,
    "start_time": "2023-02-15T06:37:08.962Z"
   },
   {
    "duration": 8,
    "start_time": "2023-02-15T06:37:09.066Z"
   },
   {
    "duration": 16,
    "start_time": "2023-02-15T06:37:09.075Z"
   },
   {
    "duration": 11,
    "start_time": "2023-02-15T06:37:09.093Z"
   },
   {
    "duration": 12,
    "start_time": "2023-02-15T06:37:09.106Z"
   },
   {
    "duration": 9,
    "start_time": "2023-02-15T06:37:09.139Z"
   },
   {
    "duration": 11,
    "start_time": "2023-02-15T06:37:09.149Z"
   },
   {
    "duration": 19,
    "start_time": "2023-02-15T06:37:09.162Z"
   },
   {
    "duration": 19,
    "start_time": "2023-02-15T06:37:09.183Z"
   },
   {
    "duration": 26,
    "start_time": "2023-02-15T06:37:09.203Z"
   },
   {
    "duration": 14,
    "start_time": "2023-02-15T06:37:09.230Z"
   },
   {
    "duration": 1275,
    "start_time": "2023-02-15T06:43:27.827Z"
   },
   {
    "duration": 172,
    "start_time": "2023-02-15T06:43:29.104Z"
   },
   {
    "duration": 21,
    "start_time": "2023-02-15T06:43:29.278Z"
   },
   {
    "duration": 16,
    "start_time": "2023-02-15T06:43:29.301Z"
   },
   {
    "duration": 24,
    "start_time": "2023-02-15T06:43:29.319Z"
   },
   {
    "duration": 42,
    "start_time": "2023-02-15T06:43:29.345Z"
   },
   {
    "duration": 10,
    "start_time": "2023-02-15T06:43:29.388Z"
   },
   {
    "duration": 79,
    "start_time": "2023-02-15T06:43:29.399Z"
   },
   {
    "duration": 102,
    "start_time": "2023-02-15T06:43:29.480Z"
   },
   {
    "duration": 78,
    "start_time": "2023-02-15T06:43:29.586Z"
   },
   {
    "duration": 36,
    "start_time": "2023-02-15T06:43:29.666Z"
   },
   {
    "duration": 8,
    "start_time": "2023-02-15T06:43:29.704Z"
   },
   {
    "duration": 32,
    "start_time": "2023-02-15T06:43:29.714Z"
   },
   {
    "duration": 45,
    "start_time": "2023-02-15T06:43:29.748Z"
   },
   {
    "duration": 9,
    "start_time": "2023-02-15T06:43:29.795Z"
   },
   {
    "duration": 21,
    "start_time": "2023-02-15T06:43:29.806Z"
   },
   {
    "duration": 19,
    "start_time": "2023-02-15T06:43:29.828Z"
   },
   {
    "duration": 16,
    "start_time": "2023-02-15T06:43:29.849Z"
   },
   {
    "duration": 21,
    "start_time": "2023-02-15T06:43:29.867Z"
   },
   {
    "duration": 323,
    "start_time": "2023-02-15T06:43:29.889Z"
   },
   {
    "duration": 24,
    "start_time": "2023-02-15T06:43:30.214Z"
   },
   {
    "duration": 50,
    "start_time": "2023-02-15T06:43:30.240Z"
   },
   {
    "duration": 24,
    "start_time": "2023-02-15T06:43:30.292Z"
   },
   {
    "duration": 66,
    "start_time": "2023-02-15T06:43:30.318Z"
   },
   {
    "duration": 55,
    "start_time": "2023-02-15T06:43:30.386Z"
   },
   {
    "duration": 45,
    "start_time": "2023-02-15T06:43:30.443Z"
   },
   {
    "duration": 83,
    "start_time": "2023-02-15T06:43:30.490Z"
   },
   {
    "duration": 22,
    "start_time": "2023-02-15T06:43:30.578Z"
   },
   {
    "duration": 70,
    "start_time": "2023-02-15T06:43:30.601Z"
   },
   {
    "duration": 108,
    "start_time": "2023-02-15T06:43:30.673Z"
   },
   {
    "duration": 35,
    "start_time": "2023-02-15T06:43:30.783Z"
   },
   {
    "duration": 106,
    "start_time": "2023-02-15T06:43:30.820Z"
   },
   {
    "duration": 37,
    "start_time": "2023-02-15T06:43:30.929Z"
   },
   {
    "duration": 52,
    "start_time": "2023-02-15T06:43:30.968Z"
   },
   {
    "duration": 48,
    "start_time": "2023-02-15T06:43:31.022Z"
   },
   {
    "duration": 231,
    "start_time": "2023-02-15T06:43:31.072Z"
   },
   {
    "duration": 10,
    "start_time": "2023-02-15T06:43:31.305Z"
   },
   {
    "duration": 80,
    "start_time": "2023-02-15T06:43:31.316Z"
   },
   {
    "duration": 106,
    "start_time": "2023-02-15T06:43:31.397Z"
   },
   {
    "duration": 6,
    "start_time": "2023-02-15T06:43:31.505Z"
   },
   {
    "duration": 75,
    "start_time": "2023-02-15T06:43:31.513Z"
   },
   {
    "duration": 34,
    "start_time": "2023-02-15T06:43:31.590Z"
   },
   {
    "duration": 41,
    "start_time": "2023-02-15T06:43:31.626Z"
   },
   {
    "duration": 37,
    "start_time": "2023-02-15T06:43:31.669Z"
   },
   {
    "duration": 21,
    "start_time": "2023-02-15T06:43:31.708Z"
   },
   {
    "duration": 40,
    "start_time": "2023-02-15T06:43:31.731Z"
   },
   {
    "duration": 37,
    "start_time": "2023-02-15T06:43:31.773Z"
   },
   {
    "duration": 41,
    "start_time": "2023-02-15T06:43:31.811Z"
   },
   {
    "duration": 33,
    "start_time": "2023-02-15T06:43:31.854Z"
   },
   {
    "duration": 102,
    "start_time": "2023-02-15T09:59:18.161Z"
   },
   {
    "duration": 1555,
    "start_time": "2023-02-15T09:59:26.803Z"
   },
   {
    "duration": 1089,
    "start_time": "2023-02-15T09:59:28.360Z"
   },
   {
    "duration": 28,
    "start_time": "2023-02-15T09:59:29.451Z"
   },
   {
    "duration": 17,
    "start_time": "2023-02-15T09:59:29.482Z"
   },
   {
    "duration": 7,
    "start_time": "2023-02-15T09:59:29.501Z"
   },
   {
    "duration": 76,
    "start_time": "2023-02-15T09:59:29.518Z"
   },
   {
    "duration": 11,
    "start_time": "2023-02-15T09:59:29.596Z"
   },
   {
    "duration": 155,
    "start_time": "2023-02-15T09:59:29.608Z"
   },
   {
    "duration": 102,
    "start_time": "2023-02-15T09:59:29.769Z"
   },
   {
    "duration": 69,
    "start_time": "2023-02-15T09:59:29.874Z"
   },
   {
    "duration": 40,
    "start_time": "2023-02-15T09:59:29.944Z"
   },
   {
    "duration": 8,
    "start_time": "2023-02-15T09:59:29.985Z"
   },
   {
    "duration": 49,
    "start_time": "2023-02-15T09:59:29.994Z"
   },
   {
    "duration": 64,
    "start_time": "2023-02-15T09:59:30.044Z"
   },
   {
    "duration": 55,
    "start_time": "2023-02-15T09:59:30.109Z"
   },
   {
    "duration": 31,
    "start_time": "2023-02-15T09:59:30.167Z"
   },
   {
    "duration": 61,
    "start_time": "2023-02-15T09:59:30.200Z"
   },
   {
    "duration": 38,
    "start_time": "2023-02-15T09:59:30.263Z"
   },
   {
    "duration": 65,
    "start_time": "2023-02-15T09:59:30.303Z"
   },
   {
    "duration": 405,
    "start_time": "2023-02-15T09:59:30.370Z"
   },
   {
    "duration": 15,
    "start_time": "2023-02-15T09:59:30.777Z"
   },
   {
    "duration": 82,
    "start_time": "2023-02-15T09:59:30.794Z"
   },
   {
    "duration": 13,
    "start_time": "2023-02-15T09:59:30.877Z"
   },
   {
    "duration": 78,
    "start_time": "2023-02-15T09:59:30.892Z"
   },
   {
    "duration": 67,
    "start_time": "2023-02-15T09:59:30.972Z"
   },
   {
    "duration": 40,
    "start_time": "2023-02-15T09:59:31.043Z"
   },
   {
    "duration": 83,
    "start_time": "2023-02-15T09:59:31.086Z"
   },
   {
    "duration": 64,
    "start_time": "2023-02-15T09:59:31.179Z"
   },
   {
    "duration": 47,
    "start_time": "2023-02-15T09:59:31.252Z"
   },
   {
    "duration": 95,
    "start_time": "2023-02-15T09:59:31.302Z"
   },
   {
    "duration": 55,
    "start_time": "2023-02-15T09:59:31.399Z"
   },
   {
    "duration": 112,
    "start_time": "2023-02-15T09:59:31.457Z"
   },
   {
    "duration": 37,
    "start_time": "2023-02-15T09:59:31.572Z"
   },
   {
    "duration": 72,
    "start_time": "2023-02-15T09:59:31.624Z"
   },
   {
    "duration": 70,
    "start_time": "2023-02-15T09:59:31.698Z"
   },
   {
    "duration": 250,
    "start_time": "2023-02-15T09:59:31.773Z"
   },
   {
    "duration": 33,
    "start_time": "2023-02-15T09:59:32.024Z"
   },
   {
    "duration": 27,
    "start_time": "2023-02-15T09:59:32.059Z"
   },
   {
    "duration": 134,
    "start_time": "2023-02-15T09:59:32.088Z"
   },
   {
    "duration": 27,
    "start_time": "2023-02-15T09:59:32.224Z"
   },
   {
    "duration": 21,
    "start_time": "2023-02-15T09:59:32.257Z"
   },
   {
    "duration": 12,
    "start_time": "2023-02-15T09:59:32.279Z"
   },
   {
    "duration": 10,
    "start_time": "2023-02-15T09:59:32.293Z"
   },
   {
    "duration": 33,
    "start_time": "2023-02-15T09:59:32.304Z"
   },
   {
    "duration": 20,
    "start_time": "2023-02-15T09:59:32.349Z"
   },
   {
    "duration": 15,
    "start_time": "2023-02-15T09:59:32.372Z"
   },
   {
    "duration": 11,
    "start_time": "2023-02-15T09:59:32.389Z"
   },
   {
    "duration": 15,
    "start_time": "2023-02-15T09:59:32.402Z"
   },
   {
    "duration": 56,
    "start_time": "2023-02-15T09:59:32.419Z"
   },
   {
    "duration": 1247,
    "start_time": "2023-02-15T11:26:01.158Z"
   },
   {
    "duration": 220,
    "start_time": "2023-02-15T11:26:02.409Z"
   },
   {
    "duration": 31,
    "start_time": "2023-02-15T11:26:02.631Z"
   },
   {
    "duration": 23,
    "start_time": "2023-02-15T11:26:02.665Z"
   },
   {
    "duration": 30,
    "start_time": "2023-02-15T11:26:02.690Z"
   },
   {
    "duration": 50,
    "start_time": "2023-02-15T11:26:02.723Z"
   },
   {
    "duration": 12,
    "start_time": "2023-02-15T11:26:02.775Z"
   },
   {
    "duration": 90,
    "start_time": "2023-02-15T11:26:02.790Z"
   },
   {
    "duration": 90,
    "start_time": "2023-02-15T11:26:02.882Z"
   },
   {
    "duration": 70,
    "start_time": "2023-02-15T11:26:02.974Z"
   },
   {
    "duration": 34,
    "start_time": "2023-02-15T11:26:03.046Z"
   },
   {
    "duration": 8,
    "start_time": "2023-02-15T11:26:03.081Z"
   },
   {
    "duration": 26,
    "start_time": "2023-02-15T11:26:03.090Z"
   },
   {
    "duration": 47,
    "start_time": "2023-02-15T11:26:03.118Z"
   },
   {
    "duration": 26,
    "start_time": "2023-02-15T11:26:03.167Z"
   },
   {
    "duration": 35,
    "start_time": "2023-02-15T11:26:03.195Z"
   },
   {
    "duration": 21,
    "start_time": "2023-02-15T11:26:03.231Z"
   },
   {
    "duration": 16,
    "start_time": "2023-02-15T11:26:03.254Z"
   },
   {
    "duration": 15,
    "start_time": "2023-02-15T11:26:03.272Z"
   },
   {
    "duration": 328,
    "start_time": "2023-02-15T11:26:03.289Z"
   },
   {
    "duration": 35,
    "start_time": "2023-02-15T11:26:03.620Z"
   },
   {
    "duration": 16,
    "start_time": "2023-02-15T11:26:03.657Z"
   },
   {
    "duration": 15,
    "start_time": "2023-02-15T11:26:03.674Z"
   },
   {
    "duration": 50,
    "start_time": "2023-02-15T11:26:03.691Z"
   },
   {
    "duration": 37,
    "start_time": "2023-02-15T11:26:03.743Z"
   },
   {
    "duration": 28,
    "start_time": "2023-02-15T11:26:03.782Z"
   },
   {
    "duration": 82,
    "start_time": "2023-02-15T11:26:03.812Z"
   },
   {
    "duration": 23,
    "start_time": "2023-02-15T11:26:03.897Z"
   },
   {
    "duration": 21,
    "start_time": "2023-02-15T11:26:03.938Z"
   },
   {
    "duration": 78,
    "start_time": "2023-02-15T11:26:03.961Z"
   },
   {
    "duration": 17,
    "start_time": "2023-02-15T11:26:04.040Z"
   },
   {
    "duration": 81,
    "start_time": "2023-02-15T11:26:04.059Z"
   },
   {
    "duration": 39,
    "start_time": "2023-02-15T11:26:04.142Z"
   },
   {
    "duration": 76,
    "start_time": "2023-02-15T11:26:04.184Z"
   },
   {
    "duration": 37,
    "start_time": "2023-02-15T11:26:04.262Z"
   },
   {
    "duration": 229,
    "start_time": "2023-02-15T11:26:04.301Z"
   },
   {
    "duration": 14,
    "start_time": "2023-02-15T11:26:04.531Z"
   },
   {
    "duration": 22,
    "start_time": "2023-02-15T11:26:04.547Z"
   },
   {
    "duration": 95,
    "start_time": "2023-02-15T11:26:04.570Z"
   },
   {
    "duration": 6,
    "start_time": "2023-02-15T11:26:04.667Z"
   },
   {
    "duration": 24,
    "start_time": "2023-02-15T11:26:04.675Z"
   },
   {
    "duration": 24,
    "start_time": "2023-02-15T11:26:04.701Z"
   },
   {
    "duration": 15,
    "start_time": "2023-02-15T11:26:04.727Z"
   },
   {
    "duration": 14,
    "start_time": "2023-02-15T11:26:04.744Z"
   },
   {
    "duration": 11,
    "start_time": "2023-02-15T11:26:04.760Z"
   },
   {
    "duration": 25,
    "start_time": "2023-02-15T11:26:04.773Z"
   },
   {
    "duration": 12,
    "start_time": "2023-02-15T11:26:04.800Z"
   },
   {
    "duration": 11,
    "start_time": "2023-02-15T11:26:04.814Z"
   },
   {
    "duration": 22,
    "start_time": "2023-02-15T11:26:04.827Z"
   }
  ],
  "kernelspec": {
   "display_name": "Python 3 (ipykernel)",
   "language": "python",
   "name": "python3"
  },
  "language_info": {
   "codemirror_mode": {
    "name": "ipython",
    "version": 3
   },
   "file_extension": ".py",
   "mimetype": "text/x-python",
   "name": "python",
   "nbconvert_exporter": "python",
   "pygments_lexer": "ipython3",
   "version": "3.9.13"
  },
  "toc": {
   "base_numbering": 1,
   "nav_menu": {},
   "number_sections": true,
   "sideBar": true,
   "skip_h1_title": true,
   "title_cell": "Table of Contents",
   "title_sidebar": "Contents",
   "toc_cell": false,
   "toc_position": {},
   "toc_section_display": true,
   "toc_window_display": false
  }
 },
 "nbformat": 4,
 "nbformat_minor": 2
}
